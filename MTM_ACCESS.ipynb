{
 "cells": [
  {
   "cell_type": "markdown",
   "metadata": {},
   "source": [
    "# <center>Minimum Transformation Method\n",
    "## <center>An inverse model for inferring surface fluxes and mixing from gridded hydrographic TS data, <br> by Taimoor Sohail and Jan D. Zika\n"
   ]
  },
  {
   "cell_type": "markdown",
   "metadata": {},
   "source": [
    "\n",
    "##### <center>We use an optimal transport method, minimzing a cost function which respects the volume and mass conservation, and the fundamental physics of mixing in TS space. <br>See also: Jan D Zika et al. (2021) [www.doi.org/10.1175/JCLI-D-20-0355.1 ] for a simpler version of this model which optimizes ocean circulation only.\n",
    "------------"
   ]
  },
  {
   "cell_type": "markdown",
   "metadata": {},
   "source": [
    "### __The code is laid out as follows:__\n",
    "#### A) Pre-processing\n",
    "i) Load necessary modules for computation \\\n",
    "ii) Define key parameters\n",
    "#### B) Load Data\n",
    "#### C) Define constraints\n",
    "i) Define Connectivity \\\n",
    "ii) Define weights\n",
    "#### D) Run optimisation\n",
    "#### E) Save Output\n",
    "---------"
   ]
  },
  {
   "cell_type": "markdown",
   "metadata": {},
   "source": [
    "## A) Pre-processing"
   ]
  },
  {
   "cell_type": "markdown",
   "metadata": {},
   "source": [
    "### i) Load necessary modules for computation"
   ]
  },
  {
   "cell_type": "code",
   "execution_count": 1,
   "metadata": {},
   "outputs": [],
   "source": [
    "## Module to run the minimisation\n",
    "from WM_Methods import MTM\n",
    "## Module to track runtime of cells and loops\n",
    "import time\n",
    "from tqdm.notebook import tqdm\n",
    "## Suppress warnings related to division by zero\n",
    "import warnings\n",
    "warnings.filterwarnings('ignore')\n",
    "## Module to load files and handle array computations\n",
    "import xarray as xr\n",
    "import numpy as np\n",
    "## Modules to plot outputs\n",
    "import matplotlib.pyplot as plt\n",
    "import matplotlib.patches as patches\n",
    "# Specify font properties for plots\n",
    "# from matplotlib import rc\n",
    "# font = {'family' : 'DejaVu Sans',\n",
    "#         'weight' : 'normal',\n",
    "#         'size'   : 16}\n",
    "\n",
    "# rc('font', **font)"
   ]
  },
  {
   "cell_type": "markdown",
   "metadata": {},
   "source": [
    "### ii) Define key parameters"
   ]
  },
  {
   "cell_type": "code",
   "execution_count": 2,
   "metadata": {},
   "outputs": [],
   "source": [
    "# Thermal expansion, haline contraction and true scale factor\n",
    "alph = 1.7657*10**-4\n",
    "bet = 7.5544*10**-4\n",
    "\n",
    "volnorming = 10**15 #normalising coeffcients\n",
    "areanorming = 10**12 #normalising coeffcients\n",
    "ST_scale=bet/alph\n",
    "\n",
    "# Establish basic constants \n",
    "yr2sec = 365.25*24*60*60\n",
    "Cp=4000\n",
    "rho=1024\n",
    "S0=35\n",
    "\n",
    "# If Surface fluxes are available\n",
    "SF = True\n",
    "# To run the optimisation twice \n",
    "Opt_twice = False\n",
    "\n",
    "# Range of years of which 'early' and 'late' are defined\n",
    "\n",
    "if SF:\n",
    "    ## ERA5 begins in 1979 so we have to change our \"early\" and \"late\" periods\n",
    "    dyrs = 500\n",
    "    init_early = 0\n",
    "    init_late = 0\n",
    "    Early_period = (np.array([init_early,init_early+dyrs]) - init_early)*12\n",
    "    Late_period = (np.array([init_late,init_late+dyrs]) - init_early)*12\n",
    "    range_yrs = init_late-init_early+1\n",
    "else:\n",
    "    dyrs = 9\n",
    "    init_early = 1979\n",
    "    init_late = 2006\n",
    "    Early_period = (np.array([init_early,init_early+dyrs]) - init_early)*12\n",
    "    Late_period = (np.array([init_late,init_late+dyrs]) - init_early)*12\n",
    "    range_yrs = init_late-init_early+1\n",
    "\n",
    "\n"
   ]
  },
  {
   "cell_type": "markdown",
   "metadata": {},
   "source": [
    "-----------\n",
    "## B) Load Data\n"
   ]
  },
  {
   "cell_type": "markdown",
   "metadata": {},
   "source": [
    "\n",
    "The data is presented as monthly T-S observations from EN4, from January 1970 to December 2014. The observations have already been binned via Binary Space Partitioning according to a specific criterion. Folowing Sohail et al. (TBD) the BSP partitioning occurs in an xyxyxyx order, shown to minimize variability in the temperature and salinity signals. \n",
    "\n"
   ]
  },
  {
   "cell_type": "code",
   "execution_count": 45,
   "metadata": {},
   "outputs": [
    {
     "name": "stdout",
     "output_type": "stream",
     "text": [
      "CPU times: user 2.78 s, sys: 1.19 s, total: 3.98 s\n",
      "Wall time: 5.35 s\n"
     ]
    }
   ],
   "source": [
    "%%time\n",
    "if SF:\n",
    "    ACCESS_BSP_data = xr.open_mfdataset('BSP_processed/BSP_ACCESS*.nc')\n",
    "\n",
    "## Cubic dedrifting (NOT CURRENTLY WORKING)\n",
    "## Load numpy arrays instead\n",
    "\n",
    "S_mean = ACCESS_BSP_data.S_mean.values\n",
    "T_mean = ACCESS_BSP_data.T_mean.values\n",
    "V_sum = ACCESS_BSP_data.V_sum.values\n",
    "A_sum = ACCESS_BSP_data.A_sum.values\n",
    "hfds_sum = ACCESS_BSP_data.hfds_sum.values\n",
    "wfo_sum = ACCESS_BSP_data.wfo_sum.values\n",
    "\n",
    "SA_dedrifted\n",
    "CT_dedrifted\n",
    "V_dedrifted\n",
    "A_dedrifted\n",
    "hfds_dedrifted\n",
    "# print(xr.polyval(ACCESS_BSP_data.Time,ACCESS_BSP_data.polyfit(dim='Time',deg=3).S_mean_polyfit_coefficients))\n",
    "# SA_dedrifted = ACCESS_BSP_data.S_mean - xr.polyval(ACCESS_BSP_data.Time,ACCESS_BSP_data.polyfit(dim='Time',deg=3).S_mean_polyfit_coefficients)\\\n",
    "#     .where(xr.ufuncs.isfinite(ACCESS_BSP_data.S_mean))\\\n",
    "#     + ACCESS_BSP_data.S_mean.where(xr.ufuncs.isfinite(ACCESS_BSP_data.S_mean)).dropna(dim='Time', how='all')[:,0,:]\n",
    "# CT_dedrifted = ACCESS_BSP_data.T_mean - xr.polyval(ACCESS_BSP_data.Time,ACCESS_BSP_data.polyfit(dim='Time',deg=3).T_mean_polyfit_coefficients)\\\n",
    "#     + ACCESS_BSP_data.T_mean.where(xr.ufuncs.isfinite(ACCESS_BSP_data.T_mean))[:0,:]\n",
    "# V_dedrifted = ACCESS_BSP_data.V_sum - xr.polyval(ACCESS_BSP_data.Time,ACCESS_BSP_data.polyfit(dim='Time',deg=3).V_sum_polyfit_coefficients)\\\n",
    "#     + ACCESS_BSP_data.V_sum.where(xr.ufuncs.isfinite(ACCESS_BSP_data.V_sum))[:,0,:]\n",
    "# A_dedrifted = ACCESS_BSP_data.A_sum - xr.polyval(ACCESS_BSP_data.Time,ACCESS_BSP_data.polyfit(dim='Time',deg=3).A_sum_polyfit_coefficients)\\\n",
    "#     + ACCESS_BSP_data.A_sum.where(xr.ufuncs.isfinite(ACCESS_BSP_data.A_sum))[0,:,:]\n",
    "# hfds_dedrifted = ACCESS_BSP_data.hfds_sum - xr.polyval(ACCESS_BSP_data.Time,ACCESS_BSP_data.polyfit(dim='Time',deg=3).hfds_sum_polyfit_coefficients)\\\n",
    "#     + ACCESS_BSP_data.hfds_sum.where(xr.ufuncs.isfinite(ACCESS_BSP_data.hfds_sum))[0,:,:]\n",
    "# wfo_dedrifted = ACCESS_BSP_data.wfo_sum - xr.polyval(ACCESS_BSP_data.Time,ACCESS_BSP_data.polyfit(dim='Time',deg=3).wfo_sum_polyfit_coefficients)\\\n",
    "#     + ACCESS_BSP_data.wfo_sum.where(xr.ufuncs.isfinite(ACCESS_BSP_data.wfo_sum))[0,:,:]"
   ]
  },
  {
   "cell_type": "code",
   "execution_count": 35,
   "metadata": {},
   "outputs": [
    {
     "name": "stdout",
     "output_type": "stream",
     "text": [
      "[]\n"
     ]
    },
    {
     "data": {
      "image/png": "[encoded data removed]",
      "text/plain": [
       "<Figure size 432x288 with 1 Axes>"
      ]
     },
     "metadata": {
      "needs_background": "light"
     },
     "output_type": "display_data"
    }
   ],
   "source": [
    "# ACCESS_BSP_data.S_mean.isel(Basin=3,Depth=41).plot()\n",
    "# xr.polyval(ACCESS_BSP_data.Time,ACCESS_BSP_data.polyfit(dim='Time',deg=3).S_mean_polyfit_coefficients).where(xr.ufuncs.isfinite(ACCESS_BSP_data.S_mean)).isel(Basin=3,Depth=41).plot()\n",
    "# SA_dedrifted.isel(Basin=3,Depth=41).plot()\n",
    "ACCESS_BSP_data.S_mean.where(xr.ufuncs.isfinite(ACCESS_BSP_data.S_mean)).min(dim='Time', skipna=True).values)\n",
    "plt.xlim(4500,4800)\n",
    "plt.ylim(34.5,34.75)\n",
    "plt.show()\n"
   ]
  },
  {
   "cell_type": "code",
   "execution_count": 43,
   "metadata": {},
   "outputs": [
    {
     "data": {
      "text/plain": [
       "array([nan, nan, nan, ..., nan, nan, nan])"
      ]
     },
     "execution_count": 43,
     "metadata": {},
     "output_type": "execute_result"
    }
   ],
   "source": [
    "ACCESS_BSP_data.S_mean.where(xr.ufuncs.isfinite(ACCESS_BSP_data.S_mean)).dropna(dim='Time', how='all').isel(Basin=3,Depth=41).values"
   ]
  },
  {
   "cell_type": "code",
   "execution_count": 44,
   "metadata": {},
   "outputs": [
    {
     "ename": "AttributeError",
     "evalue": "'DataFrame' object has no attribute 'isel'",
     "output_type": "error",
     "traceback": [
      "\u001b[0;31m---------------------------------------------------------------------------\u001b[0m",
      "\u001b[0;31mAttributeError\u001b[0m                            Traceback (most recent call last)",
      "\u001b[0;32m<ipython-input-44-b3557b2b2982>\u001b[0m in \u001b[0;36m<module>\u001b[0;34m\u001b[0m\n\u001b[0;32m----> 1\u001b[0;31m \u001b[0mdisplay\u001b[0m\u001b[0;34m(\u001b[0m\u001b[0mACCESS_BSP_data\u001b[0m\u001b[0;34m.\u001b[0m\u001b[0mwhere\u001b[0m\u001b[0;34m(\u001b[0m\u001b[0mxr\u001b[0m\u001b[0;34m.\u001b[0m\u001b[0mufuncs\u001b[0m\u001b[0;34m.\u001b[0m\u001b[0misfinite\u001b[0m\u001b[0;34m(\u001b[0m\u001b[0mACCESS_BSP_data\u001b[0m\u001b[0;34m.\u001b[0m\u001b[0mS_mean\u001b[0m\u001b[0;34m)\u001b[0m\u001b[0;34m)\u001b[0m\u001b[0;34m.\u001b[0m\u001b[0mto_dataframe\u001b[0m\u001b[0;34m(\u001b[0m\u001b[0;34m)\u001b[0m\u001b[0;34m.\u001b[0m\u001b[0mdropna\u001b[0m\u001b[0;34m(\u001b[0m\u001b[0mhow\u001b[0m\u001b[0;34m=\u001b[0m\u001b[0;34m'all'\u001b[0m\u001b[0;34m)\u001b[0m\u001b[0;34m.\u001b[0m\u001b[0misel\u001b[0m\u001b[0;34m(\u001b[0m\u001b[0mBasin\u001b[0m\u001b[0;34m=\u001b[0m\u001b[0;36m3\u001b[0m\u001b[0;34m,\u001b[0m\u001b[0mDepth\u001b[0m\u001b[0;34m=\u001b[0m\u001b[0;36m41\u001b[0m\u001b[0;34m)\u001b[0m\u001b[0;34m.\u001b[0m\u001b[0mvalues\u001b[0m\u001b[0;34m)\u001b[0m\u001b[0;34m\u001b[0m\u001b[0;34m\u001b[0m\u001b[0m\n\u001b[0m",
      "\u001b[0;32m~/opt/anaconda3/lib/python3.7/site-packages/pandas/core/generic.py\u001b[0m in \u001b[0;36m__getattr__\u001b[0;34m(self, name)\u001b[0m\n\u001b[1;32m   5476\u001b[0m         ):\n\u001b[1;32m   5477\u001b[0m             \u001b[0;32mreturn\u001b[0m \u001b[0mself\u001b[0m\u001b[0;34m[\u001b[0m\u001b[0mname\u001b[0m\u001b[0;34m]\u001b[0m\u001b[0;34m\u001b[0m\u001b[0;34m\u001b[0m\u001b[0m\n\u001b[0;32m-> 5478\u001b[0;31m         \u001b[0;32mreturn\u001b[0m \u001b[0mobject\u001b[0m\u001b[0;34m.\u001b[0m\u001b[0m__getattribute__\u001b[0m\u001b[0;34m(\u001b[0m\u001b[0mself\u001b[0m\u001b[0;34m,\u001b[0m \u001b[0mname\u001b[0m\u001b[0;34m)\u001b[0m\u001b[0;34m\u001b[0m\u001b[0;34m\u001b[0m\u001b[0m\n\u001b[0m\u001b[1;32m   5479\u001b[0m \u001b[0;34m\u001b[0m\u001b[0m\n\u001b[1;32m   5480\u001b[0m     \u001b[0;32mdef\u001b[0m \u001b[0m__setattr__\u001b[0m\u001b[0;34m(\u001b[0m\u001b[0mself\u001b[0m\u001b[0;34m,\u001b[0m \u001b[0mname\u001b[0m\u001b[0;34m:\u001b[0m \u001b[0mstr\u001b[0m\u001b[0;34m,\u001b[0m \u001b[0mvalue\u001b[0m\u001b[0;34m)\u001b[0m \u001b[0;34m->\u001b[0m \u001b[0;32mNone\u001b[0m\u001b[0;34m:\u001b[0m\u001b[0;34m\u001b[0m\u001b[0;34m\u001b[0m\u001b[0m\n",
      "\u001b[0;31mAttributeError\u001b[0m: 'DataFrame' object has no attribute 'isel'"
     ]
    }
   ],
   "source": [
    "display(ACCESS_BSP_data.where(xr.ufuncs.isfinite(ACCESS_BSP_data.S_mean)).to_dataframe().dropna(how='all').isel(Basin=3,Depth=41).values)"
   ]
  },
  {
   "cell_type": "code",
   "execution_count": 5,
   "metadata": {},
   "outputs": [],
   "source": [
    "# if SF:\n",
    "#     ## Early Period\n",
    "#     Part_early = ACCESS_BSP_data.Partitions.isel(Time=slice(Early_period[0],Early_period[1])).mean('Time')\n",
    "#     SA_early =  SA_dedrifted.isel(Time=slice(Early_period[0],Early_period[1])).mean('Time')\n",
    "#     CT_early = CT_dedrifted.isel(Time=slice(Early_period[0],Early_period[1])).mean('Time')\n",
    "#     V_early = V_dedrifted.isel(Time=slice(Early_period[0],Early_period[1])).mean('Time')\n",
    "#     A_early = A_dedrifted.isel(Time=slice(Early_period[0],Early_period[1])).mean('Time')\n",
    "\n",
    "#     ## Late Period\n",
    "#     Part_late = ACCESS_BSP_data.Partitions.isel(Time=slice(Late_period[0],Late_period[1])).mean('Time')\n",
    "#     SA_late =  SA_dedrifted.isel(Time=slice(Late_period[0],Late_period[1])).mean('Time')\n",
    "#     CT_late = CT_dedrifted.isel(Time=slice(Late_period[0],Late_period[1])).mean('Time')\n",
    "#     V_late = V_dedrifted.isel(Time=slice(Late_period[0],Late_period[1])).mean('Time')\n",
    "#     A_late = A_dedrifted.isel(Time=slice(Late_period[0],Late_period[1])).mean('Time')\n",
    "\n",
    "#     Basins = ACCESS_BSP_data.Basin.values\n",
    "\n",
    "if SF:\n",
    "    ## Early Period\n",
    "    Part_early = ACCESS_BSP_data.Partitions.isel(Time=slice(Early_period[0],Early_period[1])).mean('Time')\n",
    "    SA_early =  ACCESS_BSP_data.S_mean.isel(Time=slice(Early_period[0],Early_period[1])).mean('Time')\n",
    "    CT_early = ACCESS_BSP_data.T_mean.isel(Time=slice(Early_period[0],Early_period[1])).mean('Time')\n",
    "    V_early = ACCESS_BSP_data.V_sum.isel(Time=slice(Early_period[0],Early_period[1])).mean('Time')\n",
    "    A_early = ACCESS_BSP_data.A_sum.isel(Time=slice(Early_period[0],Early_period[1])).mean('Time')\n",
    "\n",
    "    ## Late Period\n",
    "    Part_late = ACCESS_BSP_data.Partitions.isel(Time=slice(Late_period[0],Late_period[1])).mean('Time')\n",
    "    SA_late =  ACCESS_BSP_data.S_mean.isel(Time=slice(Late_period[0],Late_period[1])).mean('Time')\n",
    "    CT_late = ACCESS_BSP_data.T_mean.isel(Time=slice(Late_period[0],Late_period[1])).mean('Time')\n",
    "    V_late = ACCESS_BSP_data.V_sum.isel(Time=slice(Late_period[0],Late_period[1])).mean('Time')\n",
    "    A_late = ACCESS_BSP_data.A_sum.isel(Time=slice(Late_period[0],Late_period[1])).mean('Time')\n",
    "\n",
    "    Basins = ACCESS_BSP_data.Basin.values"
   ]
  },
  {
   "cell_type": "code",
   "execution_count": 6,
   "metadata": {},
   "outputs": [],
   "source": [
    "## Load ERA5 data here, if provided\n",
    "if SF:\n",
    "    time = ACCESS_BSP_data.Time.values\n",
    "    ## Calculate the time-mean hfds and wfo\n",
    "    # dhfds = hfds_dedrifted.mean('Time') # units: W\n",
    "    # dwfo = wfo_dedrifted.mean('Time') # units: kg/s\n",
    "    dhfds = ACCESS_BSP_data.hfds_sum.mean('Time') # units: W\n",
    "    dwfo = ACCESS_BSP_data.wfo_sum.mean('Time') # units: kg/s\n",
    "\n",
    "    ## Convert dflux to equivalent T or S change\n",
    "    dT_hfds = dhfds/(Cp*rho*V_early)*yr2sec # units: C/yr\n",
    "    dVol_wfo = -dwfo/rho*yr2sec  # units: m3\n",
    "    dS_wfo = -dwfo*S0/(rho*V_early)*yr2sec # units: g/kg/yr\n",
    "    "
   ]
  },
  {
   "cell_type": "code",
   "execution_count": 7,
   "metadata": {},
   "outputs": [],
   "source": [
    "\n",
    "# Flatten the early and late variables to a 1D array\n",
    "Vol_1 = V_early.values.flatten()\n",
    "Vol_2 = V_late.values.flatten()\n",
    "S_1 = SA_early.values.flatten()-S0 # Remove reference salinity S0\n",
    "S_2 = SA_late.values.flatten()-S0 # Remove reference salinity S0\n",
    "T_1 = CT_early.values.flatten()\n",
    "T_2 = CT_late.values.flatten()\n",
    "A_1 = A_early.values.flatten()\n",
    "A_2 = A_late.values.flatten()\n",
    "\n",
    "# Do the same for basin index\n",
    "Basin_1 = np.zeros_like(V_early)\n",
    "Basin_2 = np.zeros_like(V_early)\n",
    "Basin_names = []\n",
    "for i in range(np.array(Basins).size):\n",
    "    Basin_1[i,:] = i\n",
    "    Basin_2[i,:] = i\n",
    "    for j in range(V_early.shape[-1]):\n",
    "        #... and for basin name\n",
    "        Basin_names.append(Basins[i])\n",
    "\n",
    "Basin_1_inds = Basin_1.flatten()\n",
    "Basin_2_inds = Basin_2.flatten()\n",
    "\n",
    "#... and for the edges of the BSP bins\n",
    "## Here we calculate the mean TS edges averaged over both early and late times\n",
    "S_start = (0.5*(Part_early.values[:,:,0]+Part_late.values[:,:,0])).flatten()-S0 # Remove reference salinity S0\n",
    "S_end = (0.5*(Part_early.values[:,:,1]+Part_late.values[:,:,1])).flatten()-S0 # Remove reference salinity S0\n",
    "T_start = (0.5*(Part_early.values[:,:,2]+Part_late.values[:,:,2])).flatten()\n",
    "T_end = (0.5*(Part_early.values[:,:,3]+Part_late.values[:,:,3])).flatten()\n",
    "\n",
    "# Any NaNs are zeroed out\n",
    "S_1[np.isnan(S_1)] = 0\n",
    "S_2[np.isnan(S_2)] = 0\n",
    "T_1[np.isnan(T_1)] = 0\n",
    "T_2[np.isnan(T_2)] = 0"
   ]
  },
  {
   "cell_type": "code",
   "execution_count": 8,
   "metadata": {},
   "outputs": [],
   "source": [
    "## IF SURFACE FLUXES ARE PROVIDED -- add here ##\n",
    "if SF:\n",
    "    S_pre = SA_early.values.flatten()-S0\n",
    "    # S_1 = S_pre+dS_wfo.values.flatten()\n",
    "    ## Salinity is a function of the volume flux due to WC change\n",
    "    S_1 = ((SA_early.values.flatten()*V_early.values.flatten())/(V_early.values.flatten()+dVol_wfo.values.flatten()))-S0\n",
    "    T_pre = CT_early.values.flatten()\n",
    "    T_1 = CT_early.values.flatten()+dT_hfds.values.flatten()\n",
    "    ## Volume is a function of the volume flux due to WC change\n",
    "    Vol_1 = V_early.values.flatten()+dVol_wfo.values.flatten()\n",
    "    ## We change V2 by the total volume imbalance (proportional to the initial volume of the bin)\n",
    "    Vol_2 = V_late.values.flatten()-(V_late.values.flatten()/(V_late.values.flatten()).sum())*((V_late.values.flatten()).sum()-(V_early.values.flatten()+dVol_wfo.values.flatten()).sum())\n",
    "    \n",
    "    S_1[np.isnan(S_1)] = 0\n",
    "    T_1[np.isnan(T_1)] = 0\n",
    "    S_1[~np.isfinite(S_1)] = 0\n",
    "    T_1[~np.isfinite(T_1)] = 0"
   ]
  },
  {
   "cell_type": "code",
   "execution_count": 9,
   "metadata": {},
   "outputs": [],
   "source": [
    "## Here, we create the tracers and volumes matrices, which will be fed into the MTM function\n",
    "\n",
    "volumes = np.stack((Vol_1, Vol_2), axis=0)/volnorming # Shape: [2 x N]\n",
    "\n",
    "salinities = np.stack((S_1, S_2), axis=0)\n",
    "temps = np.stack((T_1, T_2), axis=0)\n",
    "\n",
    "tracers = np.stack((salinities, temps),axis=1) # Shape: [2 x M x N], where M = 2 for just T and S, and M>2 for T,S+other tracers"
   ]
  },
  {
   "cell_type": "code",
   "execution_count": 10,
   "metadata": {},
   "outputs": [
    {
     "name": "stdout",
     "output_type": "stream",
     "text": [
      "Total number of bins = 1152\n"
     ]
    }
   ],
   "source": [
    "print('Total number of bins =', int(Vol_1.shape[0]))\n",
    "N = int(Vol_1.shape[0])"
   ]
  },
  {
   "cell_type": "markdown",
   "metadata": {},
   "source": [
    "---------------\n",
    "## C) Define Constraints"
   ]
  },
  {
   "cell_type": "markdown",
   "metadata": {},
   "source": [
    "### i) Define Connectivity"
   ]
  },
  {
   "cell_type": "markdown",
   "metadata": {},
   "source": [
    "We must define whether a BSP bin is allowed to transport volume to another BSP bin. In the simplest case, all bins are allowed to transport to one another - but this yields nonphysical transport across vast distances and TS bounds.\n",
    "To improve on this, two connectivity constraints are used: \n",
    "1) Are the basins adjacent? This is defined via the connectivity array, below\n",
    "2) If YES, do the BSP bins have overlapping (or the same) TS boundaries?\\\n",
    "If yes, the bins are connected. If no, they are not.\n"
   ]
  },
  {
   "cell_type": "code",
   "execution_count": 11,
   "metadata": {},
   "outputs": [],
   "source": [
    "# Array defining the connection between the 9 basins;\n",
    "# 1 = connected, 0 = disconnected\n",
    "connectivity_array = np.zeros((Basins.size,Basins.size))\n",
    "\n",
    "connectivity_array[0,:] = [1, 1, 0, 0, 0, 0, 0, 0, 0]\n",
    "connectivity_array[1,:] = [1, 1, 1, 0, 0, 0, 0, 0, 0]\n",
    "connectivity_array[2,:] = [0, 1, 1, 1, 0, 0, 0, 0, 0]\n",
    "connectivity_array[3,:] = [0, 0, 1, 1, 0, 0, 0, 0, 1]\n",
    "connectivity_array[4,:] = [0, 0, 0, 0, 1, 0, 1, 0, 1]\n",
    "connectivity_array[5,:] = [0, 0, 0, 0, 0, 1, 1, 0, 1]\n",
    "connectivity_array[6,:] = [0, 0, 0, 0, 1, 1, 1, 1, 0]\n",
    "connectivity_array[7,:] = [0, 0, 0, 0, 0, 0, 1, 1, 0]\n",
    "connectivity_array[8,:] = [0, 0, 0, 1, 1, 1, 0, 0, 1]\n",
    "\n",
    "# Array defining the transport between the 9 basins;\n",
    "# +/-1 = connected (North = +, East = +), 0 = no constraint\n",
    "transport_array = np.zeros((Basins.size,Basins.size))\n",
    "\n",
    "transport_array[4,:] = [0, 0, 0, 0, 0, 0, 1, 0, 0]\n",
    "transport_array[6,:] = [0, 0, 0, 0, -1, 0, 0, 0, 0]"
   ]
  },
  {
   "cell_type": "code",
   "execution_count": 12,
   "metadata": {},
   "outputs": [
    {
     "data": {
      "application/vnd.jupyter.widget-view+json": {
       "model_id": "96a535bbf4b7438b8b03cb0737e6f03e",
       "version_major": 2,
       "version_minor": 0
      },
      "text/plain": [
       "  0%|          | 0/1152 [00:00<?, ?it/s]"
      ]
     },
     "metadata": {},
     "output_type": "display_data"
    }
   ],
   "source": [
    "# Define whether a bin is connected to every other bin\n",
    "# The two constraints used are: are the basins adjacent? \n",
    "# If yes, are the bin indices the same? \n",
    "# If yes, the bins are connected; if no, they are not connected. \n",
    "connected = np.zeros((Vol_1.size, Vol_1.size))\n",
    "trans_big = np.zeros((Vol_1.size, Vol_1.size))\n",
    "\n",
    "for i in tqdm(range(Vol_1.size)):\n",
    "    for j in range(Vol_2.size):\n",
    "        trans_big[i,j] = transport_array[int(Basin_1_inds[i]), int(Basin_2_inds[j])]\n",
    "        if connectivity_array[int(Basin_1_inds[i]), int(Basin_2_inds[j])]>0:\n",
    "                if Basin_names[i] == Basin_names[j]:\n",
    "                    connected[i,j] = connectivity_array[int(Basin_1_inds[i]), int(Basin_2_inds[j])]\n",
    "                elif S_start[i]==S_start[j] and T_start[i]==T_start[j]:\n",
    "                    connected[i,j] = connectivity_array[int(Basin_1_inds[i]), int(Basin_2_inds[j])]\n",
    "\n",
    "constraints = connected # Shape: An [N x N] matrix\n",
    "\n",
    "transport = trans_big  # Shape: An [N x N] matrix"
   ]
  },
  {
   "cell_type": "markdown",
   "metadata": {},
   "source": [
    "### ii) Define Weights"
   ]
  },
  {
   "cell_type": "code",
   "execution_count": 13,
   "metadata": {},
   "outputs": [],
   "source": [
    "## We create a weight matrix\n",
    "# Note that the code is very sensitive to the weights we input, and may break\n",
    "area_weight = np.log10(areanorming)/(np.log10(A_2))\n",
    "area_weight[area_weight==0] = 10\n",
    "weights = np.stack((ST_scale*area_weight,area_weight), axis=0) # Shape: An [M x N] matrix\n"
   ]
  },
  {
   "cell_type": "markdown",
   "metadata": {},
   "source": [
    "-----------------\n",
    "## D) Run Optimisation"
   ]
  },
  {
   "cell_type": "code",
   "execution_count": 14,
   "metadata": {},
   "outputs": [
    {
     "name": "stdout",
     "output_type": "stream",
     "text": [
      "===============================================================================\n",
      "                                     CVXPY                                     \n",
      "                                    v1.1.13                                    \n",
      "===============================================================================\n",
      "(CVXPY) Jul 07 04:51:00 PM: Your problem has 149760 variables, 3 constraints, and 0 parameters.\n",
      "(CVXPY) Jul 07 04:51:02 PM: It is compliant with the following grammars: DCP, DQCP\n",
      "(CVXPY) Jul 07 04:51:02 PM: (If you need to solve this problem multiple times, but with different data, consider using parameters.)\n",
      "(CVXPY) Jul 07 04:51:02 PM: CVXPY will first compile your problem; then, it will invoke a numerical solver to obtain a solution.\n",
      "-------------------------------------------------------------------------------\n",
      "                                  Compilation                                  \n",
      "-------------------------------------------------------------------------------\n",
      "(CVXPY) Jul 07 04:51:02 PM: Compiling problem (target solver=MOSEK).\n",
      "(CVXPY) Jul 07 04:51:02 PM: Reduction chain: Dcp2Cone -> CvxAttr2Constr -> ConeMatrixStuffing -> MOSEK\n",
      "(CVXPY) Jul 07 04:51:02 PM: Applying reduction Dcp2Cone\n",
      "(CVXPY) Jul 07 04:51:02 PM: Applying reduction CvxAttr2Constr\n",
      "(CVXPY) Jul 07 04:51:02 PM: Applying reduction ConeMatrixStuffing\n",
      "(CVXPY) Jul 07 04:51:26 PM: Applying reduction MOSEK\n",
      "(CVXPY) Jul 07 04:51:26 PM: Finished problem compilation (took 2.422e+01 seconds).\n",
      "-------------------------------------------------------------------------------\n",
      "                                Numerical solver                               \n",
      "-------------------------------------------------------------------------------\n",
      "(CVXPY) Jul 07 04:51:26 PM: Invoking solver MOSEK  to obtain a solution.\n",
      "\n",
      "\n",
      "Problem\n",
      "  Name                   :                 \n",
      "  Objective sense        : max             \n",
      "  Type                   : CONIC (conic optimization problem)\n",
      "  Constraints            : 149761          \n",
      "  Cones                  : 1               \n",
      "  Scalar variables       : 154371          \n",
      "  Matrix variables       : 0               \n",
      "  Integer variables      : 0               \n",
      "\n",
      "Optimizer started.\n",
      "Problem\n",
      "  Name                   :                 \n",
      "  Objective sense        : max             \n",
      "  Type                   : CONIC (conic optimization problem)\n",
      "  Constraints            : 149761          \n",
      "  Cones                  : 1               \n",
      "  Scalar variables       : 154371          \n",
      "  Matrix variables       : 0               \n",
      "  Integer variables      : 0               \n",
      "\n",
      "Optimizer  - threads                : 12              \n",
      "Optimizer  - solved problem         : the dual        \n",
      "Optimizer  - Constraints            : 3407\n",
      "Optimizer  - Cones                  : 1\n",
      "Optimizer  - Scalar variables       : 89050             conic                  : 1706            \n",
      "Optimizer  - Semi-definite variables: 0                 scalarized             : 0               \n",
      "Factor     - setup time             : 0.09              dense det. time        : 0.00            \n",
      "Factor     - ML order time          : 0.03              GP order time          : 0.00            \n",
      "Factor     - nonzeros before factor : 2.70e+05          after factor           : 4.31e+05        \n",
      "Factor     - dense dim.             : 2                 flops                  : 6.82e+07        \n",
      "ITE PFEAS    DFEAS    GFEAS    PRSTATUS   POBJ              DOBJ              MU       TIME  \n",
      "0   0.0e+00  7.8e+01  2.0e+00  0.00e+00   -1.000000000e+00  0.000000000e+00   1.0e+00  0.41  \n",
      "1   2.0e-15  6.7e+01  1.6e+00  2.52e+00   -6.147666560e-01  5.202275506e-02   8.6e-01  0.49  \n",
      "2   1.8e-15  4.4e+01  6.2e-01  2.62e+00   -2.823633062e-01  1.397340000e-02   5.7e-01  0.55  \n",
      "3   3.6e-15  3.8e+01  3.7e-01  3.62e+00   -1.747237889e-01  5.021282869e-03   4.9e-01  0.60  \n",
      "4   4.4e-14  3.3e+01  2.6e-01  2.95e+00   -1.048000509e-01  1.225697600e-02   4.2e-01  0.65  \n",
      "5   2.8e-14  2.2e+01  1.3e-01  2.44e+00   -2.756349967e-02  2.508686271e-02   2.8e-01  0.70  \n",
      "6   2.1e-13  1.2e+01  5.1e-02  1.79e+00   1.210611693e-02   3.572063341e-02   1.6e-01  0.75  \n",
      "7   1.4e-13  6.5e+00  1.9e-02  1.24e+00   5.455158140e-02   6.713757173e-02   8.4e-02  0.80  \n",
      "8   2.5e-14  3.0e+00  6.7e-03  9.01e-01   1.521834034e-01   1.588200968e-01   3.9e-02  0.85  \n",
      "9   2.8e-11  2.3e+00  4.9e-03  5.02e-01   2.980881963e-01   3.036910221e-01   3.0e-02  0.91  \n",
      "10  2.3e-11  1.9e+00  4.1e-03  2.39e-01   3.556270887e-01   3.605015321e-01   2.4e-02  0.96  \n",
      "11  2.8e-11  1.8e+00  3.7e-03  2.71e-01   7.390616676e-01   7.438949090e-01   2.3e-02  1.01  \n",
      "12  4.6e-11  1.2e+00  2.7e-03  5.87e-02   8.024965599e-01   8.058912782e-01   1.5e-02  1.06  \n",
      "13  4.2e-11  9.8e-01  1.8e-03  2.38e-01   2.799787451e+00   2.803465908e+00   1.3e-02  1.11  \n",
      "14  4.3e-11  4.7e-01  9.7e-04  -1.06e-01  3.584319161e+00   3.585539182e+00   6.1e-03  1.16  \n",
      "15  3.1e-11  2.9e-01  4.1e-04  4.51e-01   7.663883575e+00   7.665658070e+00   3.8e-03  1.21  \n",
      "16  1.3e-11  1.5e-01  1.7e-04  3.96e-01   1.046727514e+01   1.046840028e+01   2.0e-03  1.26  \n",
      "17  3.3e-12  8.5e-02  7.3e-05  5.45e-01   1.299388008e+01   1.299460025e+01   1.1e-03  1.31  \n",
      "18  8.5e-12  6.4e-02  4.9e-05  6.62e-01   1.413500821e+01   1.413559430e+01   8.3e-04  1.36  \n",
      "19  1.5e-11  4.3e-02  2.7e-05  7.33e-01   1.559340833e+01   1.559383737e+01   5.5e-04  1.41  \n",
      "20  2.5e-11  3.4e-02  2.0e-05  8.33e-01   1.628796490e+01   1.628832376e+01   4.4e-04  1.45  \n",
      "21  3.3e-11  3.1e-02  1.7e-05  8.68e-01   1.660739203e+01   1.660771913e+01   4.0e-04  1.51  \n",
      "22  5.2e-11  2.3e-02  1.0e-05  8.86e-01   1.740604033e+01   1.740628800e+01   2.9e-04  1.55  \n",
      "23  7.9e-11  1.7e-02  6.7e-06  9.19e-01   1.802157621e+01   1.802176538e+01   2.2e-04  1.60  \n",
      "24  1.1e-10  1.2e-02  4.1e-06  9.25e-01   1.861122348e+01   1.861136191e+01   1.5e-04  1.65  \n",
      "25  1.3e-10  9.6e-03  2.9e-06  9.25e-01   1.895795138e+01   1.895806368e+01   1.2e-04  1.70  \n",
      "26  1.4e-10  8.7e-03  2.5e-06  9.40e-01   1.909369056e+01   1.909379315e+01   1.1e-04  1.75  \n",
      "27  1.6e-10  6.2e-03  1.5e-06  9.54e-01   1.950335867e+01   1.950343291e+01   8.0e-05  1.80  \n",
      "28  2.1e-10  3.8e-03  7.2e-07  1.00e+00   1.991262667e+01   1.991267369e+01   4.9e-05  1.85  \n",
      "29  2.7e-10  3.1e-03  5.3e-07  1.06e+00   2.004806792e+01   2.004810627e+01   4.0e-05  1.90  \n",
      "30  3.9e-10  2.2e-03  3.1e-07  1.08e+00   2.021527035e+01   2.021529773e+01   2.9e-05  1.95  \n",
      "31  6.7e-10  1.3e-03  1.4e-07  1.09e+00   2.040036661e+01   2.040038241e+01   1.7e-05  2.00  \n",
      "32  7.9e-10  1.2e-03  1.2e-07  1.10e+00   2.042105552e+01   2.042107003e+01   1.6e-05  2.05  \n",
      "33  1.3e-09  8.0e-04  6.4e-08  1.10e+00   2.050268345e+01   2.050269300e+01   1.0e-05  2.10  \n",
      "34  1.7e-09  6.8e-04  5.0e-08  1.10e+00   2.052652180e+01   2.052652985e+01   8.8e-06  2.15  \n",
      "35  2.6e-09  5.1e-04  3.2e-08  1.09e+00   2.055962589e+01   2.055963183e+01   6.5e-06  2.20  \n",
      "36  3.3e-09  4.3e-04  2.5e-08  1.08e+00   2.057434706e+01   2.057435208e+01   5.5e-06  2.25  \n",
      "37  4.7e-09  3.2e-04  1.6e-08  1.07e+00   2.059451307e+01   2.059451684e+01   4.2e-06  2.30  \n",
      "38  7.3e-09  2.1e-04  8.4e-09  1.06e+00   2.061535227e+01   2.061535475e+01   2.8e-06  2.35  \n",
      "39  9.3e-09  1.8e-04  6.5e-09  1.05e+00   2.062126698e+01   2.062126907e+01   2.3e-06  2.40  \n",
      "40  1.1e-08  1.6e-04  5.4e-09  1.04e+00   2.062522403e+01   2.062522587e+01   2.0e-06  2.45  \n",
      "41  1.5e-08  1.2e-04  3.7e-09  1.03e+00   2.063138839e+01   2.063138982e+01   1.6e-06  2.50  \n",
      "42  1.6e-08  1.2e-04  3.5e-09  1.04e+00   2.063226695e+01   2.063226833e+01   1.5e-06  2.55  \n",
      "43  2.0e-08  9.5e-05  2.4e-09  1.03e+00   2.063646989e+01   2.063647099e+01   1.2e-06  2.60  \n",
      "44  2.7e-08  7.4e-05  1.7e-09  1.03e+00   2.064001914e+01   2.064002001e+01   9.6e-07  2.65  \n",
      "45  3.3e-08  6.2e-05  1.3e-09  1.02e+00   2.064232021e+01   2.064232093e+01   7.9e-07  2.70  \n",
      "46  3.7e-08  5.5e-05  1.1e-09  1.02e+00   2.064344106e+01   2.064344171e+01   7.1e-07  2.75  \n",
      "47  4.3e-08  4.9e-05  9.2e-10  1.01e+00   2.064452373e+01   2.064452431e+01   6.4e-07  2.88  \n",
      "48  4.4e-08  4.9e-05  9.0e-10  1.01e+00   2.064466949e+01   2.064467006e+01   6.3e-07  2.94  \n",
      "49  4.5e-08  4.8e-05  8.8e-10  1.01e+00   2.064476305e+01   2.064476361e+01   6.2e-07  2.99  \n",
      "50  6.0e-08  3.5e-05  5.4e-10  1.01e+00   2.064710625e+01   2.064710666e+01   4.5e-07  3.04  \n",
      "51  8.0e-08  2.5e-05  3.4e-10  1.00e+00   2.064872536e+01   2.064872566e+01   3.3e-07  3.09  \n",
      "52  8.6e-08  2.4e-05  3.2e-10  1.00e+00   2.064889415e+01   2.064889444e+01   3.1e-07  3.14  \n",
      "53  1.1e-07  1.9e-05  2.1e-10  1.00e+00   2.064981987e+01   2.064982010e+01   2.4e-07  3.19  \n",
      "54  1.4e-07  1.6e-05  1.7e-10  1.01e+00   2.065031232e+01   2.065031251e+01   2.1e-07  3.24  \n",
      "55  1.9e-07  1.2e-05  1.0e-10  1.01e+00   2.065105931e+01   2.065105945e+01   1.5e-07  3.29  \n",
      "56  2.5e-07  9.3e-06  7.3e-11  1.01e+00   2.065144844e+01   2.065144855e+01   1.2e-07  3.34  \n",
      "57  3.2e-07  7.4e-06  5.2e-11  1.01e+00   2.065175583e+01   2.065175592e+01   9.5e-08  3.39  \n",
      "58  4.7e-07  5.0e-06  2.8e-11  1.01e+00   2.065213517e+01   2.065213523e+01   6.4e-08  3.44  \n",
      "59  5.9e-07  4.3e-06  2.2e-11  1.01e+00   2.065224578e+01   2.065224584e+01   5.5e-08  3.49  \n",
      "60  7.6e-07  3.5e-06  1.6e-11  1.01e+00   2.065236887e+01   2.065236891e+01   4.4e-08  3.54  \n",
      "61  9.8e-07  3.0e-06  1.2e-11  1.01e+00   2.065246215e+01   2.065246219e+01   3.6e-08  3.59  \n",
      "62  1.4e-06  2.2e-06  7.4e-12  1.01e+00   2.065257280e+01   2.065257283e+01   2.6e-08  3.70  \n",
      "63  1.5e-06  2.1e-06  7.1e-12  9.93e-01   2.065257908e+01   2.065257911e+01   2.6e-08  3.74  \n",
      "64  1.8e-06  1.8e-06  5.6e-12  1.00e+00   2.065261888e+01   2.065261891e+01   2.2e-08  3.84  \n",
      "65  2.2e-06  1.7e-06  4.5e-12  1.00e+00   2.065264916e+01   2.065264918e+01   1.9e-08  3.89  \n",
      "66  2.6e-06  1.5e-06  3.5e-12  9.98e-01   2.065268078e+01   2.065268080e+01   1.6e-08  3.93  \n",
      "67  3.5e-06  1.2e-06  2.3e-12  1.00e+00   2.065272237e+01   2.065272239e+01   1.2e-08  3.97  \n",
      "68  3.9e-06  1.1e-06  2.0e-12  1.00e+00   2.065273243e+01   2.065273244e+01   1.1e-08  4.01  \n",
      "69  2.5e-06  7.4e-07  1.1e-12  1.00e+00   2.065276718e+01   2.065276718e+01   7.3e-09  4.11  \n",
      "Optimizer terminated. Time: 4.21    \n",
      "\n",
      "\n",
      "Interior-point solution summary\n",
      "  Problem status  : PRIMAL_AND_DUAL_FEASIBLE\n",
      "  Solution status : OPTIMAL\n",
      "  Primal.  obj: 2.0652767173e+01    nrm: 8e+01    Viol.  con: 7e-15    var: 6e-09    cones: 0e+00  \n",
      "  Dual.    obj: 2.0652767185e+01    nrm: 8e+01    Viol.  con: 0e+00    var: 2e-05    cones: 0e+00  \n",
      "-------------------------------------------------------------------------------\n",
      "                                    Summary                                    \n",
      "-------------------------------------------------------------------------------\n",
      "(CVXPY) Jul 07 04:51:31 PM: Problem status: optimal\n",
      "(CVXPY) Jul 07 04:51:31 PM: Optimal value: 2.065e+01\n",
      "(CVXPY) Jul 07 04:51:31 PM: Compilation took 2.422e+01 seconds\n",
      "(CVXPY) Jul 07 04:51:31 PM: Solver (including time spent in interface) took 4.562e+00 seconds\n",
      "Optimal value: 20.65275819238087\n",
      "Variable var0: value [ 2.05118874e+00  2.06465152e-01  2.41498232e-07 ...  7.05683116e-10\n",
      " -3.03064935e-09 -2.91704423e-09]\n"
     ]
    }
   ],
   "source": [
    "## We run the optimiser to get the transports between water masses and the T,S mixed and T,S adjustment\n",
    "threshold = 1*(yr2sec/volnorming) #xxx m/s\n",
    "trans_val = -15*(10**6*(yr2sec/volnorming)) # xxx Sv\n",
    "\n",
    "## Function has form MTM.optimise(tracers=tracers, volumes=volumes, cons_matrix = constraints, \n",
    "#                                 trans = [transport,trans_val], Asection = [connected_Asection,threshold], weights=weights)\n",
    "result = MTM.optimise(tracers=tracers, volumes=volumes, cons_matrix = constraints, \\\n",
    "    trans = [transport,trans_val], weights=weights)\n",
    "\n",
    "g_ij = result['g_ij'] ## An [N x N] matrix of transports between WMs\n",
    "Mixing = result['Mixing'] ## An [M x N] matrix of dtracer mixing for each WM\n",
    "Adjustment = result['Adjustment'] ## An [M x N] matrix of dtracer adjustment for each WM"
   ]
  },
  {
   "cell_type": "code",
   "execution_count": 15,
   "metadata": {},
   "outputs": [
    {
     "ename": "SyntaxError",
     "evalue": "invalid syntax (<ipython-input-15-e84414c5333e>, line 1)",
     "output_type": "error",
     "traceback": [
      "\u001b[0;36m  File \u001b[0;32m\"<ipython-input-15-e84414c5333e>\"\u001b[0;36m, line \u001b[0;32m1\u001b[0m\n\u001b[0;31m    Optimal value: 20.652761695201065\u001b[0m\n\u001b[0m                ^\u001b[0m\n\u001b[0;31mSyntaxError\u001b[0m\u001b[0;31m:\u001b[0m invalid syntax\n"
     ]
    }
   ],
   "source": [
    "# if Opt_twice:\n",
    "#     '''constraint = [G@Q = V2*C2 - G@C2]\n",
    "#         cost = cp.sum_squares( Q * volume/area )\n",
    "\n",
    "#         where C1 is the initial and C2 is the final tracer concentrations.'''\n",
    "#     result = MTM.optimise(tracers, volumes, constraints, weights)\n",
    "\n",
    "#     g_ij = result['g_ij'] ## An [N x N] matrix of transports between WMs\n",
    "#     Mixing = result['Mixing'] ## An [M x N] matrix of dtracer mixing for each WM\n",
    "#     Adjustment = result['Adjustment'] ## An [M x N] matrix of dtracer adjustment for each WM"
   ]
  },
  {
   "cell_type": "code",
   "execution_count": null,
   "metadata": {},
   "outputs": [],
   "source": [
    "## Break down the Mixing and Adjustment matrices into their constituent tracers\n",
    "dT_mixing = Mixing[1,:]\n",
    "dS_mixing = Mixing[0,:]\n",
    "dS_adj = Adjustment[0,:]\n",
    "dT_adj = Adjustment[1,:]"
   ]
  },
  {
   "cell_type": "markdown",
   "metadata": {},
   "source": [
    "----------\n",
    "## E) Save Output "
   ]
  },
  {
   "cell_type": "code",
   "execution_count": null,
   "metadata": {},
   "outputs": [],
   "source": [
    "da_dT_mixing = xr.DataArray(data = dT_mixing, dims = [\"WM_number\"],\n",
    "                           coords=dict(WM_number = np.arange(0,N)),\n",
    "                        attrs=dict(description=\"Temperature Mixing\", units=\"\\Delta K\", variable_id=\"EN4 Tmix\"))\n",
    "da_dS_mixing = xr.DataArray(data = dS_mixing, dims = [\"WM_number\"],\n",
    "                           coords=dict(WM_number = np.arange(0,N)),\n",
    "                        attrs=dict(description=\"Salinity Mixing\", units=\"\\Delta g/kg\", variable_id=\"EN4 Smix\"))\n",
    "da_dT_adjustment = xr.DataArray(data = dT_adj, dims = [\"WM_number\"],\n",
    "                           coords=dict(WM_number = np.arange(0,N)),\n",
    "                        attrs=dict(description=\"Temperature Adjustment\", units=\"\\Delta K\", variable_id=\"EN4 Tadj\"))\n",
    "da_dS_adjustment = xr.DataArray(data = dS_adj, dims = [\"WM_number\"],\n",
    "                           coords=dict(WM_number = np.arange(0,N)),\n",
    "                        attrs=dict(description=\"Salinity Adjustment\", units=\"\\Delta g/kg\", variable_id=\"EN4 Sadj\"))\n",
    "da_gij = xr.DataArray(data = g_ij*volnorming, dims = [\"WM_initial\", \"WM_final\"],\n",
    "                           coords=dict(WM_initial = np.arange(0,N), WM_final = np.arange(0,N)),\n",
    "                        attrs=dict(description=\"Volume transport\", units=\"m^3\", variable_id=\"EN4 Gij\"))\n",
    "\n",
    "## Create xarray DataSet that will hold all these DataArrays\n",
    "ds_BSP = xr.Dataset()\n",
    "ds_BSP['dT_mixing'] = da_dT_mixing\n",
    "ds_BSP['dS_mixing'] = da_dS_mixing\n",
    "ds_BSP['dT_adjustment'] = da_dT_adjustment\n",
    "ds_BSP['dS_adjustment'] = da_dS_adjustment\n",
    "ds_BSP['gij'] = da_gij\n",
    "\n",
    "if SF:\n",
    "   ds_BSP.to_netcdf('Optimisation_results/Optimal_result_ACCESS.nc', mode='w')\n"
   ]
  },
  {
   "cell_type": "code",
   "execution_count": null,
   "metadata": {},
   "outputs": [],
   "source": []
  }
 ],
 "metadata": {
  "interpreter": {
   "hash": "00ec6b5807eb4cae4bdd23e758d78199b5749ea4aa251c45b926838befc3bdc7"
  },
  "kernelspec": {
   "display_name": "Python 3.7.6 ('base')",
   "language": "python",
   "name": "python3"
  },
  "language_info": {
   "codemirror_mode": {
    "name": "ipython",
    "version": 3
   },
   "file_extension": ".py",
   "mimetype": "text/x-python",
   "name": "python",
   "nbconvert_exporter": "python",
   "pygments_lexer": "ipython3",
   "version": "3.7.6"
  }
 },
 "nbformat": 4,
 "nbformat_minor": 2
}
