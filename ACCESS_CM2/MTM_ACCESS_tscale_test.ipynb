{
 "cells": [
  {
   "attachments": {},
   "cell_type": "markdown",
   "metadata": {},
   "source": [
    "## <center>An inverse model for inferring surface fluxes and mixing from gridded hydrographic TS data, <br> by Taimoor Sohail and Jan D. Zika"
   ]
  },
  {
   "attachments": {},
   "cell_type": "markdown",
   "metadata": {},
   "source": [
    "\n",
    "##### <center>We use an optimal transport method, minimzing a cost function which respects the volume and mass conservation, and the fundamental physics of mixing in T-S space. <br>See also: Jan D Zika et al. (2021) [www.doi.org/10.1175/JCLI-D-20-0355.1 ] for a simpler version of this model which optimizes ocean circulation only.\n",
    "------------"
   ]
  },
  {
   "attachments": {},
   "cell_type": "markdown",
   "metadata": {},
   "source": [
    "### __The code is laid out as follows:__\n",
    "#### A) Pre-processing\n",
    "i) Load necessary modules for computation \\\n",
    "ii) Define key parameters\n",
    "#### B) Load Data\n",
    "#### C) Define constraints\n",
    "i) Define Connectivity \\\n",
    "ii) Define weights\n",
    "#### D) Run optimisation\n",
    "#### E) Save Output\n",
    "---------"
   ]
  },
  {
   "attachments": {},
   "cell_type": "markdown",
   "metadata": {},
   "source": [
    "## A) Pre-processing"
   ]
  },
  {
   "attachments": {},
   "cell_type": "markdown",
   "metadata": {},
   "source": [
    "### i) Load necessary modules for computation"
   ]
  },
  {
   "cell_type": "code",
   "execution_count": 2,
   "metadata": {},
   "outputs": [],
   "source": [
    "## Module to run the minimisation\n",
    "from WM_Methods import MTM\n",
    "## The linear optimisation module\n",
    "import cvxpy as cp \n",
    "## Module to track runtime of cells and loops\n",
    "import time\n",
    "from tqdm.notebook import tqdm\n",
    "## Suppress warnings related to division by zero\n",
    "import warnings\n",
    "warnings.filterwarnings('ignore')\n",
    "## Module to load files and handle array computations\n",
    "import xarray as xr\n",
    "import numpy as np\n",
    "## Modules to plot outputs\n",
    "import matplotlib.pyplot as plt\n",
    "import matplotlib.patches as patches\n",
    "import pandas as pd\n",
    "import cartopy.crs as ccrs\n",
    "import cartopy.feature as cfeature\n",
    "from mpl_toolkits.axes_grid1.inset_locator import inset_axes\n",
    "from matplotlib import gridspec\n"
   ]
  },
  {
   "attachments": {},
   "cell_type": "markdown",
   "metadata": {},
   "source": [
    "### ii) Define key parameters"
   ]
  },
  {
   "cell_type": "code",
   "execution_count": 68,
   "metadata": {},
   "outputs": [],
   "source": [
    "# Flag to set Q_prior (False = 0; True = actual fluxes)\n",
    "SF = True\n",
    "# Setting the value of the biases (only works if SF = True)\n",
    "HF_offset = 0#-5 #W/m2\n",
    "FW_offset = 0#0.5 #mm/day\n",
    "tenpc_offset = False\n",
    "# Specifying the number of BSP bins, 2^n\n",
    "tree_depth = 4"
   ]
  },
  {
   "cell_type": "code",
   "execution_count": 149,
   "metadata": {},
   "outputs": [],
   "source": [
    "volnorming = 1e15 #normalising coeffcients\n",
    "areanorming = 10**12 #normalising coeffcients\n",
    "\n",
    "# Establish basic constants \n",
    "yr2sec = 365.25*24*60*60\n",
    "# delta(time) in the ACCESS-CM2 model\n",
    "dt_OG = xr.open_mfdataset('../BSP_processed/ACCESS_CM2/dtime*.nc')\n",
    "dt_OG['time'] = np.arange(dt_OG.average_DT.size).astype(float)\n",
    "dt = dt_OG.rename({'time':'Time'})\n",
    "# Reference density, specific heat capacity and reference salinity\n",
    "rho = 1035 #kg/m^3\n",
    "Cp = 3992.10322329649\n",
    "S0=35\n",
    "\n",
    "# Range of years over which 'early' and 'late' are defined\n",
    "dyrs = 9\n",
    "# Start and end year\n",
    "init_early = 1988*12\n",
    "init_late = 1997*12\n",
    "Early_period = (np.array([init_early,init_early+dyrs*12-1]) - 1850*12)\n",
    "Late_period = (np.array([init_late,init_late+dyrs*12-1]) - 1850*12)\n",
    "range_yrs = (init_late-init_early)/12"
   ]
  },
  {
   "cell_type": "code",
   "execution_count": 187,
   "metadata": {},
   "outputs": [
    {
     "data": {
      "text/plain": [
       "0.5"
      ]
     },
     "execution_count": 187,
     "metadata": {},
     "output_type": "execute_result"
    }
   ],
   "source": [
    "int_scaling = ((np.mean(Late_period)-np.mean(Early_period))/(Late_period[-1]-Early_period[0]))\n",
    "int_scaling"
   ]
  },
  {
   "cell_type": "code",
   "execution_count": 182,
   "metadata": {},
   "outputs": [
    {
     "data": {
      "text/plain": [
       "215"
      ]
     },
     "execution_count": 182,
     "metadata": {},
     "output_type": "execute_result"
    }
   ],
   "source": [
    "Late_period[-1]-Early_period[0]"
   ]
  },
  {
   "cell_type": "code",
   "execution_count": 150,
   "metadata": {},
   "outputs": [
    {
     "name": "stdout",
     "output_type": "stream",
     "text": [
      "[1656 1763] [1764 1871] 9.0\n"
     ]
    }
   ],
   "source": [
    "print(Early_period,\\\n",
    "Late_period,\\\n",
    "range_yrs)"
   ]
  },
  {
   "attachments": {},
   "cell_type": "markdown",
   "metadata": {},
   "source": [
    "-----------\n",
    "## B) Load Data\n"
   ]
  },
  {
   "attachments": {},
   "cell_type": "markdown",
   "metadata": {},
   "source": [
    "\n",
    "The data is presented as monthly T-S observations from EN4, from January 1970 to December 2014. The observations have already been binned via Binary Space Partitioning according to a specific criterion. Folowing Sohail et al. (TBD) the BSP partitioning occurs in an xyxyxyx order, shown to minimize variability in the temperature and salinity signals. \n",
    "\n"
   ]
  },
  {
   "cell_type": "code",
   "execution_count": 151,
   "metadata": {},
   "outputs": [
    {
     "name": "stdout",
     "output_type": "stream",
     "text": [
      "CPU times: user 566 ms, sys: 23.6 ms, total: 589 ms\n",
      "Wall time: 815 ms\n"
     ]
    }
   ],
   "source": [
    "%%time\n",
    "# Load ACCESS-CM2 data (this data has already been coarsened into basins and BSP bins)\n",
    "ACCESS_BSP_data = xr.open_mfdataset('../BSP_processed/ACCESS_CM2/BSP_ACCESS_TS_hist_4_bins_*.nc')\n",
    "\n",
    "## Early Period\n",
    "Part_early = ACCESS_BSP_data.Partitions.isel(Time=slice(Early_period[0],Early_period[1])).sum('Time')/(Early_period[1]-Early_period[0])\n",
    "SA_early =  ACCESS_BSP_data.S_mean.isel(Time=slice(Early_period[0],Early_period[1])).sum('Time')/(Early_period[1]-Early_period[0])\n",
    "CT_early = (ACCESS_BSP_data.T_mean-273.15).isel(Time=slice(Early_period[0],Early_period[1])).sum('Time')/(Early_period[1]-Early_period[0])\n",
    "V_early = ACCESS_BSP_data.V_sum.isel(Time=slice(Early_period[0],Early_period[1])).sum('Time')/(Early_period[1]-Early_period[0])\n",
    "A_early = ACCESS_BSP_data.A_sum.isel(Time=slice(Early_period[0],Early_period[1])).sum('Time')/(Early_period[1]-Early_period[0])\n",
    "CTV_early = ((ACCESS_BSP_data.T_mean-273.15)*ACCESS_BSP_data.V_sum).isel(Time=slice(Early_period[0],Early_period[1])).sum('Time')/(Early_period[1]-Early_period[0])\n",
    "SAV_early = (ACCESS_BSP_data.S_mean*ACCESS_BSP_data.V_sum).isel(Time=slice(Early_period[0],Early_period[1])).sum('Time')/(Early_period[1]-Early_period[0])\n",
    "\n",
    "## Late Period\n",
    "Part_late = ACCESS_BSP_data.Partitions.isel(Time=slice(Late_period[0],Late_period[1])).sum('Time')/(Late_period[1]-Late_period[0])\n",
    "SA_late =  ACCESS_BSP_data.S_mean.isel(Time=slice(Late_period[0],Late_period[1])).sum('Time')/(Late_period[1]-Late_period[0])\n",
    "CT_late = (ACCESS_BSP_data.T_mean-273.15).isel(Time=slice(Late_period[0],Late_period[1])).sum('Time')/(Late_period[1]-Late_period[0])-273.15\n",
    "V_late = ACCESS_BSP_data.V_sum.isel(Time=slice(Late_period[0],Late_period[1])).sum('Time')/(Late_period[1]-Late_period[0])\n",
    "A_late = ACCESS_BSP_data.A_sum.isel(Time=slice(Late_period[0],Late_period[1])).sum('Time')/(Late_period[1]-Late_period[0])\n",
    "CTV_late = ((ACCESS_BSP_data.T_mean-273.15)*ACCESS_BSP_data.V_sum).isel(Time=slice(Late_period[0],Late_period[1])).sum('Time')/(Late_period[1]-Late_period[0])\n",
    "SAV_late = (ACCESS_BSP_data.S_mean*ACCESS_BSP_data.V_sum).isel(Time=slice(Late_period[0],Late_period[1])).sum('Time')/(Late_period[1]-Late_period[0])\n",
    "\n",
    "Basins = ACCESS_BSP_data.Basin.values"
   ]
  },
  {
   "cell_type": "code",
   "execution_count": 152,
   "metadata": {},
   "outputs": [],
   "source": [
    "## Load the volumetric distribution (in T-S space) of the ACCESS-CM2 model [for figure 3]\n",
    "ACCESS_TS_dist_hist = xr.open_mfdataset('~/UNSW_work/MIN_MIX_FINAL/TS_Sfunction/TS_distribution_ACCESS_CM2_hist.nc')\n",
    "# Define T; S bin limits\n",
    "tbins = ACCESS_TS_dist_hist.tbins.values\n",
    "sbins = ACCESS_TS_dist_hist.sbins.values\n",
    "dtbins = np.diff(tbins)[0]\n",
    "dsbins = np.diff(sbins)[0]"
   ]
  },
  {
   "cell_type": "code",
   "execution_count": 153,
   "metadata": {},
   "outputs": [],
   "source": [
    "# ## Plot the time-mean volume and volume anomaly in ACCESS-CM2 [Figure 3]\n",
    "\n",
    "# fig, axs = plt.subplots(1,2, figsize=(7.5*1*1.3,2.5*1.2*1.3), facecolor='w', edgecolor='k')\n",
    "# fig.subplots_adjust(hspace = .2, wspace=0.2)\n",
    "# axs = axs.ravel()\n",
    "\n",
    "# (np.log10(ACCESS_TS_dist_hist.TS_distribution/(dsbins*dtbins)).mean('time')).plot(ax=axs[0], cmap=plt.cm.viridis, cbar_kwargs={'label': r\"$log_{10}(\\overline{V})$ [m$^3$/(Kg/kg)]\"})\n",
    "# (((((ACCESS_TS_dist_hist.TS_distribution.sel(time=slice('2006-01-01', '2014-12-31'))/(dsbins*dtbins)).mean('time')) - \\\n",
    "#          (ACCESS_TS_dist_hist.TS_distribution.sel(time=slice('1979-01-01', '1987-12-31'))/(dsbins*dtbins)).mean('time')))/1e15).plot(ax=axs[1],cmap=plt.cm.bwr, cbar_kwargs={'label': r\"$V_1-V_0$ [$\\times10^{15}$m$^3$/(Kg/kg)]\"}, vmin=-5, vmax=5)\n",
    "\n",
    "# for i in range(2):\n",
    "#     # axs[i].set_xlim(30,40)\n",
    "#     # axs[i].set_ylim(-3,35)\n",
    "#     axs[0].set_ylabel('Conservative Temperature [$^{\\circ}$C]')\n",
    "#     axs[1].set_ylabel('')\n",
    "#     axs[i].set_xlabel('Practical Salinity [g/kg]')\n",
    "# axs[0].set_title('Time-mean volume distribution')\n",
    "# axs[1].set_title('Volume distribution change')\n",
    "# plt.savefig('../Figures/ACCESS_CM2_hist_TS_dist_summary.png', dpi=300, bbox_inches='tight')\n",
    "# plt.show()\n",
    "\n"
   ]
  },
  {
   "attachments": {},
   "cell_type": "markdown",
   "metadata": {},
   "source": [
    "##### Calculate the T and S standard deviations, $\\sigma_T; \\sigma_S$, for weights $w_j$"
   ]
  },
  {
   "cell_type": "code",
   "execution_count": 154,
   "metadata": {},
   "outputs": [],
   "source": [
    "## Remove NaNs to calculate standard deviation\n",
    "T_nonan = ACCESS_TS_dist_hist.tbins.expand_dims(dim={\"sbins\": ACCESS_TS_dist_hist.sbins.size, \"time\":ACCESS_TS_dist_hist.time.size}).\\\n",
    "assign_coords({\"sbins\": ACCESS_TS_dist_hist.sbins, \"time\":ACCESS_TS_dist_hist.time})*(ACCESS_TS_dist_hist.TS_distribution/ACCESS_TS_dist_hist.TS_distribution)\n",
    "S_nonan = ACCESS_TS_dist_hist.sbins.expand_dims(dim={\"tbins\": ACCESS_TS_dist_hist.tbins.size, \"time\":ACCESS_TS_dist_hist.time.size}).\\\n",
    "assign_coords({\"tbins\": ACCESS_TS_dist_hist.tbins, \"time\":ACCESS_TS_dist_hist.time})*(ACCESS_TS_dist_hist.TS_distribution/ACCESS_TS_dist_hist.TS_distribution)\n",
    "# Calculate standard deviation\n",
    "T_nonan_std = T_nonan.std(skipna=True).values\n",
    "S_nonan_std = S_nonan.std(skipna=True).values\n",
    "# Weights are 1/std\n",
    "T_scale = 1/T_nonan_std\n",
    "S_scale = 1/S_nonan_std"
   ]
  },
  {
   "attachments": {},
   "cell_type": "markdown",
   "metadata": {},
   "source": [
    "##### Plot BSP bins and $V_0$, $T_0$ and $S_0$ [Figure 4]"
   ]
  },
  {
   "cell_type": "code",
   "execution_count": 155,
   "metadata": {},
   "outputs": [
    {
     "name": "stdout",
     "output_type": "stream",
     "text": [
      "CPU times: user 1.7 s, sys: 187 ms, total: 1.89 s\n",
      "Wall time: 2.22 s\n"
     ]
    }
   ],
   "source": [
    "%%time\n",
    "# Load the early partition values and volumes\n",
    "Part_early.load()\n",
    "V_early_vals = np.log10(V_early.values)\n",
    "V_early_vals[~np.isfinite(V_early_vals)] = 0\n",
    "\n",
    "# Load the geographical masks, \\omega\n",
    "mask_EN4_xr = xr.open_mfdataset('../Basin_mask/mask_EN4.nc')\n",
    "mask_EN4 = (mask_EN4_xr.__xarray_dataarray_variable__.isel(depth=0).values)\n",
    "data = xr.open_mfdataset('~/UNSW_work/EN4_Data/EN_data/EN4_CT_SA_0*')\n",
    "lats = data.lat.values\n",
    "lons = data.lon.values\n",
    "\n",
    "mask_EN4[mask_EN4==0] = np.nan\n"
   ]
  },
  {
   "cell_type": "code",
   "execution_count": 156,
   "metadata": {},
   "outputs": [],
   "source": [
    "# ## Plot the BSP bins, mean T and S, early volume, and the corresponding masks \\omega\n",
    "# fig, axs = plt.subplots(3,3, figsize=(7.5*1.2,7.5*1.2), facecolor='w', edgecolor='k')\n",
    "# fig.subplots_adjust(hspace = .35, wspace=0.25)\n",
    "# axs = axs.ravel()\n",
    "\n",
    "# minv, maxv = 12,17\n",
    "\n",
    "# cmap = plt.cm.viridis\n",
    "# norm = plt.Normalize(minv, maxv)\n",
    "# sm = plt.cm.ScalarMappable(cmap=cmap, norm=norm)\n",
    "# sm.set_array([])\n",
    "\n",
    "# axis_locs = [[0.1275, 0.825, 0.1, 0.05],\n",
    "# [0.4075, 0.825, 0.1, 0.05],\n",
    "# [0.797, 0.825, 0.1, 0.05],\n",
    "# [0.1275, 0.5475, 0.1, 0.05],\n",
    "# [0.4075, 0.5475, 0.1, 0.05],\n",
    "# [0.688, 0.5475, 0.1, 0.05],\n",
    "# [0.1275, 0.27, 0.1, 0.05],\n",
    "# [0.4075, 0.27, 0.1, 0.05],\n",
    "# [0.688, 0.27, 0.1, 0.05]]\n",
    "\n",
    "# for i in range(Basins.size):\n",
    "#     axins = fig.add_axes(axis_locs[i], projection = ccrs.Robinson())\n",
    "#     axins.pcolormesh(lons, lats, mask_EN4[i,:,:], transform = ccrs.PlateCarree(), vmin=0, vmax=1, cmap=plt.cm.Reds)\n",
    "#     axins.add_feature(cfeature.LAND.with_scale('50m'), zorder=100, color='grey', edgecolor=None)\n",
    "#     axins.coastlines()\n",
    "#     axins.set_xticklabels([])\n",
    "#     axins.set_yticklabels([])\n",
    "#     axins.set_xticks([])\n",
    "#     axins.set_yticks([])\n",
    "#     axins.set_extent([-180,180, -83,90], crs=ccrs.PlateCarree())\n",
    "\n",
    "# for j in range(Basins.size):\n",
    "#     for i in range(2**tree_depth):\n",
    "#         axs[j].add_patch(patches.Rectangle((Part_early.isel(Basin=j)[i,0], Part_early.isel(Basin=j)[i,2]-273.15), \\\n",
    "#             Part_early.isel(Basin=j)[i,1]-Part_early.isel(Basin=j)[i,0], Part_early.isel(Basin=j)[i,3]-Part_early.isel(Basin=j)[i,2], ec='black', facecolor=cmap(norm((V_early_vals[j,i]))), zorder=-1000))\n",
    "#     axs[j].scatter(SA_early.isel(Basin=j).values.flatten(),CT_early.isel(Basin=j).values.flatten(),20, marker='o', color='white', ec='black')\n",
    "#     axs[j].set_xlim(30,40)\n",
    "#     axs[j].set_title(Basins[j])\n",
    "#     axs[j].set_ylabel('Temperature [$^{\\circ}$C]')\n",
    "#     axs[j].set_xlabel('Salinity [g/kg]')\n",
    "\n",
    "# axs[1].set_ylabel('')\n",
    "# axs[2].set_ylabel('')\n",
    "# axs[4].set_ylabel('')\n",
    "# axs[5].set_ylabel('')\n",
    "# axs[7].set_ylabel('')\n",
    "# axs[8].set_ylabel('')\n",
    "\n",
    "# axs[1].set_xlabel('')\n",
    "# axs[2].set_xlabel('')\n",
    "# axs[4].set_xlabel('')\n",
    "# axs[5].set_xlabel('')\n",
    "# axs[0].set_xlabel('')\n",
    "# axs[3].set_xlabel('')\n",
    "\n",
    "# cax1 = fig.add_axes([0.93, 0.338, 0.02, 0.3])\n",
    "# m = plt.cm.ScalarMappable(cmap=plt.cm.viridis)\n",
    "# m.set_clim(minv, maxv)\n",
    "# cbar1 = fig.colorbar(m, cax=cax1)\n",
    "# cbar1.set_label('Volume, $log_{10}(V_0)$')\n",
    "# plt.savefig('../Figures/BSP_binned_volumes_ACCESS.png', dpi=300, bbox_inches='tight')\n",
    "# plt.show()"
   ]
  },
  {
   "cell_type": "code",
   "execution_count": 157,
   "metadata": {},
   "outputs": [],
   "source": [
    "# bias_hfds = xr.zeros_like(ACCESS_BSP_data.hfds_sum)\n",
    "# bias_wfo = xr.zeros_like(ACCESS_BSP_data.wfo_sum)\n",
    "\n",
    "# for i in tqdm(range(ACCESS_BSP_data.Time.size)):\n",
    "#     data = ACCESS_BSP_data.hfds_sum.isel(Time=i).values\n",
    "#     # Compute the gradient of the original field using finite differences\n",
    "#     gradient_x, gradient_y = np.gradient(data)\n",
    "\n",
    "#     # Rotate the gradient vectors by 90 degrees to obtain the orthogonal field\n",
    "#     orthogonal_field_x = -gradient_y\n",
    "#     orthogonal_field_y = gradient_x\n",
    "\n",
    "#     bias_hfds[:,i,:] = orthogonal_field_x+orthogonal_field_y\n",
    "\n",
    "#     data = ACCESS_BSP_data.wfo_sum.isel(Time=i).values\n",
    "#     # Compute the gradient of the original field using finite differences\n",
    "#     gradient_x, gradient_y = np.gradient(data)\n",
    "\n",
    "#     # Rotate the gradient vectors by 90 degrees to obtain the orthogonal field\n",
    "#     orthogonal_field_x = -gradient_y\n",
    "#     orthogonal_field_y = gradient_x\n",
    "\n",
    "#     bias_wfo[:,i,:] = orthogonal_field_x+orthogonal_field_y"
   ]
  },
  {
   "cell_type": "code",
   "execution_count": 158,
   "metadata": {},
   "outputs": [],
   "source": [
    "## Convert Offset from W/m2 to W, and from mm/day to kg/s\n",
    "HF_offset_W = HF_offset*ACCESS_BSP_data.A_sum #W\n",
    "FW_offset_kg_s = FW_offset*ACCESS_BSP_data.A_sum*rho/(1000*24*3600) #kg/s\n",
    "if tenpc_offset:\n",
    "    HF_offset_W = -2*ACCESS_BSP_data.hfds_sum #W\n",
    "    FW_offset_kg_s = -2*ACCESS_BSP_data.wfo_sum #kg/s\n",
    "    "
   ]
  },
  {
   "cell_type": "code",
   "execution_count": 159,
   "metadata": {},
   "outputs": [
    {
     "data": {
      "image/png": "[encoded data removed]",
      "text/plain": [
       "<Figure size 432x288 with 1 Axes>"
      ]
     },
     "metadata": {
      "needs_background": "light"
     },
     "output_type": "display_data"
    },
    {
     "data": {
      "image/png": "[encoded data removed]",
      "text/plain": [
       "<Figure size 432x288 with 1 Axes>"
      ]
     },
     "metadata": {
      "needs_background": "light"
     },
     "output_type": "display_data"
    }
   ],
   "source": [
    "## Check for heat and salt closure\n",
    "## HEAT\n",
    "(((ACCESS_BSP_data.hfds_sum+HF_offset_W)*dt.average_DT).cumsum('Time')-(((ACCESS_BSP_data.hfds_sum+HF_offset_W)*dt.average_DT).cumsum('Time').isel(Time=slice(0,120)).mean('Time'))).sum('Basin').sum('Depth').plot(label='Time-integrated surface heat flux')\n",
    "((rho*Cp*((ACCESS_BSP_data.T_mean-273.15)*ACCESS_BSP_data.V_sum))-(rho*Cp*((ACCESS_BSP_data.T_mean-273.15)*ACCESS_BSP_data.V_sum).isel(Time=slice(0,120)).mean('Time'))).sum('Basin').sum('Depth').plot(label='Temperature-derived OHC change')\n",
    "plt.title('OHC change (J)')\n",
    "plt.xlabel('Months since 1850-01-16')\n",
    "plt.xlim(0,1980)\n",
    "\n",
    "plt.legend()\n",
    "# plt.savefig('../Figures/glob_hfds_OHC_closure.png', dpi=300, bbox_inches='tight')\n",
    "plt.show()\n",
    "## SALT\n",
    "(((ACCESS_BSP_data.wfo_sum+FW_offset_kg_s)*dt.average_DT).cumsum('Time')-(((ACCESS_BSP_data.wfo_sum+FW_offset_kg_s)*dt.average_DT).cumsum('Time').isel(Time=slice(0,120)).mean('Time'))).sum('Basin').sum('Depth').plot(label='Time-integrated surface FW flux')\n",
    "((-ACCESS_BSP_data.S_mean/S0*rho*ACCESS_BSP_data.V_sum)-(-ACCESS_BSP_data.S_mean/S0*rho*ACCESS_BSP_data.V_sum).isel(Time=slice(0,120)).mean('Time')).sum('Basin').sum('Depth').plot(label='Salinity-derived mass change')\n",
    "plt.title('Mass Change (kg)')\n",
    "plt.xlabel('Months since 1850-01-16')\n",
    "plt.legend()\n",
    "plt.xlim(0,1980)\n",
    "# plt.savefig('../Figures/glob_wfo_OSC_closure.png', dpi=300, bbox_inches='tight')\n",
    "plt.show()"
   ]
  },
  {
   "cell_type": "code",
   "execution_count": 160,
   "metadata": {},
   "outputs": [
    {
     "data": {
      "text/html": [
       "<div>\n",
       "<style scoped>\n",
       "    .dataframe tbody tr th:only-of-type {\n",
       "        vertical-align: middle;\n",
       "    }\n",
       "\n",
       "    .dataframe tbody tr th {\n",
       "        vertical-align: top;\n",
       "    }\n",
       "\n",
       "    .dataframe thead th {\n",
       "        text-align: right;\n",
       "    }\n",
       "</style>\n",
       "<table border=\"1\" class=\"dataframe\">\n",
       "  <thead>\n",
       "    <tr style=\"text-align: right;\">\n",
       "      <th></th>\n",
       "      <th>Polar N. Atlantic</th>\n",
       "      <th>Subtropical N. Atlantic</th>\n",
       "      <th>Eq. Atlantic</th>\n",
       "      <th>S. Atlantic</th>\n",
       "      <th>Indian</th>\n",
       "      <th>S. Pacific</th>\n",
       "      <th>Eq. Pacific</th>\n",
       "      <th>N. Pacific</th>\n",
       "      <th>Southern Ocean</th>\n",
       "    </tr>\n",
       "  </thead>\n",
       "  <tbody>\n",
       "    <tr>\n",
       "      <th>Polar N. Atlantic</th>\n",
       "      <td>1.0</td>\n",
       "      <td>1.0</td>\n",
       "      <td>0.0</td>\n",
       "      <td>0.0</td>\n",
       "      <td>0.0</td>\n",
       "      <td>0.0</td>\n",
       "      <td>0.0</td>\n",
       "      <td>0.0</td>\n",
       "      <td>0.0</td>\n",
       "    </tr>\n",
       "    <tr>\n",
       "      <th>Subtropical N. Atlantic</th>\n",
       "      <td>1.0</td>\n",
       "      <td>1.0</td>\n",
       "      <td>1.0</td>\n",
       "      <td>0.0</td>\n",
       "      <td>0.0</td>\n",
       "      <td>0.0</td>\n",
       "      <td>0.0</td>\n",
       "      <td>0.0</td>\n",
       "      <td>0.0</td>\n",
       "    </tr>\n",
       "    <tr>\n",
       "      <th>Eq. Atlantic</th>\n",
       "      <td>0.0</td>\n",
       "      <td>1.0</td>\n",
       "      <td>1.0</td>\n",
       "      <td>1.0</td>\n",
       "      <td>0.0</td>\n",
       "      <td>0.0</td>\n",
       "      <td>0.0</td>\n",
       "      <td>0.0</td>\n",
       "      <td>0.0</td>\n",
       "    </tr>\n",
       "    <tr>\n",
       "      <th>S. Atlantic</th>\n",
       "      <td>0.0</td>\n",
       "      <td>0.0</td>\n",
       "      <td>1.0</td>\n",
       "      <td>1.0</td>\n",
       "      <td>0.0</td>\n",
       "      <td>0.0</td>\n",
       "      <td>0.0</td>\n",
       "      <td>0.0</td>\n",
       "      <td>1.0</td>\n",
       "    </tr>\n",
       "    <tr>\n",
       "      <th>Indian</th>\n",
       "      <td>0.0</td>\n",
       "      <td>0.0</td>\n",
       "      <td>0.0</td>\n",
       "      <td>0.0</td>\n",
       "      <td>1.0</td>\n",
       "      <td>0.0</td>\n",
       "      <td>1.0</td>\n",
       "      <td>0.0</td>\n",
       "      <td>1.0</td>\n",
       "    </tr>\n",
       "    <tr>\n",
       "      <th>S. Pacific</th>\n",
       "      <td>0.0</td>\n",
       "      <td>0.0</td>\n",
       "      <td>0.0</td>\n",
       "      <td>0.0</td>\n",
       "      <td>0.0</td>\n",
       "      <td>1.0</td>\n",
       "      <td>1.0</td>\n",
       "      <td>0.0</td>\n",
       "      <td>1.0</td>\n",
       "    </tr>\n",
       "    <tr>\n",
       "      <th>Eq. Pacific</th>\n",
       "      <td>0.0</td>\n",
       "      <td>0.0</td>\n",
       "      <td>0.0</td>\n",
       "      <td>0.0</td>\n",
       "      <td>1.0</td>\n",
       "      <td>1.0</td>\n",
       "      <td>1.0</td>\n",
       "      <td>1.0</td>\n",
       "      <td>0.0</td>\n",
       "    </tr>\n",
       "    <tr>\n",
       "      <th>N. Pacific</th>\n",
       "      <td>0.0</td>\n",
       "      <td>0.0</td>\n",
       "      <td>0.0</td>\n",
       "      <td>0.0</td>\n",
       "      <td>0.0</td>\n",
       "      <td>0.0</td>\n",
       "      <td>1.0</td>\n",
       "      <td>1.0</td>\n",
       "      <td>0.0</td>\n",
       "    </tr>\n",
       "    <tr>\n",
       "      <th>Southern Ocean</th>\n",
       "      <td>0.0</td>\n",
       "      <td>0.0</td>\n",
       "      <td>0.0</td>\n",
       "      <td>1.0</td>\n",
       "      <td>1.0</td>\n",
       "      <td>1.0</td>\n",
       "      <td>0.0</td>\n",
       "      <td>0.0</td>\n",
       "      <td>1.0</td>\n",
       "    </tr>\n",
       "  </tbody>\n",
       "</table>\n",
       "</div>"
      ],
      "text/plain": [
       "                         Polar N. Atlantic  Subtropical N. Atlantic  \\\n",
       "Polar N. Atlantic                      1.0                      1.0   \n",
       "Subtropical N. Atlantic                1.0                      1.0   \n",
       "Eq. Atlantic                           0.0                      1.0   \n",
       "S. Atlantic                            0.0                      0.0   \n",
       "Indian                                 0.0                      0.0   \n",
       "S. Pacific                             0.0                      0.0   \n",
       "Eq. Pacific                            0.0                      0.0   \n",
       "N. Pacific                             0.0                      0.0   \n",
       "Southern Ocean                         0.0                      0.0   \n",
       "\n",
       "                         Eq. Atlantic  S. Atlantic  Indian  S. Pacific  \\\n",
       "Polar N. Atlantic                 0.0          0.0     0.0         0.0   \n",
       "Subtropical N. Atlantic           1.0          0.0     0.0         0.0   \n",
       "Eq. Atlantic                      1.0          1.0     0.0         0.0   \n",
       "S. Atlantic                       1.0          1.0     0.0         0.0   \n",
       "Indian                            0.0          0.0     1.0         0.0   \n",
       "S. Pacific                        0.0          0.0     0.0         1.0   \n",
       "Eq. Pacific                       0.0          0.0     1.0         1.0   \n",
       "N. Pacific                        0.0          0.0     0.0         0.0   \n",
       "Southern Ocean                    0.0          1.0     1.0         1.0   \n",
       "\n",
       "                         Eq. Pacific  N. Pacific  Southern Ocean  \n",
       "Polar N. Atlantic                0.0         0.0             0.0  \n",
       "Subtropical N. Atlantic          0.0         0.0             0.0  \n",
       "Eq. Atlantic                     0.0         0.0             0.0  \n",
       "S. Atlantic                      0.0         0.0             1.0  \n",
       "Indian                           1.0         0.0             1.0  \n",
       "S. Pacific                       1.0         0.0             1.0  \n",
       "Eq. Pacific                      1.0         1.0             0.0  \n",
       "N. Pacific                       1.0         1.0             0.0  \n",
       "Southern Ocean                   0.0         0.0             1.0  "
      ]
     },
     "execution_count": 160,
     "metadata": {},
     "output_type": "execute_result"
    }
   ],
   "source": [
    "# Array defining the connection between the 9 basins;\n",
    "# 1 = connected, 0 = disconnected\n",
    "# connectivity_array = np.ones((Basins.size,Basins.size))\n",
    "\n",
    "connectivity_array = np.zeros((Basins.size,Basins.size))\n",
    "\n",
    "connectivity_array[0,:] = [1, 1, 0, 0, 0, 0, 0, 0, 0]\n",
    "connectivity_array[1,:] = [1, 1, 1, 0, 0, 0, 0, 0, 0]\n",
    "connectivity_array[2,:] = [0, 1, 1, 1, 0, 0, 0, 0, 0]\n",
    "connectivity_array[3,:] = [0, 0, 1, 1, 0, 0, 0, 0, 1]\n",
    "connectivity_array[4,:] = [0, 0, 0, 0, 1, 0, 1, 0, 1]\n",
    "connectivity_array[5,:] = [0, 0, 0, 0, 0, 1, 1, 0, 1]\n",
    "connectivity_array[6,:] = [0, 0, 0, 0, 1, 1, 1, 1, 0]\n",
    "connectivity_array[7,:] = [0, 0, 0, 0, 0, 0, 1, 1, 0]\n",
    "connectivity_array[8,:] = [0, 0, 0, 1, 1, 1, 0, 0, 1]\n",
    "\n",
    "d = {Basins[0]: connectivity_array.T[0,:],\\\n",
    "    Basins[1]: connectivity_array.T[1,:],\\\n",
    "    Basins[2]: connectivity_array.T[2,:],\\\n",
    "    Basins[3]: connectivity_array.T[3,:],\\\n",
    "    Basins[4]: connectivity_array.T[4,:],\\\n",
    "    Basins[5]: connectivity_array.T[5,:],\\\n",
    "    Basins[6]: connectivity_array.T[6,:],\\\n",
    "    Basins[7]: connectivity_array.T[7,:],\\\n",
    "    Basins[8]: connectivity_array.T[8,:]}\n",
    "    \n",
    "table = pd.DataFrame(data=d, index=Basins)\n",
    "table"
   ]
  },
  {
   "cell_type": "code",
   "execution_count": 161,
   "metadata": {},
   "outputs": [
    {
     "data": {
      "text/html": [
       "<div>\n",
       "<style scoped>\n",
       "    .dataframe tbody tr th:only-of-type {\n",
       "        vertical-align: middle;\n",
       "    }\n",
       "\n",
       "    .dataframe tbody tr th {\n",
       "        vertical-align: top;\n",
       "    }\n",
       "\n",
       "    .dataframe thead th {\n",
       "        text-align: right;\n",
       "    }\n",
       "</style>\n",
       "<table border=\"1\" class=\"dataframe\">\n",
       "  <thead>\n",
       "    <tr style=\"text-align: right;\">\n",
       "      <th></th>\n",
       "      <th>Polar N. Atlantic</th>\n",
       "      <th>Subtropical N. Atlantic</th>\n",
       "      <th>Eq. Atlantic</th>\n",
       "      <th>S. Atlantic</th>\n",
       "      <th>Indian</th>\n",
       "      <th>S. Pacific</th>\n",
       "      <th>Eq. Pacific</th>\n",
       "      <th>N. Pacific</th>\n",
       "      <th>Southern Ocean</th>\n",
       "    </tr>\n",
       "  </thead>\n",
       "  <tbody>\n",
       "    <tr>\n",
       "      <th>Polar N. Atlantic</th>\n",
       "      <td>0.0</td>\n",
       "      <td>0.0</td>\n",
       "      <td>0.0</td>\n",
       "      <td>0.0</td>\n",
       "      <td>0.0</td>\n",
       "      <td>0.0</td>\n",
       "      <td>0.0</td>\n",
       "      <td>0.0</td>\n",
       "      <td>0.0</td>\n",
       "    </tr>\n",
       "    <tr>\n",
       "      <th>Subtropical N. Atlantic</th>\n",
       "      <td>0.0</td>\n",
       "      <td>0.0</td>\n",
       "      <td>0.0</td>\n",
       "      <td>0.0</td>\n",
       "      <td>0.0</td>\n",
       "      <td>0.0</td>\n",
       "      <td>0.0</td>\n",
       "      <td>0.0</td>\n",
       "      <td>0.0</td>\n",
       "    </tr>\n",
       "    <tr>\n",
       "      <th>Eq. Atlantic</th>\n",
       "      <td>0.0</td>\n",
       "      <td>0.0</td>\n",
       "      <td>0.0</td>\n",
       "      <td>0.0</td>\n",
       "      <td>0.0</td>\n",
       "      <td>0.0</td>\n",
       "      <td>0.0</td>\n",
       "      <td>0.0</td>\n",
       "      <td>0.0</td>\n",
       "    </tr>\n",
       "    <tr>\n",
       "      <th>S. Atlantic</th>\n",
       "      <td>0.0</td>\n",
       "      <td>0.0</td>\n",
       "      <td>0.0</td>\n",
       "      <td>0.0</td>\n",
       "      <td>0.0</td>\n",
       "      <td>0.0</td>\n",
       "      <td>0.0</td>\n",
       "      <td>0.0</td>\n",
       "      <td>0.0</td>\n",
       "    </tr>\n",
       "    <tr>\n",
       "      <th>Indian</th>\n",
       "      <td>0.0</td>\n",
       "      <td>0.0</td>\n",
       "      <td>0.0</td>\n",
       "      <td>0.0</td>\n",
       "      <td>0.0</td>\n",
       "      <td>0.0</td>\n",
       "      <td>1.0</td>\n",
       "      <td>0.0</td>\n",
       "      <td>0.0</td>\n",
       "    </tr>\n",
       "    <tr>\n",
       "      <th>S. Pacific</th>\n",
       "      <td>0.0</td>\n",
       "      <td>0.0</td>\n",
       "      <td>0.0</td>\n",
       "      <td>0.0</td>\n",
       "      <td>0.0</td>\n",
       "      <td>0.0</td>\n",
       "      <td>0.0</td>\n",
       "      <td>0.0</td>\n",
       "      <td>0.0</td>\n",
       "    </tr>\n",
       "    <tr>\n",
       "      <th>Eq. Pacific</th>\n",
       "      <td>0.0</td>\n",
       "      <td>0.0</td>\n",
       "      <td>0.0</td>\n",
       "      <td>0.0</td>\n",
       "      <td>-1.0</td>\n",
       "      <td>0.0</td>\n",
       "      <td>0.0</td>\n",
       "      <td>0.0</td>\n",
       "      <td>0.0</td>\n",
       "    </tr>\n",
       "    <tr>\n",
       "      <th>N. Pacific</th>\n",
       "      <td>0.0</td>\n",
       "      <td>0.0</td>\n",
       "      <td>0.0</td>\n",
       "      <td>0.0</td>\n",
       "      <td>0.0</td>\n",
       "      <td>0.0</td>\n",
       "      <td>0.0</td>\n",
       "      <td>0.0</td>\n",
       "      <td>0.0</td>\n",
       "    </tr>\n",
       "    <tr>\n",
       "      <th>Southern Ocean</th>\n",
       "      <td>0.0</td>\n",
       "      <td>0.0</td>\n",
       "      <td>0.0</td>\n",
       "      <td>0.0</td>\n",
       "      <td>0.0</td>\n",
       "      <td>0.0</td>\n",
       "      <td>0.0</td>\n",
       "      <td>0.0</td>\n",
       "      <td>0.0</td>\n",
       "    </tr>\n",
       "  </tbody>\n",
       "</table>\n",
       "</div>"
      ],
      "text/plain": [
       "                         Polar N. Atlantic  Subtropical N. Atlantic  \\\n",
       "Polar N. Atlantic                      0.0                      0.0   \n",
       "Subtropical N. Atlantic                0.0                      0.0   \n",
       "Eq. Atlantic                           0.0                      0.0   \n",
       "S. Atlantic                            0.0                      0.0   \n",
       "Indian                                 0.0                      0.0   \n",
       "S. Pacific                             0.0                      0.0   \n",
       "Eq. Pacific                            0.0                      0.0   \n",
       "N. Pacific                             0.0                      0.0   \n",
       "Southern Ocean                         0.0                      0.0   \n",
       "\n",
       "                         Eq. Atlantic  S. Atlantic  Indian  S. Pacific  \\\n",
       "Polar N. Atlantic                 0.0          0.0     0.0         0.0   \n",
       "Subtropical N. Atlantic           0.0          0.0     0.0         0.0   \n",
       "Eq. Atlantic                      0.0          0.0     0.0         0.0   \n",
       "S. Atlantic                       0.0          0.0     0.0         0.0   \n",
       "Indian                            0.0          0.0     0.0         0.0   \n",
       "S. Pacific                        0.0          0.0     0.0         0.0   \n",
       "Eq. Pacific                       0.0          0.0    -1.0         0.0   \n",
       "N. Pacific                        0.0          0.0     0.0         0.0   \n",
       "Southern Ocean                    0.0          0.0     0.0         0.0   \n",
       "\n",
       "                         Eq. Pacific  N. Pacific  Southern Ocean  \n",
       "Polar N. Atlantic                0.0         0.0             0.0  \n",
       "Subtropical N. Atlantic          0.0         0.0             0.0  \n",
       "Eq. Atlantic                     0.0         0.0             0.0  \n",
       "S. Atlantic                      0.0         0.0             0.0  \n",
       "Indian                           1.0         0.0             0.0  \n",
       "S. Pacific                       0.0         0.0             0.0  \n",
       "Eq. Pacific                      0.0         0.0             0.0  \n",
       "N. Pacific                       0.0         0.0             0.0  \n",
       "Southern Ocean                   0.0         0.0             0.0  "
      ]
     },
     "execution_count": 161,
     "metadata": {},
     "output_type": "execute_result"
    }
   ],
   "source": [
    "# Array defining the transport between the 9 basins;\n",
    "# +/-1 = connected (North = +, East = +), 0 = no constraint\n",
    "transport_array = np.zeros((Basins.size,Basins.size))\n",
    "\n",
    "transport_array[4,:] = [0, 0, 0, 0, 0, 0, 1, 0, 0]\n",
    "transport_array[6,:] = [0, 0, 0, 0, -1, 0, 0, 0, 0]\n",
    "\n",
    "d = {Basins[0]: transport_array.T[0,:],\\\n",
    "    Basins[1]: transport_array.T[1,:],\\\n",
    "    Basins[2]: transport_array.T[2,:],\\\n",
    "    Basins[3]: transport_array.T[3,:],\\\n",
    "    Basins[4]: transport_array.T[4,:],\\\n",
    "    Basins[5]: transport_array.T[5,:],\\\n",
    "    Basins[6]: transport_array.T[6,:],\\\n",
    "    Basins[7]: transport_array.T[7,:],\\\n",
    "    Basins[8]: transport_array.T[8,:]}\n",
    "    \n",
    "table = pd.DataFrame(data=d, index=Basins)\n",
    "table"
   ]
  },
  {
   "cell_type": "code",
   "execution_count": 162,
   "metadata": {},
   "outputs": [],
   "source": [
    "# Do the same for basin index\n",
    "Basin_1 = np.zeros_like(V_early)\n",
    "Basin_2 = np.zeros_like(V_early)\n",
    "Basin_names = []\n",
    "for i in range(np.array(Basins).size):\n",
    "    Basin_1[i,:] = i\n",
    "    Basin_2[i,:] = i\n",
    "    for j in range(V_early.shape[-1]):\n",
    "        #... and for basin name\n",
    "        Basin_names.append(Basins[i])\n",
    "\n",
    "Basin_1_inds = Basin_1.flatten()\n",
    "Basin_2_inds = Basin_2.flatten()"
   ]
  },
  {
   "cell_type": "code",
   "execution_count": 163,
   "metadata": {},
   "outputs": [
    {
     "data": {
      "application/vnd.jupyter.widget-view+json": {
       "model_id": "e97ec5ff0a2c4a0994a53e6018641145",
       "version_major": 2,
       "version_minor": 0
      },
      "text/plain": [
       "  0%|          | 0/144 [00:00<?, ?it/s]"
      ]
     },
     "metadata": {},
     "output_type": "display_data"
    }
   ],
   "source": [
    "# Define whether a bin is connected to every other bin\n",
    "# The two constraints used are: are the basins adjacent? \n",
    "# If yes, are the bin indices the same? \n",
    "# If yes, the bins are connected; if no, they are not connected. \n",
    "\n",
    "# connected = np.ones((Vol_1.size, Vol_1.size)) ## For all connections case\n",
    "\n",
    "trans_big = np.zeros((V_early.values.flatten().size, V_early.values.flatten().size))\n",
    "connected = np.zeros((V_early.values.flatten().size, V_early.values.flatten().size))\n",
    "\n",
    "for i in tqdm(range(V_early.values.flatten().size)):\n",
    "    for j in range(V_late.values.flatten().size):\n",
    "        trans_big[i,j] = transport_array[int(Basin_1_inds[i]), int(Basin_2_inds[j])]\n",
    "        if connectivity_array[int(Basin_1_inds[i]), int(Basin_2_inds[j])]>0:\n",
    "            connected[i,j] = 1 ## For NO DOCKING case\n",
    "            ## UNCOMMENT BELOW IF YOU WANT DOCKING AGAIN\n",
    "                # if Basin_names[i] == Basin_names[j]:\n",
    "                #     connected[i,j] = connectivity_array[int(Basin_1_inds[i]), int(Basin_2_inds[j])]\n",
    "                # elif S_start[i]==S_start[j] and T_start[i]==T_start[j]:\n",
    "                #     connected[i,j] = connectivity_array[int(Basin_1_inds[i]), int(Basin_2_inds[j])]\n",
    "\n",
    "# constraints = connected # Shape: An [N x N] matrix\n",
    "\n",
    "transport = trans_big  # Shape: An [N x N] matrix"
   ]
  },
  {
   "cell_type": "code",
   "execution_count": 189,
   "metadata": {},
   "outputs": [
    {
     "name": "stdout",
     "output_type": "stream",
     "text": [
      "1\n",
      "===============================================================================\n",
      "                                     CVXPY                                     \n",
      "                                    v1.1.13                                    \n",
      "===============================================================================\n",
      "(CVXPY) May 01 04:47:22 PM: Your problem has 6912 variables, 2 constraints, and 0 parameters.\n",
      "(CVXPY) May 01 04:47:22 PM: It is compliant with the following grammars: DCP, DQCP\n",
      "(CVXPY) May 01 04:47:22 PM: (If you need to solve this problem multiple times, but with different data, consider using parameters.)\n",
      "(CVXPY) May 01 04:47:22 PM: CVXPY will first compile your problem; then, it will invoke a numerical solver to obtain a solution.\n",
      "-------------------------------------------------------------------------------\n",
      "                                  Compilation                                  \n",
      "-------------------------------------------------------------------------------\n",
      "(CVXPY) May 01 04:47:22 PM: Compiling problem (target solver=MOSEK).\n",
      "(CVXPY) May 01 04:47:22 PM: Reduction chain: Dcp2Cone -> CvxAttr2Constr -> ConeMatrixStuffing -> MOSEK\n",
      "(CVXPY) May 01 04:47:22 PM: Applying reduction Dcp2Cone\n",
      "(CVXPY) May 01 04:47:22 PM: Applying reduction CvxAttr2Constr\n",
      "(CVXPY) May 01 04:47:22 PM: Applying reduction ConeMatrixStuffing\n",
      "(CVXPY) May 01 04:47:22 PM: Applying reduction MOSEK\n",
      "(CVXPY) May 01 04:47:22 PM: Finished problem compilation (took 8.970e-02 seconds).\n",
      "-------------------------------------------------------------------------------\n",
      "                                Numerical solver                               \n",
      "-------------------------------------------------------------------------------\n",
      "(CVXPY) May 01 04:47:22 PM: Invoking solver MOSEK  to obtain a solution.\n",
      "\n",
      "\n",
      "Problem\n",
      "  Name                   :                 \n",
      "  Objective sense        : max             \n",
      "  Type                   : CONIC (conic optimization problem)\n",
      "  Constraints            : 6913            \n",
      "  Cones                  : 1               \n",
      "  Scalar variables       : 7490            \n",
      "  Matrix variables       : 0               \n",
      "  Integer variables      : 0               \n",
      "\n",
      "Optimizer started.\n",
      "Problem\n",
      "  Name                   :                 \n",
      "  Objective sense        : max             \n",
      "  Type                   : CONIC (conic optimization problem)\n",
      "  Constraints            : 6913            \n",
      "  Cones                  : 1               \n",
      "  Scalar variables       : 7490            \n",
      "  Matrix variables       : 0               \n",
      "  Integer variables      : 0               \n",
      "\n",
      "Optimizer  - threads                : 12              \n",
      "Optimizer  - solved problem         : the dual        \n",
      "Optimizer  - Constraints            : 507\n",
      "Optimizer  - Cones                  : 1\n",
      "Optimizer  - Scalar variables       : 5683              conic                  : 256             \n",
      "Optimizer  - Semi-definite variables: 0                 scalarized             : 0               \n",
      "Factor     - setup time             : 0.01              dense det. time        : 0.00            \n",
      "Factor     - ML order time          : 0.00              GP order time          : 0.00            \n",
      "Factor     - nonzeros before factor : 4.92e+04          after factor           : 6.18e+04        \n",
      "Factor     - dense dim.             : 0                 flops                  : 1.10e+07        \n",
      "ITE PFEAS    DFEAS    GFEAS    PRSTATUS   POBJ              DOBJ              MU       TIME  \n",
      "0   0.0e+00  1.6e+02  2.0e+00  0.00e+00   -1.000000000e+00  0.000000000e+00   1.0e+00  0.03  \n",
      "1   1.1e-15  1.1e+02  1.4e+00  -2.17e-01  -2.988665676e-01  4.628194771e-01   7.2e-01  0.06  \n",
      "2   2.0e-15  7.3e+01  7.4e-01  8.99e-02   1.514132594e+00   2.071022285e+00   4.6e-01  0.07  \n",
      "3   1.3e-15  4.3e+01  2.8e-01  7.83e-01   4.148252160e+00   4.525920942e+00   2.8e-01  0.07  \n",
      "4   1.2e-14  1.6e+01  5.4e-02  1.05e+00   5.649698601e+00   5.786698186e+00   1.0e-01  0.08  \n",
      "5   6.2e-15  7.8e+00  1.6e-02  1.25e+00   3.991730520e+00   4.052907570e+00   5.0e-02  0.08  \n",
      "6   7.1e-15  5.7e+00  9.8e-03  1.29e+00   2.295704176e+00   2.336316732e+00   3.6e-02  0.09  \n",
      "7   1.4e-14  2.9e+00  3.3e-03  1.34e+00   1.168299812e+00   1.186605912e+00   1.9e-02  0.09  \n",
      "8   3.4e-14  2.1e+00  1.9e-03  1.35e+00   4.506165312e-01   4.623681836e-01   1.3e-02  0.10  \n",
      "9   2.7e-14  1.2e+00  7.7e-04  1.41e+00   4.153599400e-01   4.214100410e-01   7.6e-03  0.10  \n",
      "10  2.6e-14  9.9e-01  5.7e-04  1.31e+00   3.051591500e-01   3.099820904e-01   6.3e-03  0.11  \n",
      "11  2.4e-14  6.6e-01  3.3e-04  1.19e+00   2.348293065e-01   2.380215911e-01   4.2e-03  0.11  \n",
      "12  4.3e-14  5.9e-01  3.2e-04  4.10e-01   2.947469797e-01   2.978668746e-01   3.7e-03  0.12  \n",
      "13  1.1e-13  1.5e-01  1.3e-04  9.71e-02   1.286892249e+00   1.286816446e+00   9.8e-04  0.12  \n",
      "14  2.8e-13  6.6e-02  7.2e-05  -7.24e-01  3.690175742e+00   3.686292547e+00   4.2e-04  0.13  \n",
      "15  2.8e-13  4.3e-02  4.5e-05  -3.46e-01  8.825969578e+00   8.822237203e+00   2.8e-04  0.13  \n",
      "16  7.1e-13  2.1e-02  3.1e-05  -7.10e-01  9.585039568e+00   9.573831018e+00   1.3e-04  0.13  \n",
      "17  6.8e-13  1.5e-02  1.5e-05  2.63e-01   2.354111173e+01   2.353638979e+01   9.3e-05  0.14  \n",
      "18  1.1e-12  4.6e-03  3.7e-06  1.51e-01   4.309188404e+01   4.308870468e+01   2.9e-05  0.14  \n",
      "19  1.1e-12  1.8e-03  1.2e-06  6.96e-01   5.369643932e+01   5.369405504e+01   1.2e-05  0.15  \n",
      "20  2.3e-12  5.9e-04  2.3e-07  8.41e-01   6.179884537e+01   6.179806516e+01   3.7e-06  0.15  \n",
      "21  2.6e-12  5.1e-04  1.8e-07  1.02e+00   6.240148573e+01   6.240080575e+01   3.2e-06  0.16  \n",
      "22  3.7e-12  2.0e-04  4.7e-08  1.02e+00   6.463936550e+01   6.463907904e+01   1.3e-06  0.16  \n",
      "23  5.4e-12  1.3e-04  2.3e-08  1.04e+00   6.520722173e+01   6.520703885e+01   8.1e-07  0.17  \n",
      "24  1.2e-11  2.2e-05  1.8e-09  1.04e+00   6.600735192e+01   6.600731556e+01   1.4e-07  0.17  \n",
      "25  5.0e-11  6.5e-06  2.9e-10  1.04e+00   6.613776539e+01   6.613775485e+01   4.2e-08  0.18  \n",
      "26  9.5e-11  2.9e-06  8.6e-11  1.01e+00   6.616809920e+01   6.616809446e+01   1.9e-08  0.18  \n",
      "27  1.7e-10  8.0e-07  1.2e-11  1.02e+00   6.618651171e+01   6.618651047e+01   5.1e-09  0.19  \n",
      "28  2.8e-10  3.9e-07  4.1e-12  9.94e-01   6.618998167e+01   6.618998107e+01   2.4e-09  0.19  \n",
      "29  4.3e-10  2.0e-07  1.5e-12  1.00e+00   6.619157270e+01   6.619157240e+01   1.2e-09  0.20  \n",
      "30  8.0e-10  4.5e-08  1.6e-13  1.00e+00   6.619284559e+01   6.619284552e+01   2.8e-10  0.20  \n",
      "Optimizer terminated. Time: 0.22    \n",
      "\n",
      "\n",
      "Interior-point solution summary\n",
      "  Problem status  : PRIMAL_AND_DUAL_FEASIBLE\n",
      "  Solution status : OPTIMAL\n",
      "  Primal.  obj: 6.6192845592e+01    nrm: 1e+04    Viol.  con: 6e-13    var: 4e-09    cones: 0e+00  \n",
      "  Dual.    obj: 6.6192845523e+01    nrm: 1e+02    Viol.  con: 0e+00    var: 4e-05    cones: 0e+00  \n",
      "-------------------------------------------------------------------------------\n",
      "                                    Summary                                    \n",
      "-------------------------------------------------------------------------------\n",
      "(CVXPY) May 01 04:47:23 PM: Problem status: optimal\n",
      "(CVXPY) May 01 04:47:23 PM: Optimal value: 6.619e+01\n",
      "(CVXPY) May 01 04:47:23 PM: Compilation took 8.970e-02 seconds\n",
      "(CVXPY) May 01 04:47:23 PM: Solver (including time spent in interface) took 2.570e-01 seconds\n",
      "Optimal value: 66.19253755185885\n",
      "Variable var8190: value [2.40845702e+00 6.71121423e-03 7.21285902e-03 ... 2.49018109e-08\n",
      " 2.41016998e-08 2.39095850e-08]\n"
     ]
    }
   ],
   "source": [
    "\n",
    "time_scaling_range = np.array([1])#np.logspace(-2,0,3)# = 1e-3#1/(range_yrs*yr2sec)\n",
    "\n",
    "dOHC = np.zeros(time_scaling_range.size)\n",
    "dQ_prior = np.zeros(time_scaling_range.size)\n",
    "dQ_adj = np.zeros(time_scaling_range.size)\n",
    "dOSC = np.zeros(time_scaling_range.size)\n",
    "dQS_prior = np.zeros(time_scaling_range.size)\n",
    "dQS_adj = np.zeros(time_scaling_range.size)\n",
    "\n",
    "T_adj_array = np.zeros((time_scaling_range.size, V_early.values.flatten().size))\n",
    "S_adj_array = np.zeros((time_scaling_range.size, V_early.values.flatten().size))\n",
    "\n",
    "MSE_T = np.zeros(time_scaling_range.size)\n",
    "MSE_S = np.zeros(time_scaling_range.size)\n",
    "MSE_tot = np.zeros(time_scaling_range.size)\n",
    "opt_val = np.zeros(time_scaling_range.size)\n",
    "\n",
    "for k in range(time_scaling_range.size):\n",
    "    print(time_scaling_range[k])\n",
    "    time_scaling = time_scaling_range[k]\n",
    "    int_scaling = ((np.mean(Late_period)-np.mean(Early_period))/(Late_period[-1]-Early_period[0]+1))*time_scaling\n",
    "\n",
    "    ## Load Q_prior data here\n",
    "    if SF:\n",
    "        ## Calculate the cumulative time integrated surface fluxes \n",
    "        HFDS_cumsum = (((ACCESS_BSP_data.hfds_sum+HF_offset_W)*dt.average_DT).cumsum('Time').isel(Time=Late_period[-1]))\\\n",
    "            -(((ACCESS_BSP_data.hfds_sum+HF_offset_W)*dt.average_DT).cumsum('Time').isel(Time=Early_period[0])) # units: J\n",
    "        WFO_cumsum = ((ACCESS_BSP_data.wfo_sum+FW_offset_kg_s)*dt.average_DT).cumsum('Time').isel(Time=Late_period[-1])\\\n",
    "            -(((ACCESS_BSP_data.wfo_sum+FW_offset_kg_s)*dt.average_DT).cumsum('Time').isel(Time=Early_period[0]))# units: kg\n",
    "\n",
    "        ## The final dflux value is then scaled by the time between the middle of t1 and the middle of t2\n",
    "        dhfds = HFDS_cumsum*int_scaling\n",
    "        dwfo = WFO_cumsum*int_scaling\n",
    "\n",
    "        ## Convert dflux to equivalent T or S change\n",
    "        dT_prior = (dhfds/(Cp*rho*V_early)).values.flatten() # units: C\n",
    "        dS_prior = (-dwfo*S0/(rho*V_early)).values.flatten() # units: g/kg\n",
    "\n",
    "        time = ACCESS_BSP_data.Time.values\n",
    "    else:\n",
    "        dT_prior = np.zeros_like(ACCESS_BSP_data.hfds_sum.isel(Time=0).values.flatten())\n",
    "        dS_prior = np.zeros_like(ACCESS_BSP_data.hfds_sum.isel(Time=0).values.flatten())\n",
    "\n",
    "    # Flatten the early and late variables to a 1D array\n",
    "    Vol_1 = V_early.values.flatten()\n",
    "    Vol_2 = V_late.values.flatten()\n",
    "    S_1 = SAV_early.values.flatten()/Vol_1-S0 # Remove reference salinity S0\n",
    "    S_2 = SAV_late.values.flatten()/Vol_2-S0 # Remove reference salinity S0\n",
    "    T_1 = CTV_early.values.flatten()/Vol_1\n",
    "    T_2 = CTV_late.values.flatten()/Vol_2\n",
    "    A_1 = A_early.values.flatten()\n",
    "    A_2 = A_late.values.flatten()\n",
    "\n",
    "    # Any NaNs are zeroed out\n",
    "    S_1[np.isnan(S_1)] = 0\n",
    "    S_2[np.isnan(S_2)] = 0\n",
    "    T_1[np.isnan(T_1)] = 0\n",
    "    T_2[np.isnan(T_2)] = 0\n",
    "\n",
    "    ##Scale by a small amount\n",
    "    Vol_2_star = Vol_1 + (Vol_2 - Vol_1)*(time_scaling)\n",
    "    T_2_star = (CTV_early.values.flatten()+\\\n",
    "            (CTV_late.values.flatten()-CTV_early.values.flatten())*(time_scaling))/Vol_2_star\n",
    "    S_2_star = (SAV_early.values.flatten()+\\\n",
    "            (SAV_late.values.flatten()-SAV_early.values.flatten())*(time_scaling))/Vol_2_star-S0\n",
    "    A_2_star = A_1 + (A_2 - A_1)*(time_scaling)\n",
    "\n",
    "    # Any NaNs are zeroed out\n",
    "    S_2_star[np.isnan(S_2_star)] = 0\n",
    "    T_2_star[np.isnan(T_2_star)] = 0\n",
    "\n",
    "    #... and for the edges of the BSP bins\n",
    "    ## Here we calculate the mean TS edges averaged over both early and late times\n",
    "    S_start = (0.5*(Part_early.values[:,:,0]+Part_late.values[:,:,0])).flatten()-S0 # Remove reference salinity S0\n",
    "    S_end = (0.5*(Part_early.values[:,:,1]+Part_late.values[:,:,1])).flatten()-S0 # Remove reference salinity S0\n",
    "    T_start = (0.5*(Part_early.values[:,:,2]+Part_late.values[:,:,2])).flatten()\n",
    "    T_end = (0.5*(Part_early.values[:,:,3]+Part_late.values[:,:,3])).flatten()\n",
    "\n",
    "    if SF: \n",
    "        ## Add the Q_prior to S_0; T_0 to get the 'initial' state ##\n",
    "        S_pre = SAV_early.values.flatten()/Vol_1-S0\n",
    "        S_1 = SAV_early.values.flatten()/Vol_1-S0+dS_prior\n",
    "        T_pre = CTV_early.values.flatten()/Vol_1\n",
    "        T_1 = CTV_early.values.flatten()/Vol_1+dT_prior\n",
    "        S_1[np.isnan(S_1)] = 0\n",
    "        T_1[np.isnan(T_1)] = 0\n",
    "        S_1[~np.isfinite(S_1)] = 0\n",
    "        T_1[~np.isfinite(T_1)] = 0\n",
    "        S_pre[np.isnan(S_pre)] = 0\n",
    "        T_pre[np.isnan(T_pre)] = 0\n",
    "        S_pre[~np.isfinite(S_pre)] = 0\n",
    "        T_pre[~np.isfinite(T_pre)] = 0\n",
    "\n",
    "    volumes = np.stack((Vol_1, Vol_2_star), axis=0)/volnorming # Shape: [2 x N]\n",
    "\n",
    "    salinities = np.stack((S_1, S_2_star), axis=0)\n",
    "    temps = np.stack((T_1, T_2_star), axis=0)\n",
    "\n",
    "    tracers = np.stack((salinities, temps),axis=1) # Shape: [2 x M x N], where M = 2 for just T and S, and M>2 for T,S+other tracers\n",
    "\n",
    "    ## We create a weight matrix\n",
    "    # For sqrt(1/Area)\n",
    "    A_2_modified = A_2_star.copy()\n",
    "\n",
    "    A_2_modified[A_2_modified==0] = 1.3*np.nanmin(A_2_star[A_2_star>0])#10**0.5 # this is the lowest I can make it for tree_depth=4 without it breaking\n",
    "\n",
    "    area_weight = np.sqrt(areanorming/A_2_modified)\n",
    "\n",
    "    area_cons = A_2_star/A_2_star-1\n",
    "    area_cons[np.isnan(area_cons)] = 1\n",
    "\n",
    "    weights = np.stack((S_scale*area_weight, T_scale*area_weight), axis=0) # Shape: An [M x N] matrix\n",
    "    hard_area = np.stack((area_cons,area_cons), axis=0)\n",
    "\n",
    "    ## Function has form MTM.optimise(tracers=tracers, volumes=volumes, cons_matrix = constraints, \n",
    "    #                                 trans = [transport,trans_val], Asection = [connected_Asection,threshold], weights=weights, hard_area = hard_area)\n",
    "    if SF:\n",
    "        result = MTM.optimise(tracers=tracers, volumes=volumes, cons_matrix = connected, weights=weights)#, hard_area = hard_area)\n",
    "    else:\n",
    "        result = MTM.optimise(tracers=tracers, volumes=volumes, cons_matrix = connected, weights=weights)\n",
    "\n",
    "    g_ij = result['g_ij'] ## An [N x N] matrix of transports between WMs\n",
    "    Mixing = result['Mixing'] ## An [M x N] matrix of dtracer mixing for each WM\n",
    "    Adjustment = result['Adjustment'] ## An [M x N] matrix of dtracer adjustment for each WM\n",
    "    G = result['G'] ## An [ix] matrix of transports between WMs\n",
    "    opt_val[k] = result['optimal_val']\n",
    "\n",
    "    N = int(Vol_1.shape[0])\n",
    "\n",
    "    ########\n",
    "    nofaces = np.count_nonzero(connected)\n",
    "\n",
    "\n",
    "    G = np.zeros((int(nofaces)))\n",
    "    ix=0\n",
    "    for i in (range(N)):\n",
    "        for j in range(N):\n",
    "            if connected[i,j]>0:\n",
    "                G[ix] = g_ij[i,j]\n",
    "                ix=ix+1   \n",
    "\n",
    "\n",
    "    Tmatrix=np.zeros((N,int(nofaces)))\n",
    "    Smatrix=np.zeros((N,int(nofaces)))\n",
    "\n",
    "    ix=0\n",
    "    for i in (range(N)):\n",
    "        for j in range(N):\n",
    "            if connected[i,j]>0:\n",
    "                Tmatrix[j,ix] = tracers[0,1,i] #vertex ix brings temp of WM i to WM j\n",
    "                Smatrix[j,ix] = tracers[0,0,i] #vertex ix brings temp of WM i to WM j\n",
    "\n",
    "                ix=ix+1\n",
    "\n",
    "    dTV = (volumes[1,:]*T_2_star)-(volumes[0,:]*T_pre)\n",
    "    dTVprior = dT_prior*volumes[0,:]\n",
    "    T1V1 = volumes[1,:]*T_2_star\n",
    "\n",
    "    dSV = (volumes[1,:]*S_2_star)-(volumes[0,:]*S_pre)\n",
    "    dSVprior = dS_prior*volumes[0,:]\n",
    "    S1V1 = volumes[1,:]*S_2_star\n",
    "\n",
    "    test = ((Tmatrix@G/volumes[1,:]))\n",
    "    testS = ((Smatrix@G/volumes[1,:]))\n",
    "    test[~np.isfinite(test)]= np.nan\n",
    "    test[test>100] = np.nan\n",
    "    testS[~np.isfinite(testS)]= np.nan\n",
    "    testS[testS>100] = np.nan\n",
    "\n",
    "    test2  = T_2_star - test\n",
    "    test2[np.isnan(test2)] = 0\n",
    "    test2S  = S_2_star - testS\n",
    "    test2S[np.isnan(test2S)] = 0\n",
    "\n",
    "    T_adj_array[k,:] = test2\n",
    "    S_adj_array[k,:] = test2S\n",
    "  \n",
    "    dQ_adj[k] = np.nansum((T1V1-Tmatrix@G))\n",
    "    dOHC[k] = np.nansum(dTV)\n",
    "    dQ_prior[k] = np.nansum(dTVprior)\n",
    "\n",
    "    dQS_adj[k] = np.nansum(S1V1-Smatrix@G)\n",
    "    dOSC[k] = np.nansum(dSV)\n",
    "    dQS_prior[k] = np.nansum(dSVprior)\n",
    "\n",
    "    A_T = np.zeros_like(Tmatrix)\n",
    "    A_S = np.zeros_like(Tmatrix)\n",
    "\n",
    "    for i in range(int(nofaces)):\n",
    "        A_T[:,i] = Tmatrix[:,i]*weights[1,:]\n",
    "        A_S[:,i] = Smatrix[:,i]*weights[0,:]\n",
    "\n",
    "    A = np.concatenate((A_T,A_S),axis=0)\n",
    "    \n",
    "    b = np.concatenate((volumes[1,:]*tracers[1,1,:]*weights[1,:],\\\n",
    "                    volumes[1,:]*tracers[1,0,:]*weights[0,:]), axis=0)\n",
    "    b[np.isnan(b)]=0\n",
    "\n",
    "    MSE_T[k] = np.nansum(abs(-T1V1*weights[1,:]+(A_T)@G)**2)\n",
    "    MSE_S[k] = np.nansum(abs(-S1V1*weights[0,:]+(A_S)@G)**2)\n",
    "    MSE_tot[k] = np.nansum(abs(A@G-b)**2)"
   ]
  },
  {
   "cell_type": "code",
   "execution_count": 190,
   "metadata": {},
   "outputs": [],
   "source": [
    "ACCESS_mapped_masks = xr.open_mfdataset('../Masks_processed/ACCESS_mask_%i_bins_7*.nc' %(tree_depth))\n",
    "\n",
    "if tree_depth<=4:\n",
    "    fuzz_combined = (ACCESS_mapped_masks.salt.isel(time=slice(108,216)).sum('time')/(dyrs*12)).values\n",
    "else:\n",
    "    fuzz_combined = (ACCESS_mapped_masks.salt.sum('time')/(dyrs*12)).values\n",
    "\n",
    "mask_ACCESS_xr = xr.open_mfdataset('../Basin_mask/mask_ACCESS.nc')\n",
    "\n",
    "mask_ACCESS = (mask_ACCESS_xr.mask_ACCESS.isel(st_ocean=0).values)\n",
    "\n",
    "data_ACCESS_hfds = xr.open_mfdataset('~/UNSW_Work/ACCESS_CM2/hfds_ACCESS_hist_proper.nc') ## hfds: Wm^-2; wfo: kgm^-2s^-1\n",
    "\n",
    "ACCESS_dArea = xr.open_mfdataset('~/UNSW_Work/ACCESS_CM2/darea_ACCESS_hist_proper.nc').sel(time=slice('1979-01-01',None)).mean('time')\n",
    "ACCESS_dArea_masked = data_ACCESS_hfds.__xarray_dataarray_variable__.isel(time=0)/data_ACCESS_hfds.__xarray_dataarray_variable__.isel(time=0)*ACCESS_dArea.area_t"
   ]
  },
  {
   "cell_type": "code",
   "execution_count": 191,
   "metadata": {},
   "outputs": [
    {
     "data": {
      "application/vnd.jupyter.widget-view+json": {
       "model_id": "716c7c2e07d6417d8ba429172637fb30",
       "version_major": 2,
       "version_minor": 0
      },
      "text/plain": [
       "  0%|          | 0/1 [00:00<?, ?it/s]"
      ]
     },
     "metadata": {},
     "output_type": "display_data"
    }
   ],
   "source": [
    "dhfds_adj_remapped_Wm2 = np.zeros((time_scaling_range.size, ACCESS_dArea_masked.yt_ocean.size,ACCESS_dArea_masked.xt_ocean.size ))\n",
    "dhfds_adj_remapped_J = np.zeros((time_scaling_range.size,ACCESS_dArea_masked.yt_ocean.size, ACCESS_dArea_masked.xt_ocean.size))\n",
    "dwfo_adj_remapped_mm_day = np.zeros((time_scaling_range.size,ACCESS_dArea_masked.yt_ocean.size, ACCESS_dArea_masked.xt_ocean.size))\n",
    "dwfo_adj_remapped_m3 = np.zeros((time_scaling_range.size,ACCESS_dArea_masked.yt_ocean.size, ACCESS_dArea_masked.xt_ocean.size))\n",
    "\n",
    "for k in tqdm(range(time_scaling_range.size)):\n",
    "        # Flatten the early and late variables to a 1D array\n",
    "    Vol_1 = V_early.values.flatten()\n",
    "    Vol_2 = V_late.values.flatten()\n",
    "    S_1 = SAV_early.values.flatten()/Vol_1-S0 # Remove reference salinity S0\n",
    "    S_2 = SAV_late.values.flatten()/Vol_2-S0 # Remove reference salinity S0\n",
    "    T_1 = CTV_early.values.flatten()/Vol_1\n",
    "    T_2 = CTV_late.values.flatten()/Vol_2\n",
    "    A_1 = A_early.values.flatten()\n",
    "    A_2 = A_late.values.flatten()\n",
    "\n",
    "    # Any NaNs are zeroed out\n",
    "    S_1[np.isnan(S_1)] = 0\n",
    "    S_2[np.isnan(S_2)] = 0\n",
    "    T_1[np.isnan(T_1)] = 0\n",
    "    T_2[np.isnan(T_2)] = 0\n",
    "\n",
    "    ##Scale by a small amount\n",
    "    Vol_2_star = Vol_1 + (Vol_2 - Vol_1)*(time_scaling_range[k])\n",
    "    T_2_star = (CTV_early.values.flatten()+\\\n",
    "            (CTV_late.values.flatten()-CTV_early.values.flatten())*(time_scaling_range[k]))/Vol_2_star\n",
    "    S_2_star = (SAV_early.values.flatten()+\\\n",
    "            (SAV_late.values.flatten()-SAV_early.values.flatten())*(time_scaling_range[k]))/Vol_2_star-S0\n",
    "    A_2_star = A_1 + (A_2 - A_1)*(time_scaling_range[k])\n",
    "\n",
    "    # Any NaNs are zeroed out\n",
    "    S_2_star[np.isnan(S_2_star)] = 0\n",
    "    T_2_star[np.isnan(T_2_star)] = 0\n",
    "\n",
    "\n",
    "    ## Calculate the adjustment term\n",
    "    dS_adj_stacked = S_adj_array[k,:]*(1/time_scaling_range[k])\n",
    "    dT_adj_stacked = T_adj_array[k,:]*(1/time_scaling_range[k])\n",
    "\n",
    "    Vol_2_star_da = xr.DataArray(data = Vol_2_star, dims ={'WM_number'}, coords = {'WM_number':np.arange(0,144)})\n",
    "    A_2_star_da = xr.DataArray(data = A_2_star, dims ={'WM_number'}, coords = {'WM_number':np.arange(0,144)})\n",
    "\n",
    "    ds_vol_late_stacked = Vol_2_star_da\n",
    "    ds_area_late_stacked = A_2_star_da\n",
    "    ds_area_early_stacked = A_early.stack(WM_number = ['Basin', 'Depth'])\n",
    "    ds_area_early_stacked['WM_number'] = np.arange(0,144)\n",
    "\n",
    "    mask_WM_basin = mask_ACCESS_xr.mask_ACCESS.isel(st_ocean=0)*(ACCESS_mapped_masks.salt.isel(time=slice(Early_period[0]-1440,Early_period[-1]-1440)).sum('time')/(dyrs*12))\n",
    "    mask_WM_basin_stacked = mask_WM_basin.stack(WM_number = ['Basins', 'tree_depth'])\n",
    "    mask_WM_basin_stacked['WM_number'] = np.arange(0,144)\n",
    "\n",
    "    ### Adjustment in W/m2 for maps\n",
    "    dhfds_adj_Wm2 = dT_adj_stacked*ds_vol_late_stacked*rho*Cp/(range_yrs*yr2sec*ds_area_late_stacked)\n",
    "    dhfds_adj_remapped_Wm2_bias = (dhfds_adj_Wm2.where(abs(dhfds_adj_Wm2)!=np.inf, 0)*mask_WM_basin_stacked).sum('WM_number')\n",
    "\n",
    "    ## Adjustment in J for the heat budget\n",
    "    dhfds_adj_J = dT_adj_stacked*ds_vol_late_stacked*rho*Cp/ds_area_late_stacked\n",
    "\n",
    "    dhfds_adj_remapped_J_bias = (dhfds_adj_J.where(abs(dhfds_adj_J)!=np.inf, 0)*mask_WM_basin_stacked).sum('WM_number')*ACCESS_dArea_masked\n",
    "\n",
    "    dhfds_adj_J_missing = ((dT_adj_stacked*ds_vol_late_stacked*rho*Cp).sum('WM_number')-\\\n",
    "                                    (dhfds_adj_remapped_J_bias).sum(['xt_ocean','yt_ocean']))\n",
    "\n",
    "    dhfds_adj_remapped_Wm2_missing = dhfds_adj_J_missing/(range_yrs*yr2sec*np.nansum(ACCESS_dArea_masked.values))\n",
    "    dhfds_adj_remapped_Wm2[k,:,:] = dhfds_adj_remapped_Wm2_bias+dhfds_adj_remapped_Wm2_missing\n",
    "    dhfds_adj_remapped_J[k,:,:] = dhfds_adj_remapped_J_bias+dhfds_adj_J_missing/(np.nansum(ACCESS_dArea_masked.values))*ACCESS_dArea_masked\n",
    "\n",
    "    dwfo_adj_mm_day = -dS_adj_stacked*ds_vol_late_stacked/(range_yrs*yr2sec*ds_area_late_stacked*S0)*24*3600*1000\n",
    "    dwfo_adj_remapped_mm_day_bias = (dwfo_adj_mm_day.where(abs(dwfo_adj_mm_day)!=np.inf, 0)*mask_WM_basin_stacked).sum('WM_number')\n",
    "\n",
    "    ## Adjustment in m3 for the FW budget\n",
    "    dwfo_adj_m3 = -dS_adj_stacked*ds_vol_late_stacked/(S0*ds_area_late_stacked)\n",
    "    dwfo_adj_remapped_m3_bias = (dwfo_adj_m3.where(abs(dwfo_adj_m3)!=np.inf, 0).fillna(0)*mask_WM_basin_stacked).sum('WM_number')*ACCESS_dArea_masked\n",
    "\n",
    "    dwfo_adj_m3_missing = ((-dS_adj_stacked*ds_vol_late_stacked/S0).sum('WM_number')-\\\n",
    "                                    (dwfo_adj_remapped_m3_bias).sum(['xt_ocean','yt_ocean']))\n",
    "\n",
    "    dwfo_adj_remapped_mm_day_missing = dwfo_adj_m3_missing/(range_yrs*yr2sec*np.nansum(ACCESS_dArea_masked.values))*24*3600*1000\n",
    "    dwfo_adj_remapped_mm_day[k,:,:] = dwfo_adj_remapped_mm_day_bias+dwfo_adj_remapped_mm_day_missing\n",
    "    dwfo_adj_remapped_m3[k,:,:] = dwfo_adj_remapped_m3_bias+dwfo_adj_m3_missing/(np.nansum(ACCESS_dArea_masked.values))*ACCESS_dArea_masked"
   ]
  },
  {
   "cell_type": "code",
   "execution_count": 193,
   "metadata": {},
   "outputs": [
    {
     "data": {
      "image/png": "[encoded data removed]",
      "text/plain": [
       "<Figure size 432x288 with 2 Axes>"
      ]
     },
     "metadata": {
      "needs_background": "light"
     },
     "output_type": "display_data"
    }
   ],
   "source": [
    "\n",
    "plt.pcolor(ACCESS_dArea_masked.yt_ocean, time_scaling_range, np.cumsum(np.nansum(dhfds_adj_remapped_J,axis=-1),axis=-1)/(range_yrs*yr2sec*1e15), vmin=-1, vmax=1, cmap=plt.cm.bwr)\n",
    "# plt.yscale('log')\n",
    "plt.colorbar()\n",
    "plt.grid()"
   ]
  },
  {
   "cell_type": "code",
   "execution_count": 194,
   "metadata": {},
   "outputs": [
    {
     "name": "stdout",
     "output_type": "stream",
     "text": [
      "1\n"
     ]
    },
    {
     "data": {
      "text/plain": [
       "[<matplotlib.lines.Line2D at 0x7fe7970a8410>]"
      ]
     },
     "execution_count": 194,
     "metadata": {},
     "output_type": "execute_result"
    },
    {
     "data": {
      "image/png": "[encoded data removed]",
      "text/plain": [
       "<Figure size 432x288 with 1 Axes>"
      ]
     },
     "metadata": {
      "needs_background": "light"
     },
     "output_type": "display_data"
    }
   ],
   "source": [
    "print(time_scaling_range[-1])\n",
    "plt.plot((np.cumsum(np.nansum(dhfds_adj_remapped_J[-1,:,:],axis=-1),axis=-1)/(range_yrs*yr2sec*1e15)))\n"
   ]
  },
  {
   "cell_type": "code",
   "execution_count": 201,
   "metadata": {},
   "outputs": [
    {
     "data": {
      "text/plain": [
       "<matplotlib.collections.PolyCollection at 0x7fe79bc83650>"
      ]
     },
     "execution_count": 201,
     "metadata": {},
     "output_type": "execute_result"
    },
    {
     "data": {
      "image/png": "[encoded data removed]",
      "text/plain": [
       "<Figure size 432x288 with 1 Axes>"
      ]
     },
     "metadata": {
      "needs_background": "light"
     },
     "output_type": "display_data"
    }
   ],
   "source": [
    "plt.pcolor(dhfds_adj_remapped_Wm2[-1,:,:], vmin=-1, vmax=1, cmap=plt.cm.bwr)"
   ]
  },
  {
   "cell_type": "code",
   "execution_count": 196,
   "metadata": {},
   "outputs": [
    {
     "data": {
      "text/plain": [
       "[<matplotlib.lines.Line2D at 0x7fe7c0da62d0>]"
      ]
     },
     "execution_count": 196,
     "metadata": {},
     "output_type": "execute_result"
    },
    {
     "data": {
      "image/png": "[encoded data removed]",
      "text/plain": [
       "<Figure size 432x288 with 1 Axes>"
      ]
     },
     "metadata": {
      "needs_background": "light"
     },
     "output_type": "display_data"
    }
   ],
   "source": [
    "plt.plot((np.cumsum(np.nansum(dhfds_adj_remapped_J[-1,:,:],axis=-1),axis=-1)/(range_yrs*yr2sec*1e15)))\n"
   ]
  },
  {
   "cell_type": "code",
   "execution_count": 198,
   "metadata": {},
   "outputs": [
    {
     "name": "stdout",
     "output_type": "stream",
     "text": [
      "8.674078400836024e+22\n",
      "7.697445622444622e+22\n",
      "9.766437433361335e+21\n"
     ]
    }
   ],
   "source": [
    "print(dOHC[0]*volnorming*rho*Cp)\n",
    "print(dQ_prior[0]*volnorming*rho*Cp)\n",
    "print(dQ_adj[0]*volnorming*rho*Cp)"
   ]
  },
  {
   "cell_type": "code",
   "execution_count": 202,
   "metadata": {},
   "outputs": [
    {
     "name": "stdout",
     "output_type": "stream",
     "text": [
      "[8.6740784e+22]\n"
     ]
    }
   ],
   "source": [
    "print(np.nancumsum(dOHC[0]*volnorming)*rho*Cp)"
   ]
  },
  {
   "cell_type": "code",
   "execution_count": 200,
   "metadata": {},
   "outputs": [
    {
     "data": {
      "text/plain": [
       "[<matplotlib.lines.Line2D at 0x7fe79b3464d0>]"
      ]
     },
     "execution_count": 200,
     "metadata": {},
     "output_type": "execute_result"
    },
    {
     "data": {
      "image/png": "[encoded data removed]",
      "text/plain": [
       "<Figure size 432x288 with 1 Axes>"
      ]
     },
     "metadata": {
      "needs_background": "light"
     },
     "output_type": "display_data"
    }
   ],
   "source": [
    "plt.plot(1997, np.nancumsum(dOHC[0]*volnorming)*rho*Cp, 'o')\n",
    "plt.plot(np.linspace(1979,2014,432), \\\n",
    "         rho*Cp*(((ACCESS_BSP_data.T_mean-273.15)*ACCESS_BSP_data.V_sum).isel(Time=slice(1548, None)).sum(['Basin', 'Depth']).values-\\\n",
    "            ((ACCESS_BSP_data.T_mean-273.15)*ACCESS_BSP_data.V_sum).isel(Time=1548).sum(['Basin', 'Depth']).values))\n",
    "\n",
    "plt.plot(1997, np.nancumsum(dQ_prior[0]*volnorming)*rho*Cp, 'ko')\n",
    "plt.plot(np.linspace(1979,2014,432), \\\n",
    "         ((ACCESS_BSP_data.hfds_sum*dt.average_DT).isel(Time=slice(1548, None)).sum(['Basin', 'Depth']).cumsum('Time').values-\\\n",
    "            (ACCESS_BSP_data.hfds_sum*dt.average_DT).isel(Time=1548).sum(['Basin', 'Depth']).values))\n"
   ]
  },
  {
   "cell_type": "code",
   "execution_count": 54,
   "metadata": {},
   "outputs": [
    {
     "data": {
      "image/png": "[encoded data removed]",
      "text/plain": [
       "<Figure size 360x1080 with 3 Axes>"
      ]
     },
     "metadata": {},
     "output_type": "display_data"
    }
   ],
   "source": [
    "fig, axs = plt.subplots(3,1, figsize=(5,15), facecolor='w', edgecolor='k')\n",
    "fig.subplots_adjust(hspace = .2, wspace=0.2)\n",
    "axs = axs.ravel()\n",
    "\n",
    "axs[0].semilogx(time_scaling_range, MSE_T, label = 'SSE_T')\n",
    "axs[0].semilogx(time_scaling_range, MSE_S, label = 'SSE_S')\n",
    "axs[0].semilogx(time_scaling_range, MSE_tot, label = 'SSE_T+SSE_S')\n",
    "axs[0].grid()\n",
    "axs[0].legend()\n",
    "\n",
    "axs[0].set_ylabel('SSE')\n",
    "axs[0].set_xlabel('Time Scaling')\n",
    "\n",
    "axs[1].semilogx(time_scaling_range, abs(dQ_adj), label ='|dTV_adj|')\n",
    "axs[1].semilogx(time_scaling_range, -dQ_prior+dOHC, label = 'T1V1-T0V0-dTV_prior')\n",
    "axs[1].semilogx(time_scaling_range, abs(dQ_adj+dQ_prior-dOHC), label = '|T1V1-T0V0-dTV_prior-dTV_adj|')\n",
    "axs[1].set_ylabel('Heat Budget')\n",
    "axs[1].set_xlabel('Time Scaling')\n",
    "\n",
    "axs[1].set_yscale('log')\n",
    "axs[1].legend()\n",
    "axs[1].grid()\n",
    "\n",
    "axs[2].semilogx(time_scaling_range, abs(dQS_adj), label ='|dSV_adj|')\n",
    "axs[2].semilogx(time_scaling_range, -dQS_prior+dOSC, label = 'S1V1-S0V0-dSV_prior')\n",
    "axs[2].semilogx(time_scaling_range, abs(dQS_adj+dQS_prior-dOSC), label = '|S1V1-S0V0-dSV_prior-dSV_adj|')\n",
    "axs[2].set_ylabel('Salt Budget')\n",
    "axs[2].set_xlabel('Time Scaling')\n",
    "\n",
    "axs[2].set_yscale('log')\n",
    "axs[2].legend()\n",
    "axs[2].grid()\n",
    "\n",
    "plt.savefig('../Figures/Actual_Qprior_budgets_timescaling_oppobias.png', dpi=300, bbox_inches='tight')\n",
    "plt.show()"
   ]
  },
  {
   "cell_type": "code",
   "execution_count": 55,
   "metadata": {},
   "outputs": [
    {
     "data": {
      "image/png": "[encoded data removed]",
      "text/plain": [
       "<Figure size 360x720 with 4 Axes>"
      ]
     },
     "metadata": {},
     "output_type": "display_data"
    }
   ],
   "source": [
    "fig, axs = plt.subplots(2,1, figsize=(5,10), facecolor='w', edgecolor='k')\n",
    "fig.subplots_adjust(hspace = .25, wspace=0.2)\n",
    "axs = axs.ravel()\n",
    "im0 = axs[0].pcolor(time_scaling_range, np.arange(144), T_adj_array.T, vmin=-1e-1, vmax=1e-1, cmap=plt.cm.bwr)\n",
    "axs[0].set_xscale('log')\n",
    "axs[0].grid()\n",
    "axs[0].set_ylabel('WM number')\n",
    "axs[0].set_xlabel('Time Scaling')\n",
    "axs[0].set_title('T_adj')\n",
    "fig.colorbar(im0, ax=axs[0])  # Add colorbar to the first subplot\n",
    "\n",
    "im1 = axs[1].pcolor(time_scaling_range, np.arange(144), S_adj_array.T, vmin=-1e-2, vmax=1e-2, cmap=plt.cm.bwr)\n",
    "axs[1].set_xscale('log')\n",
    "axs[1].grid()\n",
    "axs[1].set_ylabel('WM number')\n",
    "axs[1].set_xlabel('Time Scaling')\n",
    "axs[1].set_title('S_adj')\n",
    "fig.colorbar(im1, ax=axs[1])  # Add colorbar to the first subplot\n",
    "plt.savefig('../Figures/Actual_Qprior_TS_adj_timescaling_oppobias.png', dpi=300, bbox_inches='tight')\n",
    "plt.show()"
   ]
  },
  {
   "attachments": {},
   "cell_type": "markdown",
   "metadata": {},
   "source": [
    "---------------\n",
    "## C) Define Constraints"
   ]
  },
  {
   "cell_type": "code",
   "execution_count": null,
   "metadata": {},
   "outputs": [],
   "source": []
  },
  {
   "attachments": {},
   "cell_type": "markdown",
   "metadata": {},
   "source": [
    "### i) Define Connectivity"
   ]
  },
  {
   "attachments": {},
   "cell_type": "markdown",
   "metadata": {},
   "source": [
    "We must define whether a BSP bin is allowed to transport volume to another BSP bin. In the simplest case, all bins are allowed to transport to one another - but this yields nonphysical transport across vast distances and TS bounds.\n",
    "To improve on this, two connectivity constraints are used: \n",
    "1) Are the basins adjacent? This is defined via the connectivity array, below\n",
    "2) If YES, do the BSP bins have overlapping (or the same) TS boundaries?\\\n",
    "If yes, the bins are connected. If no, they are not.\n"
   ]
  },
  {
   "cell_type": "code",
   "execution_count": null,
   "metadata": {},
   "outputs": [],
   "source": []
  },
  {
   "cell_type": "code",
   "execution_count": null,
   "metadata": {},
   "outputs": [],
   "source": []
  },
  {
   "cell_type": "code",
   "execution_count": null,
   "metadata": {},
   "outputs": [],
   "source": []
  },
  {
   "attachments": {},
   "cell_type": "markdown",
   "metadata": {},
   "source": [
    "### ii) Define Weights"
   ]
  },
  {
   "cell_type": "code",
   "execution_count": null,
   "metadata": {},
   "outputs": [],
   "source": []
  },
  {
   "attachments": {},
   "cell_type": "markdown",
   "metadata": {},
   "source": [
    "-----------------\n",
    "## D) Run Optimisation"
   ]
  },
  {
   "cell_type": "code",
   "execution_count": null,
   "metadata": {},
   "outputs": [],
   "source": []
  },
  {
   "cell_type": "code",
   "execution_count": null,
   "metadata": {},
   "outputs": [],
   "source": []
  },
  {
   "cell_type": "code",
   "execution_count": null,
   "metadata": {},
   "outputs": [],
   "source": []
  },
  {
   "cell_type": "code",
   "execution_count": null,
   "metadata": {},
   "outputs": [
    {
     "data": {
      "text/plain": [
       "array([-2.44527385, -0.48553451, -3.93674971, -0.52199347, -0.4002662 ,\n",
       "       -0.14312377, -0.33615517,  0.10771156, -4.11507252, -0.53745475,\n",
       "       -4.71441733, -0.53089683,  0.08718099,  0.52565025,  0.24185258,\n",
       "        2.29710172, -3.42832899,  0.        , -2.83073152, -0.53961764,\n",
       "        0.        , -0.13134139, -0.39792512,  0.09149524, -2.04830447,\n",
       "       -0.53586454, -1.30083665, -0.52314877,  0.12276025,  0.54842101,\n",
       "        0.34045522,  2.70690276,  0.        ,  0.        ,  0.        ,\n",
       "        0.        ,  0.        , -0.13322707,  0.        ,  0.08248497,\n",
       "        0.        ,  0.        , -1.26105224, -0.52530937,  0.11370336,\n",
       "        0.32039969,  0.3270321 ,  0.78794367,  0.        ,  0.        ,\n",
       "        0.        ,  0.        , -0.36898793, -0.15069877, -0.27931635,\n",
       "        0.01176422,  0.        , -0.41228568, -0.91679835, -0.51444704,\n",
       "       -0.09883228,  0.24145386,  0.09602356,  1.1163979 , -0.53551381,\n",
       "       -0.48180406, -0.6224511 , -0.49038916, -0.36334511, -0.26662614,\n",
       "       -0.32339927, -0.18290282, -0.71339953, -0.49750997, -1.02018587,\n",
       "       -0.51119227, -0.14962862,  0.35055763,  0.09054485,  1.16367054,\n",
       "       -0.53783576, -0.48453548, -0.65215618, -0.56226598, -0.3969109 ,\n",
       "       -0.31301697, -0.4275672 ,  0.        , -0.78109336, -0.64656118,\n",
       "       -0.84813777, -0.58355062, -0.36113986,  0.        , -0.07959257,\n",
       "        0.68634327, -0.53834018, -0.48196816, -0.63718613, -0.54974518,\n",
       "       -0.39635694, -0.33393501, -0.43983087,  0.16180908, -0.74391065,\n",
       "       -0.61588041, -0.92732527, -0.59113821, -0.3999939 ,  0.40528842,\n",
       "       -0.24159905,  0.91765923, -0.85119927, -0.48259189, -0.88429033,\n",
       "       -0.55456417, -0.39413415, -0.3303326 , -0.44317847,  0.16236572,\n",
       "       -1.00596476, -0.61565689, -1.06821446, -0.56822172, -0.33343499,\n",
       "        0.40430143, -0.0345179 ,  0.76867299, -0.82602886, -0.48338404,\n",
       "       -0.8907356 , -0.53942851, -0.38761914, -0.27728581, -0.35059835,\n",
       "       -0.0951235 , -0.91585521, -0.5719966 , -0.89348001, -0.54017765,\n",
       "       -0.27878962,  0.19714485, -0.12389829,  0.61899659])"
      ]
     },
     "execution_count": 20,
     "metadata": {},
     "output_type": "execute_result"
    }
   ],
   "source": [
    "S_2_star"
   ]
  },
  {
   "cell_type": "code",
   "execution_count": null,
   "metadata": {},
   "outputs": [
    {
     "data": {
      "image/png": "[encoded data removed]",
      "text/plain": [
       "<Figure size 432x288 with 2 Axes>"
      ]
     },
     "metadata": {
      "needs_background": "light"
     },
     "output_type": "display_data"
    },
    {
     "data": {
      "image/png": "[encoded data removed]",
      "text/plain": [
       "<Figure size 432x288 with 2 Axes>"
      ]
     },
     "metadata": {
      "needs_background": "light"
     },
     "output_type": "display_data"
    }
   ],
   "source": [
    "plt.scatter(S_2_star+S0, T_2_star, 10, c=test2, vmin=-0.5, vmax=0.5, cmap=plt.cm.bwr)\n",
    "plt.colorbar()\n",
    "plt.show()\n",
    "plt.scatter(S_2_star+S0, T_2_star, 10, c=test2S, vmin=-0.01, vmax=0.01, cmap=plt.cm.bwr)\n",
    "plt.colorbar()\n",
    "plt.show()"
   ]
  },
  {
   "cell_type": "markdown",
   "metadata": {},
   "source": [
    "dTV_adj =  1548731278288771.8\\\n",
    "T1V1-T0V0 =  5.970754610608535e+16\\\n",
    "dTpriorV0 =  5.815887594014721e+16\\\n",
    "-(T1V1-T0V0)+dTV_adj+dTpriorV0 [x10^10]=  6.111235062775\\\n",
    "dSV_adj =  4.520316659759652e+19\\\n",
    "S1V1-S0V0 =  4.520307182865577e+19\\\n",
    "dSpriorV0 =  -94772334971750.64\\\n",
    "-(S1V1-S0V0)+dSV_adj+dSpriorV0 [x10^10]=  -0.3394215936"
   ]
  },
  {
   "cell_type": "code",
   "execution_count": null,
   "metadata": {},
   "outputs": [
    {
     "data": {
      "image/png": "[encoded data removed]",
      "text/plain": [
       "<Figure size 432x288 with 1 Axes>"
      ]
     },
     "metadata": {
      "needs_background": "light"
     },
     "output_type": "display_data"
    }
   ],
   "source": [
    "plt.plot(T_pre)\n",
    "plt.plot(T_1, linestyle='dashed') # T_1 = T_pre+dT_prior\n",
    "plt.plot(T_2)\n",
    "plt.grid()"
   ]
  },
  {
   "cell_type": "code",
   "execution_count": null,
   "metadata": {},
   "outputs": [
    {
     "name": "stdout",
     "output_type": "stream",
     "text": [
      "22\n"
     ]
    }
   ],
   "source": [
    "print(np.argmax(T_2-T_1))"
   ]
  },
  {
   "cell_type": "code",
   "execution_count": null,
   "metadata": {},
   "outputs": [
    {
     "data": {
      "text/plain": [
       "[<matplotlib.lines.Line2D at 0x7f8e74f93ed0>]"
      ]
     },
     "execution_count": 24,
     "metadata": {},
     "output_type": "execute_result"
    },
    {
     "data": {
      "image/png": "[encoded data removed]",
      "text/plain": [
       "<Figure size 432x288 with 1 Axes>"
      ]
     },
     "metadata": {
      "needs_background": "light"
     },
     "output_type": "display_data"
    }
   ],
   "source": [
    "plt.plot(dT_prior)"
   ]
  },
  {
   "cell_type": "code",
   "execution_count": null,
   "metadata": {},
   "outputs": [
    {
     "data": {
      "text/plain": [
       "[<matplotlib.lines.Line2D at 0x7f8e6d3ac190>]"
      ]
     },
     "execution_count": 25,
     "metadata": {},
     "output_type": "execute_result"
    },
    {
     "data": {
      "image/png": "[encoded data removed]",
      "text/plain": [
       "<Figure size 432x288 with 1 Axes>"
      ]
     },
     "metadata": {
      "needs_background": "light"
     },
     "output_type": "display_data"
    }
   ],
   "source": [
    "Tmixed = Tmatrix@G/volumes[1,:]\n",
    "Tmixed[~np.isfinite(Tmixed)]= np.nan\n",
    "Tmixed[Tmixed>100] = np.nan\n",
    "Smixed = Smatrix@G/Vol_2\n",
    "Smixed[~np.isfinite(Smixed)]= np.nan\n",
    "Smixed[Smixed>10**4] = np.nan\n",
    "\n",
    "# Now the necessary heat and salt adjustment is simply the difference\n",
    "# between this and what we actually get\n",
    "T_Av_adj = (T_2_star-Tmixed)\n",
    "T_Av_adj[np.isnan(T_Av_adj)] = 0\n",
    "# plt.plot(CTV_late.values.flatten()/Vol_2)\n",
    "plt.plot(T_Av_adj)\n",
    "plt.plot(dT_prior)\n",
    "# plt.plot((T_2-T_pre))"
   ]
  },
  {
   "cell_type": "code",
   "execution_count": null,
   "metadata": {},
   "outputs": [
    {
     "name": "stdout",
     "output_type": "stream",
     "text": [
      "dTV_adj =  0.15487312417817745\n",
      "dTV_adj =  0.0003973170548931975\n",
      "dTV_adj =  0.0003973170548931975\n"
     ]
    },
    {
     "data": {
      "image/png": "[encoded data removed]",
      "text/plain": [
       "<Figure size 432x288 with 1 Axes>"
      ]
     },
     "metadata": {
      "needs_background": "light"
     },
     "output_type": "display_data"
    }
   ],
   "source": [
    "plt.plot(Tmixed)\n",
    "print('dTV_adj = ',np.nansum((T1V1*volnorming-Tmatrix@G*volnorming)*1/time_scaling)/1e16)\n",
    "print('dTV_adj = ',np.nansum(T_Av_adj*A_2_star*1/time_scaling)/1e16)\n",
    "print('dTV_adj = ',np.nansum(T_Av_adj*A_2*1/time_scaling)/1e16)\n"
   ]
  },
  {
   "cell_type": "code",
   "execution_count": null,
   "metadata": {},
   "outputs": [
    {
     "name": "stdout",
     "output_type": "stream",
     "text": [
      "1.2915184735811986e+18\n",
      "1.2915184735811986e+18\n"
     ]
    }
   ],
   "source": [
    "print(np.nansum(Vol_2))\n",
    "print(np.nansum(Vol_2_star))\n"
   ]
  },
  {
   "cell_type": "code",
   "execution_count": null,
   "metadata": {},
   "outputs": [],
   "source": [
    "## Break down the Mixing and Adjustment matrices into their constituent tracers\n",
    "dT_mixing = Mixing[1,:]\n",
    "dS_mixing = Mixing[0,:]\n",
    "dS_adj = Adjustment[0,:]\n",
    "dT_adj = Adjustment[1,:]"
   ]
  },
  {
   "attachments": {},
   "cell_type": "markdown",
   "metadata": {},
   "source": [
    "----------\n",
    "## E) Save Output "
   ]
  },
  {
   "cell_type": "code",
   "execution_count": null,
   "metadata": {},
   "outputs": [],
   "source": [
    "file_path = '../Optimisation_results/ACCESS_CM2_scaled_1e6_transports.nc'"
   ]
  },
  {
   "cell_type": "code",
   "execution_count": null,
   "metadata": {},
   "outputs": [
    {
     "name": "stdout",
     "output_type": "stream",
     "text": [
      "File deleted\n",
      "File saved\n"
     ]
    }
   ],
   "source": [
    "import os\n",
    "if os.path.exists(file_path):\n",
    "   os.remove(file_path)\n",
    "   print('File deleted')\n",
    "\n",
    "da_dT_mixing = xr.DataArray(data = dT_mixing, dims = [\"WM_number\"],\n",
    "                           coords=dict(WM_number = np.arange(0,N)),\n",
    "                        attrs=dict(description=\"Temperature Mixing\", units=\"\\Delta K\", variable_id=\"EN4 Tmix\"))\n",
    "da_dS_mixing = xr.DataArray(data = dS_mixing, dims = [\"WM_number\"],\n",
    "                           coords=dict(WM_number = np.arange(0,N)),\n",
    "                        attrs=dict(description=\"Salinity Mixing\", units=\"\\Delta g/kg\", variable_id=\"EN4 Smix\"))\n",
    "da_dT_adjustment = xr.DataArray(data = dT_adj, dims = [\"WM_number\"],\n",
    "                           coords=dict(WM_number = np.arange(0,N)),\n",
    "                        attrs=dict(description=\"Temperature Adjustment\", units=\"\\Delta K\", variable_id=\"EN4 Tadj\"))\n",
    "da_dS_adjustment = xr.DataArray(data = dS_adj, dims = [\"WM_number\"],\n",
    "                           coords=dict(WM_number = np.arange(0,N)),\n",
    "                        attrs=dict(description=\"Salinity Adjustment\", units=\"\\Delta g/kg\", variable_id=\"EN4 Sadj\"))\n",
    "da_gij = xr.DataArray(data = g_ij*volnorming, dims = [\"WM_initial\", \"WM_final\"],\n",
    "                           coords=dict(WM_initial = np.arange(0,N), WM_final = np.arange(0,N)),\n",
    "                        attrs=dict(description=\"Volume transport\", units=\"m^3\", variable_id=\"EN4 Gij\"))\n",
    "\n",
    "## Create xarray DataSet that will hold all these DataArrays\n",
    "ds_BSP = xr.Dataset()\n",
    "ds_BSP['dT_mixing'] = da_dT_mixing\n",
    "ds_BSP['dS_mixing'] = da_dS_mixing\n",
    "ds_BSP['dT_adjustment'] = da_dT_adjustment\n",
    "ds_BSP['dS_adjustment'] = da_dS_adjustment\n",
    "ds_BSP['gij'] = da_gij\n",
    "\n",
    "ds_BSP.to_netcdf(file_path, mode='w')\n",
    "print('File saved')\n"
   ]
  },
  {
   "cell_type": "code",
   "execution_count": null,
   "metadata": {},
   "outputs": [],
   "source": []
  }
 ],
 "metadata": {
  "kernelspec": {
   "display_name": "Python 3.7.6 ('base')",
   "language": "python",
   "name": "python3"
  },
  "language_info": {
   "codemirror_mode": {
    "name": "ipython",
    "version": 3
   },
   "file_extension": ".py",
   "mimetype": "text/x-python",
   "name": "python",
   "nbconvert_exporter": "python",
   "pygments_lexer": "ipython3",
   "version": "3.7.6"
  },
  "vscode": {
   "interpreter": {
    "hash": "00ec6b5807eb4cae4bdd23e758d78199b5749ea4aa251c45b926838befc3bdc7"
   }
  }
 },
 "nbformat": 4,
 "nbformat_minor": 2
}
