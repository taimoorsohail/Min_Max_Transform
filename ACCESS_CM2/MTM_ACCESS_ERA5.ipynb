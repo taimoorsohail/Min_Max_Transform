{
 "cells": [
  {
   "attachments": {},
   "cell_type": "markdown",
   "metadata": {},
   "source": [
    "## <center>An inverse model for inferring surface fluxes and mixing from gridded hydrographic TS data, <br> by Taimoor Sohail and Jan D. Zika"
   ]
  },
  {
   "attachments": {},
   "cell_type": "markdown",
   "metadata": {},
   "source": [
    "\n",
    "##### <center>We use an optimal transport method, minimzing a cost function which respects the volume and mass conservation, and the fundamental physics of mixing in T-S space. <br>See also: Jan D Zika et al. (2021) [www.doi.org/10.1175/JCLI-D-20-0355.1 ] for a simpler version of this model which optimizes ocean circulation only.\n",
    "------------"
   ]
  },
  {
   "attachments": {},
   "cell_type": "markdown",
   "metadata": {},
   "source": [
    "### __The code is laid out as follows:__\n",
    "#### A) Pre-processing\n",
    "i) Load necessary modules for computation \\\n",
    "ii) Define key parameters\n",
    "#### B) Load Data\n",
    "#### C) Define constraints\n",
    "i) Define Connectivity \\\n",
    "ii) Define weights\n",
    "#### D) Run optimisation\n",
    "#### E) Save Output\n",
    "---------"
   ]
  },
  {
   "attachments": {},
   "cell_type": "markdown",
   "metadata": {},
   "source": [
    "## A) Pre-processing"
   ]
  },
  {
   "attachments": {},
   "cell_type": "markdown",
   "metadata": {},
   "source": [
    "### i) Load necessary modules for computation"
   ]
  },
  {
   "cell_type": "code",
   "execution_count": 2,
   "metadata": {},
   "outputs": [],
   "source": [
    "## Module to run the minimisation\n",
    "from WM_Methods import MTM\n",
    "## The linear optimisation module\n",
    "import cvxpy as cp \n",
    "## Module to track runtime of cells and loops\n",
    "import time\n",
    "from tqdm.notebook import tqdm\n",
    "## Suppress warnings related to division by zero\n",
    "import warnings\n",
    "warnings.filterwarnings('ignore')\n",
    "## Module to load files and handle array computations\n",
    "import xarray as xr\n",
    "import numpy as np\n",
    "## Modules to plot outputs\n",
    "import matplotlib.pyplot as plt\n",
    "import matplotlib.patches as patches\n",
    "import pandas as pd\n",
    "import cartopy.crs as ccrs\n",
    "import cartopy.feature as cfeature\n",
    "from mpl_toolkits.axes_grid1.inset_locator import inset_axes"
   ]
  },
  {
   "attachments": {},
   "cell_type": "markdown",
   "metadata": {},
   "source": [
    "### ii) Define key parameters"
   ]
  },
  {
   "cell_type": "code",
   "execution_count": 3,
   "metadata": {},
   "outputs": [],
   "source": [
    "# Specifying the number of BSP bins, 2^n\n",
    "tree_depth = 4"
   ]
  },
  {
   "cell_type": "code",
   "execution_count": 4,
   "metadata": {},
   "outputs": [],
   "source": [
    "volnorming = 10**15 #normalising coeffcients\n",
    "areanorming = 10**12 #normalising coeffcients\n",
    "\n",
    "# Establish basic constants \n",
    "yr2sec = 365.25*24*60*60\n",
    "# delta(time) in the ACCESS-CM2 model\n",
    "dt_OG = xr.open_mfdataset('../BSP_processed/ACCESS_CM2/dtime*.nc').sel(time=slice('1979-01-01',None))\n",
    "dt_OG['time'] = np.arange(dt_OG.average_DT.size).astype(float)\n",
    "dt = dt_OG.rename({'time':'Time'})\n",
    "# Reference density, specific heat capacity and reference salinity\n",
    "rho = 1035 #kg/m^3\n",
    "Cp = 3992.10322329649\n",
    "S0=35\n",
    "\n",
    "# Range of years over which 'early' and 'late' are defined\n",
    "dyrs = 9\n",
    "# Start and end year\n",
    "init_early = 1979\n",
    "init_late = 2006\n",
    "Early_period = (np.array([init_early,init_early+dyrs]) - init_early)*12#+((-1979)*12)\n",
    "Late_period = (np.array([init_late,init_late+dyrs]) - init_early)*12#+((-1979)*12)\n",
    "range_yrs = init_late-init_early+1"
   ]
  },
  {
   "attachments": {},
   "cell_type": "markdown",
   "metadata": {},
   "source": [
    "-----------\n",
    "## B) Load Data\n"
   ]
  },
  {
   "attachments": {},
   "cell_type": "markdown",
   "metadata": {},
   "source": [
    "\n",
    "The data is presented as monthly T-S observations from EN4, from January 1970 to December 2014. The observations have already been binned via Binary Space Partitioning according to a specific criterion. Folowing Sohail et al. (TBD) the BSP partitioning occurs in an xyxyxyx order, shown to minimize variability in the temperature and salinity signals. \n",
    "\n"
   ]
  },
  {
   "cell_type": "code",
   "execution_count": 26,
   "metadata": {},
   "outputs": [
    {
     "name": "stdout",
     "output_type": "stream",
     "text": [
      "CPU times: user 287 ms, sys: 12.4 ms, total: 300 ms\n",
      "Wall time: 504 ms\n"
     ]
    }
   ],
   "source": [
    "%%time\n",
    "# Load ACCESS-CM2 data (this data has already been coarsened into basins and BSP bins)\n",
    "ACCESS_BSP_data = xr.open_mfdataset('../BSP_processed/ACCESS_CM2/*ACCESS_ERA5_*%i_bins_*.nc' %(tree_depth))\n",
    "\n",
    "\n",
    "## Early Period\n",
    "Part_early = ACCESS_BSP_data.Partitions.isel(Time=slice(Early_period[0],Early_period[1])).sum('Time')/(Early_period[1]-Early_period[0])\n",
    "SA_early =  ACCESS_BSP_data.S_mean.isel(Time=slice(Early_period[0],Early_period[1])).sum('Time')/(Early_period[1]-Early_period[0])\n",
    "CT_early = (ACCESS_BSP_data.T_mean-273.15).isel(Time=slice(Early_period[0],Early_period[1])).sum('Time')/(Early_period[1]-Early_period[0])\n",
    "V_early = ACCESS_BSP_data.V_sum.isel(Time=slice(Early_period[0],Early_period[1])).sum('Time')/(Early_period[1]-Early_period[0])\n",
    "A_early = ACCESS_BSP_data.A_sum.isel(Time=slice(Early_period[0],Early_period[1])).sum('Time')/(Early_period[1]-Early_period[0])\n",
    "CTV_early = ((ACCESS_BSP_data.T_mean-273.15)*ACCESS_BSP_data.V_sum).isel(Time=slice(Early_period[0],Early_period[1])).sum('Time')/(Early_period[1]-Early_period[0])\n",
    "SAV_early = (ACCESS_BSP_data.S_mean*ACCESS_BSP_data.V_sum).isel(Time=slice(Early_period[0],Early_period[1])).sum('Time')/(Early_period[1]-Early_period[0])\n",
    "\n",
    "## Late Period\n",
    "Part_late = ACCESS_BSP_data.Partitions.isel(Time=slice(Late_period[0],Late_period[1])).sum('Time')/(Late_period[1]-Late_period[0])\n",
    "SA_late =  ACCESS_BSP_data.S_mean.isel(Time=slice(Late_period[0],Late_period[1])).sum('Time')/(Late_period[1]-Late_period[0])\n",
    "CT_late = (ACCESS_BSP_data.T_mean-273.15).isel(Time=slice(Late_period[0],Late_period[1])).sum('Time')/(Late_period[1]-Late_period[0])-273.15\n",
    "V_late = ACCESS_BSP_data.V_sum.isel(Time=slice(Late_period[0],Late_period[1])).sum('Time')/(Late_period[1]-Late_period[0])\n",
    "A_late = ACCESS_BSP_data.A_sum.isel(Time=slice(Late_period[0],Late_period[1])).sum('Time')/(Late_period[1]-Late_period[0])\n",
    "CTV_late = ((ACCESS_BSP_data.T_mean-273.15)*ACCESS_BSP_data.V_sum).isel(Time=slice(Late_period[0],Late_period[1])).sum('Time')/(Late_period[1]-Late_period[0])\n",
    "SAV_late = (ACCESS_BSP_data.S_mean*ACCESS_BSP_data.V_sum).isel(Time=slice(Late_period[0],Late_period[1])).sum('Time')/(Late_period[1]-Late_period[0])\n",
    "\n",
    "Basins = ACCESS_BSP_data.Basin.values"
   ]
  },
  {
   "cell_type": "code",
   "execution_count": 7,
   "metadata": {},
   "outputs": [
    {
     "name": "stdout",
     "output_type": "stream",
     "text": [
      "CPU times: user 11.1 ms, sys: 3.33 ms, total: 14.4 ms\n",
      "Wall time: 14.8 ms\n"
     ]
    }
   ],
   "source": [
    "%%time\n",
    "## Load the volumetric distribution (in T-S space) of the ACCESS-CM2 model [for figure 3]\n",
    "ACCESS_TS_dist_hist = xr.open_mfdataset('~/UNSW_work/MIN_MIX_FINAL/TS_Sfunction/TS_distribution_ACCESS_CM2_hist.nc')\n",
    "# Define T; S bin limits\n",
    "tbins = ACCESS_TS_dist_hist.tbins.values\n",
    "sbins = ACCESS_TS_dist_hist.sbins.values\n",
    "dtbins = np.diff(tbins)[0]\n",
    "dsbins = np.diff(sbins)[0]"
   ]
  },
  {
   "attachments": {},
   "cell_type": "markdown",
   "metadata": {},
   "source": [
    "##### Calculate the T and S standard deviations, $\\sigma_T; \\sigma_S$, for weights $w_j$"
   ]
  },
  {
   "cell_type": "code",
   "execution_count": 8,
   "metadata": {},
   "outputs": [],
   "source": [
    "## Remove NaNs to calculate standard deviation\n",
    "T_nonan = ACCESS_TS_dist_hist.tbins.expand_dims(dim={\"sbins\": ACCESS_TS_dist_hist.sbins.size, \"time\":ACCESS_TS_dist_hist.time.size}).\\\n",
    "assign_coords({\"sbins\": ACCESS_TS_dist_hist.sbins, \"time\":ACCESS_TS_dist_hist.time})*(ACCESS_TS_dist_hist.TS_distribution/ACCESS_TS_dist_hist.TS_distribution)\n",
    "S_nonan = ACCESS_TS_dist_hist.sbins.expand_dims(dim={\"tbins\": ACCESS_TS_dist_hist.tbins.size, \"time\":ACCESS_TS_dist_hist.time.size}).\\\n",
    "assign_coords({\"tbins\": ACCESS_TS_dist_hist.tbins, \"time\":ACCESS_TS_dist_hist.time})*(ACCESS_TS_dist_hist.TS_distribution/ACCESS_TS_dist_hist.TS_distribution)\n",
    "# Calculate standard deviation\n",
    "T_nonan_std = T_nonan.std(skipna=True).values\n",
    "S_nonan_std = S_nonan.std(skipna=True).values\n",
    "# Weights are 1/std\n",
    "T_scale = 1/T_nonan_std\n",
    "S_scale = 1/S_nonan_std"
   ]
  },
  {
   "attachments": {},
   "cell_type": "markdown",
   "metadata": {},
   "source": [
    "##### Plot BSP bins and $V_0$, $T_0$ and $S_0$ [Figure 4]"
   ]
  },
  {
   "cell_type": "code",
   "execution_count": 9,
   "metadata": {},
   "outputs": [
    {
     "name": "stdout",
     "output_type": "stream",
     "text": [
      "CPU times: user 1.52 s, sys: 260 ms, total: 1.78 s\n",
      "Wall time: 2.35 s\n"
     ]
    }
   ],
   "source": [
    "%%time\n",
    "# Load the early partition values and volumes\n",
    "Part_early.load()\n",
    "V_early_vals = np.log10(V_early.values)\n",
    "V_early_vals[~np.isfinite(V_early_vals)] = 0\n",
    "\n",
    "# Load the geographical masks, \\omega\n",
    "mask_EN4_xr = xr.open_mfdataset('../Basin_mask/mask_EN4.nc')\n",
    "mask_EN4 = (mask_EN4_xr.__xarray_dataarray_variable__.isel(depth=0).values)\n",
    "data = xr.open_mfdataset('~/UNSW_work/EN4_Data/EN_data/EN4_CT_SA_0*')\n",
    "lats = data.lat.values\n",
    "lons = data.lon.values\n",
    "\n",
    "mask_EN4[mask_EN4==0] = np.nan"
   ]
  },
  {
   "cell_type": "code",
   "execution_count": 10,
   "metadata": {},
   "outputs": [
    {
     "data": {
      "image/png": "[encoded data removed]",
      "text/plain": [
       "<Figure size 432x288 with 1 Axes>"
      ]
     },
     "metadata": {
      "needs_background": "light"
     },
     "output_type": "display_data"
    },
    {
     "data": {
      "image/png": "[encoded data removed]",
      "text/plain": [
       "<Figure size 432x288 with 1 Axes>"
      ]
     },
     "metadata": {
      "needs_background": "light"
     },
     "output_type": "display_data"
    }
   ],
   "source": [
    "## Check for heat and salt closure\n",
    "## HEAT\n",
    "(((ACCESS_BSP_data.hfds_sum)*dt.average_DT).cumsum('Time')-((ACCESS_BSP_data.hfds_sum*dt.average_DT).cumsum('Time').isel(Time=slice(0,12)).mean('Time'))).sum('Basin').sum('Depth').plot(label='Time-integrated surface heat flux')\n",
    "((rho*Cp*((ACCESS_BSP_data.T_mean-273.15)*ACCESS_BSP_data.V_sum))-(rho*Cp*((ACCESS_BSP_data.T_mean-273.15)*ACCESS_BSP_data.V_sum).isel(Time=slice(0,12)).mean('Time'))).sum('Basin').sum('Depth').plot(label='Temperature-derived OHC change')\n",
    "plt.title('OHC change (J)')\n",
    "plt.xlabel('Months since 1850-01-16')\n",
    "# plt.xlim(0,1980)\n",
    "\n",
    "plt.legend()\n",
    "# plt.savefig('../Figures/glob_hfds_OHC_closure.png', dpi=300, bbox_inches='tight')\n",
    "plt.show()\n",
    "## SALT\n",
    "(((ACCESS_BSP_data.wfo_sum)*dt.average_DT).cumsum('Time')-((ACCESS_BSP_data.wfo_sum*dt.average_DT).cumsum('Time').isel(Time=slice(0,12)).mean('Time'))).sum('Basin').sum('Depth').plot(label='Time-integrated surface FW flux')\n",
    "((-ACCESS_BSP_data.S_mean/S0*rho*ACCESS_BSP_data.V_sum)-(-ACCESS_BSP_data.S_mean/S0*rho*ACCESS_BSP_data.V_sum).isel(Time=slice(0,12)).mean('Time')).sum('Basin').sum('Depth').plot(label='Salinity-derived mass change')\n",
    "plt.title('Mass Change (kg)')\n",
    "plt.xlabel('Months since 1850-01-16')\n",
    "plt.legend()\n",
    "# plt.xlim(0,1980)\n",
    "# plt.savefig('../Figures/glob_wfo_OSC_closure.png', dpi=300, bbox_inches='tight')\n",
    "plt.show()"
   ]
  },
  {
   "cell_type": "code",
   "execution_count": 11,
   "metadata": {},
   "outputs": [],
   "source": [
    "## Load Q_prior data here\n",
    "## Calculate the cumulative time integrated surface fluxes \n",
    "HFDS_cumsum = (((ACCESS_BSP_data.hfds_sum)*dt.average_DT).cumsum('Time').isel(Time=-1))\\\n",
    "    -(((ACCESS_BSP_data.hfds_sum)*dt.average_DT).cumsum('Time').isel(Time=Early_period[0])) # units: J\n",
    "WFO_cumsum = ((ACCESS_BSP_data.wfo_sum)*dt.average_DT).cumsum('Time').isel(Time=-1)\\\n",
    "        -(((ACCESS_BSP_data.wfo_sum)*dt.average_DT).cumsum('Time').isel(Time=Early_period[0]))# units: kg\n",
    "\n",
    "## The final dflux value is then scaled by the time between the middle of t1 and the middle of t2\n",
    "dhfds = HFDS_cumsum*((np.mean(Late_period)-np.mean(Early_period))/(Late_period[-1]-Early_period[0]))\n",
    "dwfo = WFO_cumsum*((np.mean(Late_period)-np.mean(Early_period))/(Late_period[-1]-Early_period[0]))\n",
    "\n",
    "## Convert dflux to equivalent T or S change\n",
    "dT_prior = (dhfds/(Cp*rho*V_early)).values.flatten() # units: C\n",
    "dS_prior = (-dwfo*S0/(rho*V_early)).values.flatten() # units: g/kg\n",
    "\n",
    "time = ACCESS_BSP_data.Time.values"
   ]
  },
  {
   "cell_type": "code",
   "execution_count": 13,
   "metadata": {},
   "outputs": [],
   "source": [
    "\n",
    "# Flatten the early and late variables to a 1D array\n",
    "Vol_1 = V_early.values.flatten()\n",
    "Vol_2 = V_late.values.flatten()\n",
    "S_1 = SAV_early.values.flatten()/Vol_1-S0 # Remove reference salinity S0\n",
    "S_2 = SAV_late.values.flatten()/Vol_2-S0 # Remove reference salinity S0\n",
    "T_1 = CTV_early.values.flatten()/Vol_1\n",
    "T_2 = CTV_late.values.flatten()/Vol_2\n",
    "A_1 = A_early.values.flatten()\n",
    "A_2 = A_late.values.flatten()\n",
    "\n",
    "# Do the same for basin index\n",
    "Basin_1 = np.zeros_like(V_early)\n",
    "Basin_2 = np.zeros_like(V_early)\n",
    "Basin_names = []\n",
    "for i in range(np.array(Basins).size):\n",
    "    Basin_1[i,:] = i\n",
    "    Basin_2[i,:] = i\n",
    "    for j in range(V_early.shape[-1]):\n",
    "        #... and for basin name\n",
    "        Basin_names.append(Basins[i])\n",
    "\n",
    "Basin_1_inds = Basin_1.flatten()\n",
    "Basin_2_inds = Basin_2.flatten()\n",
    "\n",
    "#... and for the edges of the BSP bins\n",
    "## Here we calculate the mean TS edges averaged over both early and late times\n",
    "S_start = (0.5*(Part_early.values[:,:,0]+Part_late.values[:,:,0])).flatten()-S0 # Remove reference salinity S0\n",
    "S_end = (0.5*(Part_early.values[:,:,1]+Part_late.values[:,:,1])).flatten()-S0 # Remove reference salinity S0\n",
    "T_start = (0.5*(Part_early.values[:,:,2]+Part_late.values[:,:,2])).flatten()\n",
    "T_end = (0.5*(Part_early.values[:,:,3]+Part_late.values[:,:,3])).flatten()\n",
    "\n",
    "# Any NaNs are zeroed out\n",
    "S_1[np.isnan(S_1)] = 0\n",
    "S_2[np.isnan(S_2)] = 0\n",
    "T_1[np.isnan(T_1)] = 0\n",
    "T_2[np.isnan(T_2)] = 0"
   ]
  },
  {
   "cell_type": "code",
   "execution_count": 14,
   "metadata": {},
   "outputs": [],
   "source": [
    "## Add the Q_prior to S_0; T_0 to get the 'initial' state ##\n",
    "S_pre = SAV_early.values.flatten()/Vol_1-S0\n",
    "S_1 = SAV_early.values.flatten()/Vol_1-S0+dS_prior\n",
    "T_pre = CTV_early.values.flatten()/Vol_1\n",
    "T_1 = CTV_early.values.flatten()/Vol_1+dT_prior\n",
    "S_1[np.isnan(S_1)] = 0\n",
    "T_1[np.isnan(T_1)] = 0\n",
    "S_1[~np.isfinite(S_1)] = 0\n",
    "T_1[~np.isfinite(T_1)] = 0\n",
    "S_pre[np.isnan(S_pre)] = 0\n",
    "T_pre[np.isnan(T_pre)] = 0\n",
    "S_pre[~np.isfinite(S_pre)] = 0\n",
    "T_pre[~np.isfinite(T_pre)] = 0\n"
   ]
  },
  {
   "cell_type": "code",
   "execution_count": 15,
   "metadata": {},
   "outputs": [],
   "source": [
    "## Here, we create the tracers and volumes matrices, which will be fed into the MTM function\n",
    "\n",
    "volumes = np.stack((Vol_1, Vol_2), axis=0)/volnorming # Shape: [2 x N]\n",
    "\n",
    "salinities = np.stack((S_1, S_2), axis=0)\n",
    "temps = np.stack((T_1, T_2), axis=0)\n",
    "\n",
    "tracers = np.stack((salinities, temps),axis=1) # Shape: [2 x M x N], where M = 2 for just T and S, and M>2 for T,S+other tracers"
   ]
  },
  {
   "cell_type": "code",
   "execution_count": 16,
   "metadata": {},
   "outputs": [
    {
     "name": "stdout",
     "output_type": "stream",
     "text": [
      "Total number of bins = 144\n"
     ]
    }
   ],
   "source": [
    "print('Total number of bins =', int(Vol_1.shape[0]))\n",
    "N = int(Vol_1.shape[0])"
   ]
  },
  {
   "attachments": {},
   "cell_type": "markdown",
   "metadata": {},
   "source": [
    "---------------\n",
    "## C) Define Constraints"
   ]
  },
  {
   "attachments": {},
   "cell_type": "markdown",
   "metadata": {},
   "source": [
    "### i) Define Connectivity"
   ]
  },
  {
   "attachments": {},
   "cell_type": "markdown",
   "metadata": {},
   "source": [
    "We must define whether a BSP bin is allowed to transport volume to another BSP bin. In the simplest case, all bins are allowed to transport to one another - but this yields nonphysical transport across vast distances and TS bounds.\n",
    "To improve on this, two connectivity constraints are used: \n",
    "1) Are the basins adjacent? This is defined via the connectivity array, below\n",
    "2) If YES, do the BSP bins have overlapping (or the same) TS boundaries?\\\n",
    "If yes, the bins are connected. If no, they are not.\n"
   ]
  },
  {
   "cell_type": "code",
   "execution_count": 17,
   "metadata": {},
   "outputs": [
    {
     "data": {
      "text/html": [
       "<div>\n",
       "<style scoped>\n",
       "    .dataframe tbody tr th:only-of-type {\n",
       "        vertical-align: middle;\n",
       "    }\n",
       "\n",
       "    .dataframe tbody tr th {\n",
       "        vertical-align: top;\n",
       "    }\n",
       "\n",
       "    .dataframe thead th {\n",
       "        text-align: right;\n",
       "    }\n",
       "</style>\n",
       "<table border=\"1\" class=\"dataframe\">\n",
       "  <thead>\n",
       "    <tr style=\"text-align: right;\">\n",
       "      <th></th>\n",
       "      <th>Polar N. Atlantic</th>\n",
       "      <th>Subtropical N. Atlantic</th>\n",
       "      <th>Eq. Atlantic</th>\n",
       "      <th>S. Atlantic</th>\n",
       "      <th>Indian</th>\n",
       "      <th>S. Pacific</th>\n",
       "      <th>Eq. Pacific</th>\n",
       "      <th>N. Pacific</th>\n",
       "      <th>Southern Ocean</th>\n",
       "    </tr>\n",
       "  </thead>\n",
       "  <tbody>\n",
       "    <tr>\n",
       "      <th>Polar N. Atlantic</th>\n",
       "      <td>1.0</td>\n",
       "      <td>1.0</td>\n",
       "      <td>0.0</td>\n",
       "      <td>0.0</td>\n",
       "      <td>0.0</td>\n",
       "      <td>0.0</td>\n",
       "      <td>0.0</td>\n",
       "      <td>0.0</td>\n",
       "      <td>0.0</td>\n",
       "    </tr>\n",
       "    <tr>\n",
       "      <th>Subtropical N. Atlantic</th>\n",
       "      <td>1.0</td>\n",
       "      <td>1.0</td>\n",
       "      <td>1.0</td>\n",
       "      <td>0.0</td>\n",
       "      <td>0.0</td>\n",
       "      <td>0.0</td>\n",
       "      <td>0.0</td>\n",
       "      <td>0.0</td>\n",
       "      <td>0.0</td>\n",
       "    </tr>\n",
       "    <tr>\n",
       "      <th>Eq. Atlantic</th>\n",
       "      <td>0.0</td>\n",
       "      <td>1.0</td>\n",
       "      <td>1.0</td>\n",
       "      <td>1.0</td>\n",
       "      <td>0.0</td>\n",
       "      <td>0.0</td>\n",
       "      <td>0.0</td>\n",
       "      <td>0.0</td>\n",
       "      <td>0.0</td>\n",
       "    </tr>\n",
       "    <tr>\n",
       "      <th>S. Atlantic</th>\n",
       "      <td>0.0</td>\n",
       "      <td>0.0</td>\n",
       "      <td>1.0</td>\n",
       "      <td>1.0</td>\n",
       "      <td>0.0</td>\n",
       "      <td>0.0</td>\n",
       "      <td>0.0</td>\n",
       "      <td>0.0</td>\n",
       "      <td>1.0</td>\n",
       "    </tr>\n",
       "    <tr>\n",
       "      <th>Indian</th>\n",
       "      <td>0.0</td>\n",
       "      <td>0.0</td>\n",
       "      <td>0.0</td>\n",
       "      <td>0.0</td>\n",
       "      <td>1.0</td>\n",
       "      <td>0.0</td>\n",
       "      <td>1.0</td>\n",
       "      <td>0.0</td>\n",
       "      <td>1.0</td>\n",
       "    </tr>\n",
       "    <tr>\n",
       "      <th>S. Pacific</th>\n",
       "      <td>0.0</td>\n",
       "      <td>0.0</td>\n",
       "      <td>0.0</td>\n",
       "      <td>0.0</td>\n",
       "      <td>0.0</td>\n",
       "      <td>1.0</td>\n",
       "      <td>1.0</td>\n",
       "      <td>0.0</td>\n",
       "      <td>1.0</td>\n",
       "    </tr>\n",
       "    <tr>\n",
       "      <th>Eq. Pacific</th>\n",
       "      <td>0.0</td>\n",
       "      <td>0.0</td>\n",
       "      <td>0.0</td>\n",
       "      <td>0.0</td>\n",
       "      <td>1.0</td>\n",
       "      <td>1.0</td>\n",
       "      <td>1.0</td>\n",
       "      <td>1.0</td>\n",
       "      <td>0.0</td>\n",
       "    </tr>\n",
       "    <tr>\n",
       "      <th>N. Pacific</th>\n",
       "      <td>0.0</td>\n",
       "      <td>0.0</td>\n",
       "      <td>0.0</td>\n",
       "      <td>0.0</td>\n",
       "      <td>0.0</td>\n",
       "      <td>0.0</td>\n",
       "      <td>1.0</td>\n",
       "      <td>1.0</td>\n",
       "      <td>0.0</td>\n",
       "    </tr>\n",
       "    <tr>\n",
       "      <th>Southern Ocean</th>\n",
       "      <td>0.0</td>\n",
       "      <td>0.0</td>\n",
       "      <td>0.0</td>\n",
       "      <td>1.0</td>\n",
       "      <td>1.0</td>\n",
       "      <td>1.0</td>\n",
       "      <td>0.0</td>\n",
       "      <td>0.0</td>\n",
       "      <td>1.0</td>\n",
       "    </tr>\n",
       "  </tbody>\n",
       "</table>\n",
       "</div>"
      ],
      "text/plain": [
       "                         Polar N. Atlantic  Subtropical N. Atlantic  \\\n",
       "Polar N. Atlantic                      1.0                      1.0   \n",
       "Subtropical N. Atlantic                1.0                      1.0   \n",
       "Eq. Atlantic                           0.0                      1.0   \n",
       "S. Atlantic                            0.0                      0.0   \n",
       "Indian                                 0.0                      0.0   \n",
       "S. Pacific                             0.0                      0.0   \n",
       "Eq. Pacific                            0.0                      0.0   \n",
       "N. Pacific                             0.0                      0.0   \n",
       "Southern Ocean                         0.0                      0.0   \n",
       "\n",
       "                         Eq. Atlantic  S. Atlantic  Indian  S. Pacific  \\\n",
       "Polar N. Atlantic                 0.0          0.0     0.0         0.0   \n",
       "Subtropical N. Atlantic           1.0          0.0     0.0         0.0   \n",
       "Eq. Atlantic                      1.0          1.0     0.0         0.0   \n",
       "S. Atlantic                       1.0          1.0     0.0         0.0   \n",
       "Indian                            0.0          0.0     1.0         0.0   \n",
       "S. Pacific                        0.0          0.0     0.0         1.0   \n",
       "Eq. Pacific                       0.0          0.0     1.0         1.0   \n",
       "N. Pacific                        0.0          0.0     0.0         0.0   \n",
       "Southern Ocean                    0.0          1.0     1.0         1.0   \n",
       "\n",
       "                         Eq. Pacific  N. Pacific  Southern Ocean  \n",
       "Polar N. Atlantic                0.0         0.0             0.0  \n",
       "Subtropical N. Atlantic          0.0         0.0             0.0  \n",
       "Eq. Atlantic                     0.0         0.0             0.0  \n",
       "S. Atlantic                      0.0         0.0             1.0  \n",
       "Indian                           1.0         0.0             1.0  \n",
       "S. Pacific                       1.0         0.0             1.0  \n",
       "Eq. Pacific                      1.0         1.0             0.0  \n",
       "N. Pacific                       1.0         1.0             0.0  \n",
       "Southern Ocean                   0.0         0.0             1.0  "
      ]
     },
     "execution_count": 17,
     "metadata": {},
     "output_type": "execute_result"
    }
   ],
   "source": [
    "# Array defining the connection between the 9 basins;\n",
    "# 1 = connected, 0 = disconnected\n",
    "# connectivity_array = np.ones((Basins.size,Basins.size))\n",
    "\n",
    "connectivity_array = np.zeros((Basins.size,Basins.size))\n",
    "\n",
    "connectivity_array[0,:] = [1, 1, 0, 0, 0, 0, 0, 0, 0]\n",
    "connectivity_array[1,:] = [1, 1, 1, 0, 0, 0, 0, 0, 0]\n",
    "connectivity_array[2,:] = [0, 1, 1, 1, 0, 0, 0, 0, 0]\n",
    "connectivity_array[3,:] = [0, 0, 1, 1, 0, 0, 0, 0, 1]\n",
    "connectivity_array[4,:] = [0, 0, 0, 0, 1, 0, 1, 0, 1]\n",
    "connectivity_array[5,:] = [0, 0, 0, 0, 0, 1, 1, 0, 1]\n",
    "connectivity_array[6,:] = [0, 0, 0, 0, 1, 1, 1, 1, 0]\n",
    "connectivity_array[7,:] = [0, 0, 0, 0, 0, 0, 1, 1, 0]\n",
    "connectivity_array[8,:] = [0, 0, 0, 1, 1, 1, 0, 0, 1]\n",
    "\n",
    "d = {Basins[0]: connectivity_array.T[0,:],\\\n",
    "    Basins[1]: connectivity_array.T[1,:],\\\n",
    "    Basins[2]: connectivity_array.T[2,:],\\\n",
    "    Basins[3]: connectivity_array.T[3,:],\\\n",
    "    Basins[4]: connectivity_array.T[4,:],\\\n",
    "    Basins[5]: connectivity_array.T[5,:],\\\n",
    "    Basins[6]: connectivity_array.T[6,:],\\\n",
    "    Basins[7]: connectivity_array.T[7,:],\\\n",
    "    Basins[8]: connectivity_array.T[8,:]}\n",
    "    \n",
    "table = pd.DataFrame(data=d, index=Basins)\n",
    "table"
   ]
  },
  {
   "cell_type": "code",
   "execution_count": 18,
   "metadata": {},
   "outputs": [
    {
     "data": {
      "application/vnd.jupyter.widget-view+json": {
       "model_id": "9c43d1a4da2a4f29821232c0dbf68ff7",
       "version_major": 2,
       "version_minor": 0
      },
      "text/plain": [
       "  0%|          | 0/144 [00:00<?, ?it/s]"
      ]
     },
     "metadata": {},
     "output_type": "display_data"
    }
   ],
   "source": [
    "# Define whether a bin is connected to every other bin\n",
    "# The two constraints used are: are the basins adjacent? \n",
    "# If yes, are the bin indices the same? \n",
    "# If yes, the bins are connected; if no, they are not connected. \n",
    "\n",
    "# connected = np.ones((Vol_1.size, Vol_1.size)) ## For all connections case\n",
    "\n",
    "trans_big = np.zeros((Vol_1.size, Vol_1.size))\n",
    "connected = np.zeros((Vol_1.size, Vol_1.size))\n",
    "\n",
    "for i in tqdm(range(Vol_1.size)):\n",
    "    for j in range(Vol_2.size):\n",
    "        if connectivity_array[int(Basin_1_inds[i]), int(Basin_2_inds[j])]>0:\n",
    "            connected[i,j] = 1 ## For NO DOCKING case\n"
   ]
  },
  {
   "attachments": {},
   "cell_type": "markdown",
   "metadata": {},
   "source": [
    "### ii) Define Weights"
   ]
  },
  {
   "cell_type": "code",
   "execution_count": 19,
   "metadata": {},
   "outputs": [],
   "source": [
    "## We create a weight matrix\n",
    "# For sqrt(1/Area)\n",
    "A_2_modified = A_2.copy()\n",
    "A_2_modified[A_2_modified==0] = 1*10**2.02 # this is the lowest I can make it for tree_depth=4 without it breaking\n",
    "\n",
    "area_weight = np.sqrt(areanorming/A_2_modified)\n",
    "\n",
    "area_cons = A_2/A_2-1\n",
    "area_cons[np.isnan(area_cons)] = 1\n",
    "\n",
    "weights = np.stack((S_scale*area_weight, T_scale*area_weight), axis=0) # Shape: An [M x N] matrix\n",
    "hard_area = np.stack((area_cons,area_cons), axis=0)"
   ]
  },
  {
   "attachments": {},
   "cell_type": "markdown",
   "metadata": {},
   "source": [
    "-----------------\n",
    "## D) Run Optimisation"
   ]
  },
  {
   "cell_type": "code",
   "execution_count": 20,
   "metadata": {},
   "outputs": [
    {
     "name": "stdout",
     "output_type": "stream",
     "text": [
      "===============================================================================\n",
      "                                     CVXPY                                     \n",
      "                                    v1.1.13                                    \n",
      "===============================================================================\n",
      "(CVXPY) Mar 26 12:02:30 PM: Your problem has 6912 variables, 3 constraints, and 0 parameters.\n",
      "(CVXPY) Mar 26 12:02:30 PM: It is compliant with the following grammars: DCP, DQCP\n",
      "(CVXPY) Mar 26 12:02:30 PM: (If you need to solve this problem multiple times, but with different data, consider using parameters.)\n",
      "(CVXPY) Mar 26 12:02:30 PM: CVXPY will first compile your problem; then, it will invoke a numerical solver to obtain a solution.\n",
      "-------------------------------------------------------------------------------\n",
      "                                  Compilation                                  \n",
      "-------------------------------------------------------------------------------\n",
      "(CVXPY) Mar 26 12:02:30 PM: Compiling problem (target solver=MOSEK).\n",
      "(CVXPY) Mar 26 12:02:30 PM: Reduction chain: Dcp2Cone -> CvxAttr2Constr -> ConeMatrixStuffing -> MOSEK\n",
      "(CVXPY) Mar 26 12:02:30 PM: Applying reduction Dcp2Cone\n",
      "(CVXPY) Mar 26 12:02:30 PM: Applying reduction CvxAttr2Constr\n",
      "(CVXPY) Mar 26 12:02:30 PM: Applying reduction ConeMatrixStuffing\n",
      "(CVXPY) Mar 26 12:02:30 PM: Applying reduction MOSEK\n",
      "(CVXPY) Mar 26 12:02:30 PM: Finished problem compilation (took 1.119e-01 seconds).\n",
      "-------------------------------------------------------------------------------\n",
      "                                Numerical solver                               \n",
      "-------------------------------------------------------------------------------\n",
      "(CVXPY) Mar 26 12:02:30 PM: Invoking solver MOSEK  to obtain a solution.\n",
      "\n",
      "\n",
      "Problem\n",
      "  Name                   :                 \n",
      "  Objective sense        : max             \n",
      "  Type                   : CONIC (conic optimization problem)\n",
      "  Constraints            : 6913            \n",
      "  Cones                  : 1               \n",
      "  Scalar variables       : 7778            \n",
      "  Matrix variables       : 0               \n",
      "  Integer variables      : 0               \n",
      "\n",
      "Optimizer started.\n",
      "Problem\n",
      "  Name                   :                 \n",
      "  Objective sense        : max             \n",
      "  Type                   : CONIC (conic optimization problem)\n",
      "  Constraints            : 6913            \n",
      "  Cones                  : 1               \n",
      "  Scalar variables       : 7778            \n",
      "  Matrix variables       : 0               \n",
      "  Integer variables      : 0               \n",
      "\n",
      "Optimizer  - threads                : 12              \n",
      "Optimizer  - solved problem         : the dual        \n",
      "Optimizer  - Constraints            : 617\n",
      "Optimizer  - Cones                  : 1\n",
      "Optimizer  - Scalar variables       : 5683              conic                  : 256             \n",
      "Optimizer  - Semi-definite variables: 0                 scalarized             : 0               \n",
      "Factor     - setup time             : 0.01              dense det. time        : 0.00            \n",
      "Factor     - ML order time          : 0.00              GP order time          : 0.00            \n",
      "Factor     - nonzeros before factor : 5.46e+04          after factor           : 6.71e+04        \n",
      "Factor     - dense dim.             : 0                 flops                  : 1.13e+07        \n",
      "ITE PFEAS    DFEAS    GFEAS    PRSTATUS   POBJ              DOBJ              MU       TIME  \n",
      "0   0.0e+00  1.6e+02  2.0e+00  0.00e+00   -1.000000000e+00  0.000000000e+00   1.0e+00  0.03  \n",
      "1   3.5e-15  1.1e+02  1.3e+00  -8.47e-02  1.517360389e+00   2.270016597e+00   6.9e-01  0.07  \n",
      "2   4.1e-15  4.5e+01  2.7e-01  2.04e-01   8.024141667e+00   8.477722849e+00   2.9e-01  0.07  \n",
      "3   1.6e-14  3.0e+01  1.3e-01  1.35e+00   1.024745108e+01   1.050459655e+01   1.9e-01  0.08  \n",
      "4   2.9e-14  1.6e+01  4.8e-02  1.33e+00   1.120113777e+01   1.131899366e+01   9.9e-02  0.09  \n",
      "5   5.5e-14  6.9e+00  1.3e-02  1.22e+00   1.144206309e+01   1.148950902e+01   4.4e-02  0.09  \n",
      "6   1.0e-13  4.0e+00  5.2e-03  1.33e+00   1.138914335e+01   1.141351281e+01   2.5e-02  0.10  \n",
      "7   3.3e-13  1.8e+00  1.3e-03  1.39e+00   1.152310545e+01   1.153240901e+01   1.1e-02  0.10  \n",
      "8   2.0e-13  8.8e-01  4.1e-04  1.40e+00   1.162301012e+01   1.162705705e+01   5.6e-03  0.11  \n",
      "9   6.2e-13  3.4e-01  9.1e-05  1.30e+00   1.165487637e+01   1.165629944e+01   2.2e-03  0.12  \n",
      "10  7.1e-13  2.5e-01  5.7e-05  1.16e+00   1.167011801e+01   1.167114553e+01   1.6e-03  0.12  \n",
      "11  1.9e-12  8.4e-02  1.0e-05  1.11e+00   1.171529421e+01   1.171562768e+01   5.3e-04  0.13  \n",
      "12  1.1e-12  4.1e-02  3.5e-06  1.07e+00   1.173221559e+01   1.173237630e+01   2.6e-04  0.13  \n",
      "13  4.7e-12  1.0e-02  4.2e-07  1.07e+00   1.174373481e+01   1.174377487e+01   6.6e-05  0.14  \n",
      "14  7.4e-14  1.4e-03  2.0e-08  1.05e+00   1.174762291e+01   1.174762832e+01   9.1e-06  0.15  \n",
      "15  3.1e-11  3.5e-04  2.4e-09  1.03e+00   1.174811281e+01   1.174811413e+01   2.2e-06  0.15  \n",
      "16  7.8e-11  8.5e-05  2.8e-10  1.02e+00   1.174823787e+01   1.174823819e+01   5.4e-07  0.16  \n",
      "17  5.0e-11  2.5e-05  4.5e-11  1.02e+00   1.174826720e+01   1.174826730e+01   1.6e-07  0.17  \n",
      "18  1.6e-10  7.0e-06  7.2e-12  1.00e+00   1.174827327e+01   1.174827330e+01   4.7e-08  0.17  \n",
      "19  6.2e-11  1.4e-06  6.8e-13  1.00e+00   1.174827536e+01   1.174827537e+01   9.8e-09  0.18  \n",
      "Optimizer terminated. Time: 0.20    \n",
      "\n",
      "\n",
      "Interior-point solution summary\n",
      "  Problem status  : PRIMAL_AND_DUAL_FEASIBLE\n",
      "  Solution status : OPTIMAL\n",
      "  Primal.  obj: 1.1748275365e+01    nrm: 2e+01    Viol.  con: 3e-15    var: 3e-09    cones: 0e+00  \n",
      "  Dual.    obj: 1.1748275371e+01    nrm: 1e+02    Viol.  con: 0e+00    var: 1e-02    cones: 0e+00  \n",
      "-------------------------------------------------------------------------------\n",
      "                                    Summary                                    \n",
      "-------------------------------------------------------------------------------\n",
      "(CVXPY) Mar 26 12:02:30 PM: Problem status: optimal\n",
      "(CVXPY) Mar 26 12:02:30 PM: Optimal value: 1.175e+01\n",
      "(CVXPY) Mar 26 12:02:30 PM: Compilation took 1.119e-01 seconds\n",
      "(CVXPY) Mar 26 12:02:30 PM: Solver (including time spent in interface) took 2.484e-01 seconds\n",
      "Optimal value: 11.748617498816547\n",
      "Variable var0: value [ 7.90139524e-01  2.82490210e-02  5.40457546e-04 ...  1.73650358e-03\n",
      "  1.93952487e-04 -8.51400009e-11]\n"
     ]
    }
   ],
   "source": [
    "## We run the optimiser to get the transports between water masses and the T,S mixed and T,S adjustment\n",
    "result = MTM.optimise(tracers=tracers, volumes=volumes, cons_matrix = connected, weights=weights, hard_area = hard_area)\n",
    "\n",
    "g_ij = result['g_ij'] ## An [N x N] matrix of transports between WMs\n",
    "Mixing = result['Mixing'] ## An [M x N] matrix of dtracer mixing for each WM\n",
    "Adjustment = result['Adjustment'] ## An [M x N] matrix of dtracer adjustment for each WM\n",
    "G = result['G'] ## An [ix] matrix of transports between WMs"
   ]
  },
  {
   "cell_type": "code",
   "execution_count": 22,
   "metadata": {},
   "outputs": [
    {
     "name": "stdout",
     "output_type": "stream",
     "text": [
      "6.364637623924389e+18 6.424345102791803e+18\n",
      "dTV_adj =  -5.756991003089268e+17\n",
      "T1V1-T0V0 =  5.970747886741381e+16\n",
      "dTpriorV0 =  6.354066001244215e+17\n",
      "-(T1V1-T0V0)+dTV_adj+dTpriorV0 [x10^10]=  2.0948080896\n",
      "dSV_adj =  -3.408768257397696e+16\n",
      "S1V1-S0V0 =  -74880361090825.75\n",
      "dSpriorV0 =  3.4012801040534924e+16\n",
      "-(S1V1-S0V0)+dSV_adj+dSpriorV0 [x10^10]=  -0.1172351212\n"
     ]
    }
   ],
   "source": [
    "########\n",
    "nofaces = np.count_nonzero(connected)\n",
    "\n",
    "\n",
    "G = np.zeros((int(nofaces)))\n",
    "ix=0\n",
    "for i in (range(N)):\n",
    "    for j in range(N):\n",
    "        if connected[i,j]>0:\n",
    "            G[ix] = g_ij[i,j]\n",
    "            ix=ix+1   \n",
    "\n",
    "\n",
    "Tmatrix=np.zeros((N,int(nofaces)))\n",
    "Smatrix=np.zeros((N,int(nofaces)))\n",
    "\n",
    "ix=0\n",
    "for i in (range(N)):\n",
    "    for j in range(N):\n",
    "        if connected[i,j]>0:\n",
    "            Tmatrix[j,ix] = tracers[0,1,i] #vertex ix brings temp of WM i to WM j\n",
    "            Smatrix[j,ix] = tracers[0,0,i] #vertex ix brings temp of WM i to WM j\n",
    "\n",
    "            ix=ix+1\n",
    "\n",
    "print(volnorming*np.nansum(volumes[0,:]*T_pre), volnorming*np.nansum(volumes[1,:]*T_2))\n",
    "\n",
    "dTV = (volumes[1,:]*T_2)-(volumes[0,:]*T_pre)\n",
    "dTVprior = dT_prior*volumes[0,:]\n",
    "T1V1 = volumes[1,:]*T_2\n",
    "\n",
    "dSV = (volumes[1,:]*S_2)-(volumes[0,:]*S_pre)\n",
    "dSVprior = dS_prior*volumes[0,:]\n",
    "S1V1 = volumes[1,:]*S_2\n",
    "\n",
    "test = ((Tmatrix@G/volumes[1,:]))\n",
    "\n",
    "test[~np.isfinite(test)]= np.nan\n",
    "test[test>100] = np.nan\n",
    "\n",
    "test2  = T_2 - test\n",
    "test2[np.isnan(test2)] = 0\n",
    "\n",
    "print('dTV_adj = ',np.nansum(T1V1*volnorming-Tmatrix@G*volnorming))\n",
    "print('T1V1-T0V0 = ',np.nansum(dTV)*volnorming)\n",
    "print('dTpriorV0 = ',np.nansum(dTVprior)*volnorming)\n",
    "print('-(T1V1-T0V0)+dTV_adj+dTpriorV0 [x10^10]= ',(-np.nansum(dTV)*volnorming+np.nansum(dTVprior)*volnorming+np.nansum(T1V1*volnorming-Tmatrix@G*volnorming))*1e-10)\n",
    "\n",
    "print('dSV_adj = ',np.nansum(S1V1*volnorming-Smatrix@G*volnorming))\n",
    "print('S1V1-S0V0 = ',np.nansum(dSV)*volnorming)\n",
    "print('dSpriorV0 = ',np.nansum(dSVprior)*volnorming)\n",
    "print('-(S1V1-S0V0)+dSV_adj+dSpriorV0 [x10^10]= ',(-np.nansum(dSV)*volnorming+np.nansum(dSVprior)*volnorming+np.nansum(S1V1*volnorming-Smatrix@G*volnorming))*1e-10)"
   ]
  },
  {
   "cell_type": "code",
   "execution_count": null,
   "metadata": {},
   "outputs": [],
   "source": [
    "## Break down the Mixing and Adjustment matrices into their constituent tracers\n",
    "dT_mixing = Mixing[1,:]\n",
    "dS_mixing = Mixing[0,:]\n",
    "dS_adj = Adjustment[0,:]\n",
    "dT_adj = Adjustment[1,:]"
   ]
  },
  {
   "attachments": {},
   "cell_type": "markdown",
   "metadata": {},
   "source": [
    "----------\n",
    "## E) Save Output "
   ]
  },
  {
   "cell_type": "code",
   "execution_count": null,
   "metadata": {},
   "outputs": [],
   "source": [
    "file_path = '../Optimisation_results/ACCESS_CM2_ERA5_Q_prior_transports.nc'"
   ]
  },
  {
   "cell_type": "code",
   "execution_count": null,
   "metadata": {},
   "outputs": [
    {
     "name": "stdout",
     "output_type": "stream",
     "text": [
      "File deleted\n",
      "File saved\n"
     ]
    }
   ],
   "source": [
    "import os\n",
    "if os.path.exists(file_path):\n",
    "   os.remove(file_path)\n",
    "   print('File deleted')\n",
    "\n",
    "da_dT_mixing = xr.DataArray(data = dT_mixing, dims = [\"WM_number\"],\n",
    "                           coords=dict(WM_number = np.arange(0,N)),\n",
    "                        attrs=dict(description=\"Temperature Mixing\", units=\"\\Delta K\", variable_id=\"EN4 Tmix\"))\n",
    "da_dS_mixing = xr.DataArray(data = dS_mixing, dims = [\"WM_number\"],\n",
    "                           coords=dict(WM_number = np.arange(0,N)),\n",
    "                        attrs=dict(description=\"Salinity Mixing\", units=\"\\Delta g/kg\", variable_id=\"EN4 Smix\"))\n",
    "da_dT_adjustment = xr.DataArray(data = dT_adj, dims = [\"WM_number\"],\n",
    "                           coords=dict(WM_number = np.arange(0,N)),\n",
    "                        attrs=dict(description=\"Temperature Adjustment\", units=\"\\Delta K\", variable_id=\"EN4 Tadj\"))\n",
    "da_dS_adjustment = xr.DataArray(data = dS_adj, dims = [\"WM_number\"],\n",
    "                           coords=dict(WM_number = np.arange(0,N)),\n",
    "                        attrs=dict(description=\"Salinity Adjustment\", units=\"\\Delta g/kg\", variable_id=\"EN4 Sadj\"))\n",
    "da_gij = xr.DataArray(data = g_ij*volnorming, dims = [\"WM_initial\", \"WM_final\"],\n",
    "                           coords=dict(WM_initial = np.arange(0,N), WM_final = np.arange(0,N)),\n",
    "                        attrs=dict(description=\"Volume transport\", units=\"m^3\", variable_id=\"EN4 Gij\"))\n",
    "\n",
    "## Create xarray DataSet that will hold all these DataArrays\n",
    "ds_BSP = xr.Dataset()\n",
    "ds_BSP['dT_mixing'] = da_dT_mixing\n",
    "ds_BSP['dS_mixing'] = da_dS_mixing\n",
    "ds_BSP['dT_adjustment'] = da_dT_adjustment\n",
    "ds_BSP['dS_adjustment'] = da_dS_adjustment\n",
    "ds_BSP['gij'] = da_gij\n",
    "\n",
    "ds_BSP.to_netcdf(file_path, mode='w')\n",
    "print('File saved')\n"
   ]
  },
  {
   "cell_type": "code",
   "execution_count": null,
   "metadata": {},
   "outputs": [],
   "source": []
  }
 ],
 "metadata": {
  "kernelspec": {
   "display_name": "Python 3.7.6 ('base')",
   "language": "python",
   "name": "python3"
  },
  "language_info": {
   "codemirror_mode": {
    "name": "ipython",
    "version": 3
   },
   "file_extension": ".py",
   "mimetype": "text/x-python",
   "name": "python",
   "nbconvert_exporter": "python",
   "pygments_lexer": "ipython3",
   "version": "3.7.6"
  },
  "vscode": {
   "interpreter": {
    "hash": "00ec6b5807eb4cae4bdd23e758d78199b5749ea4aa251c45b926838befc3bdc7"
   }
  }
 },
 "nbformat": 4,
 "nbformat_minor": 2
}
